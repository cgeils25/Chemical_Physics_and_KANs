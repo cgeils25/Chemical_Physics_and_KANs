{
 "cells": [
  {
   "cell_type": "markdown",
   "id": "926cfee6-1035-47f4-a665-3345b77ea67d",
   "metadata": {},
   "source": [
    "This is my initial notebook in which I'll be attempting to apply KANs to the dataset from the following paper: https://pubs-acs-org.pallas2.tcl.sc.edu/doi/10.1021/ci034243x"
   ]
  },
  {
   "cell_type": "code",
   "execution_count": null,
   "id": "839e8d01-4ed8-4b70-98cd-abf15f565f7c",
   "metadata": {},
   "outputs": [],
   "source": [
    "import pandas as pd\n",
    "import numpy as np\n",
    "import matplotlib.pyplot as plt\n",
    "import seaborn as sns"
   ]
  }
 ],
 "metadata": {
  "kernelspec": {
   "display_name": "Python 3 (ipykernel)",
   "language": "python",
   "name": "python3"
  },
  "language_info": {
   "codemirror_mode": {
    "name": "ipython",
    "version": 3
   },
   "file_extension": ".py",
   "mimetype": "text/x-python",
   "name": "python",
   "nbconvert_exporter": "python",
   "pygments_lexer": "ipython3",
   "version": "3.12.6"
  }
 },
 "nbformat": 4,
 "nbformat_minor": 5
}
