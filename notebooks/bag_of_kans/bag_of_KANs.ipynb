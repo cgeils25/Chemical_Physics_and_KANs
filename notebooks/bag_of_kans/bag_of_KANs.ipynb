{
 "cells": [
  {
   "cell_type": "markdown",
   "metadata": {},
   "source": [
    "In this notebook I experiment with bootstrap aggregation (bagging) to improve the performance of KANs on the test set and reduce variance / overfitting / sensitivity to extreme values.\n",
    "\n",
    "This is primarily motivated by my reading of Elements of Statistical Learning 2nd Ed. Chapter 8, which details the use of the bootstrap."
   ]
  },
  {
   "cell_type": "code",
   "execution_count": 173,
   "metadata": {},
   "outputs": [],
   "source": [
    "import sys\n",
    "sys.path.append(\"../..\")"
   ]
  },
  {
   "cell_type": "code",
   "execution_count": 174,
   "metadata": {},
   "outputs": [],
   "source": [
    "options = {\n",
    "    'test_size': 0.2,\n",
    "    'num_bootstrap_samples': 25,\n",
    "    'random_seed': 1738,\n",
    "    'num_train_iterations': 500,\n",
    "    'num_repetitions': 10\n",
    "}"
   ]
  },
  {
   "cell_type": "code",
   "execution_count": 175,
   "metadata": {},
   "outputs": [],
   "source": [
    "import numpy as np\n",
    "import torch\n",
    "import torch.nn.functional as F\n",
    "import polars as pl\n",
    "import matplotlib.pyplot as plt\n",
    "\n",
    "from sklearn.model_selection import GroupShuffleSplit\n",
    "\n",
    "from train import train_regression\n",
    "\n",
    "from utils.data_utils import get_all_descriptors_from_smiles_list, get_scaffolds, DESCRIPTOR_NAMES\n",
    "from utils.evaluation_utils import regression_report"
   ]
  },
  {
   "cell_type": "code",
   "execution_count": 176,
   "metadata": {},
   "outputs": [
    {
     "data": {
      "text/html": [
       "<div><style>\n",
       ".dataframe > thead > tr,\n",
       ".dataframe > tbody > tr {\n",
       "  text-align: right;\n",
       "  white-space: pre-wrap;\n",
       "}\n",
       "</style>\n",
       "<small>shape: (5, 4)</small><table border=\"1\" class=\"dataframe\"><thead><tr><th>Compound ID</th><th>measured log(solubility:mol/L)</th><th>ESOL predicted log(solubility:mol/L)</th><th>SMILES</th></tr><tr><td>str</td><td>f64</td><td>f64</td><td>str</td></tr></thead><tbody><tr><td>&quot;1,1,1,2-Tetrachloroethane&quot;</td><td>-2.18</td><td>-2.794</td><td>&quot;ClCC(Cl)(Cl)Cl&quot;</td></tr><tr><td>&quot;1,1,1-Trichloroethane&quot;</td><td>-2.0</td><td>-2.232</td><td>&quot;CC(Cl)(Cl)Cl&quot;</td></tr><tr><td>&quot;1,1,2,2-Tetrachloroethane&quot;</td><td>-1.74</td><td>-2.549</td><td>&quot;ClC(Cl)C(Cl)Cl&quot;</td></tr><tr><td>&quot;1,1,2-Trichloroethane&quot;</td><td>-1.48</td><td>-1.961</td><td>&quot;ClCC(Cl)Cl&quot;</td></tr><tr><td>&quot;1,1,2-Trichlorotrifluoroethane&quot;</td><td>-3.04</td><td>-3.077</td><td>&quot;FC(F)(Cl)C(F)(Cl)Cl&quot;</td></tr></tbody></table></div>"
      ],
      "text/plain": [
       "shape: (5, 4)\n",
       "┌─────────────────────────────────┬───────────────────────┬──────────────────┬─────────────────────┐\n",
       "│ Compound ID                     ┆ measured              ┆ ESOL predicted   ┆ SMILES              │\n",
       "│ ---                             ┆ log(solubility:mol/L) ┆ log(solubility:… ┆ ---                 │\n",
       "│ str                             ┆ ---                   ┆ ---              ┆ str                 │\n",
       "│                                 ┆ f64                   ┆ f64              ┆                     │\n",
       "╞═════════════════════════════════╪═══════════════════════╪══════════════════╪═════════════════════╡\n",
       "│ 1,1,1,2-Tetrachloroethane       ┆ -2.18                 ┆ -2.794           ┆ ClCC(Cl)(Cl)Cl      │\n",
       "│ 1,1,1-Trichloroethane           ┆ -2.0                  ┆ -2.232           ┆ CC(Cl)(Cl)Cl        │\n",
       "│ 1,1,2,2-Tetrachloroethane       ┆ -1.74                 ┆ -2.549           ┆ ClC(Cl)C(Cl)Cl      │\n",
       "│ 1,1,2-Trichloroethane           ┆ -1.48                 ┆ -1.961           ┆ ClCC(Cl)Cl          │\n",
       "│ 1,1,2-Trichlorotrifluoroethane  ┆ -3.04                 ┆ -3.077           ┆ FC(F)(Cl)C(F)(Cl)Cl │\n",
       "└─────────────────────────────────┴───────────────────────┴──────────────────┴─────────────────────┘"
      ]
     },
     "execution_count": 176,
     "metadata": {},
     "output_type": "execute_result"
    }
   ],
   "source": [
    "filepath = '../../datasets/aqueous_solubility_delaney.csv'\n",
    "df_delaney = pl.read_csv(filepath)\n",
    "df_delaney.head()"
   ]
  },
  {
   "cell_type": "code",
   "execution_count": 177,
   "metadata": {},
   "outputs": [],
   "source": [
    "smiles = df_delaney['SMILES'].to_list()"
   ]
  },
  {
   "cell_type": "code",
   "execution_count": 178,
   "metadata": {},
   "outputs": [
    {
     "name": "stderr",
     "output_type": "stream",
     "text": [
      "Calculating descriptors:   0%|          | 0/1144 [00:00<?, ?it/s]"
     ]
    },
    {
     "name": "stderr",
     "output_type": "stream",
     "text": [
      "Calculating descriptors: 100%|██████████| 1144/1144 [00:06<00:00, 176.62it/s]\n"
     ]
    }
   ],
   "source": [
    "descriptors_df = get_all_descriptors_from_smiles_list(smiles, as_polars=True)"
   ]
  },
  {
   "cell_type": "code",
   "execution_count": 179,
   "metadata": {},
   "outputs": [
    {
     "data": {
      "text/html": [
       "<div><style>\n",
       ".dataframe > thead > tr,\n",
       ".dataframe > tbody > tr {\n",
       "  text-align: right;\n",
       "  white-space: pre-wrap;\n",
       "}\n",
       "</style>\n",
       "<small>shape: (5, 220)</small><table border=\"1\" class=\"dataframe\"><thead><tr><th>Compound ID</th><th>measured log(solubility:mol/L)</th><th>SMILES</th><th>MaxAbsEStateIndex</th><th>MaxEStateIndex</th><th>MinAbsEStateIndex</th><th>MinEStateIndex</th><th>qed</th><th>SPS</th><th>MolWt</th><th>HeavyAtomMolWt</th><th>ExactMolWt</th><th>NumValenceElectrons</th><th>NumRadicalElectrons</th><th>MaxPartialCharge</th><th>MinPartialCharge</th><th>MaxAbsPartialCharge</th><th>MinAbsPartialCharge</th><th>FpDensityMorgan1</th><th>FpDensityMorgan2</th><th>FpDensityMorgan3</th><th>BCUT2D_MWHI</th><th>BCUT2D_MWLOW</th><th>BCUT2D_CHGHI</th><th>BCUT2D_CHGLO</th><th>BCUT2D_LOGPHI</th><th>BCUT2D_LOGPLOW</th><th>BCUT2D_MRHI</th><th>BCUT2D_MRLOW</th><th>AvgIpc</th><th>BalabanJ</th><th>BertzCT</th><th>Chi0</th><th>Chi0n</th><th>Chi0v</th><th>Chi1</th><th>Chi1n</th><th>&hellip;</th><th>fr_imide</th><th>fr_isocyan</th><th>fr_isothiocyan</th><th>fr_ketone</th><th>fr_ketone_Topliss</th><th>fr_lactam</th><th>fr_lactone</th><th>fr_methoxy</th><th>fr_morpholine</th><th>fr_nitrile</th><th>fr_nitro</th><th>fr_nitro_arom</th><th>fr_nitro_arom_nonortho</th><th>fr_nitroso</th><th>fr_oxazole</th><th>fr_oxime</th><th>fr_para_hydroxylation</th><th>fr_phenol</th><th>fr_phenol_noOrthoHbond</th><th>fr_phos_acid</th><th>fr_phos_ester</th><th>fr_piperdine</th><th>fr_piperzine</th><th>fr_priamide</th><th>fr_prisulfonamd</th><th>fr_pyridine</th><th>fr_quatN</th><th>fr_sulfide</th><th>fr_sulfonamd</th><th>fr_sulfone</th><th>fr_term_acetylene</th><th>fr_tetrazole</th><th>fr_thiazole</th><th>fr_thiocyan</th><th>fr_thiophene</th><th>fr_unbrch_alkane</th><th>fr_urea</th></tr><tr><td>str</td><td>f64</td><td>str</td><td>f64</td><td>f64</td><td>f64</td><td>f64</td><td>f64</td><td>f64</td><td>f64</td><td>f64</td><td>f64</td><td>f64</td><td>f64</td><td>f64</td><td>f64</td><td>f64</td><td>f64</td><td>f64</td><td>f64</td><td>f64</td><td>f64</td><td>f64</td><td>f64</td><td>f64</td><td>f64</td><td>f64</td><td>f64</td><td>f64</td><td>f64</td><td>f64</td><td>f64</td><td>f64</td><td>f64</td><td>f64</td><td>f64</td><td>f64</td><td>&hellip;</td><td>f64</td><td>f64</td><td>f64</td><td>f64</td><td>f64</td><td>f64</td><td>f64</td><td>f64</td><td>f64</td><td>f64</td><td>f64</td><td>f64</td><td>f64</td><td>f64</td><td>f64</td><td>f64</td><td>f64</td><td>f64</td><td>f64</td><td>f64</td><td>f64</td><td>f64</td><td>f64</td><td>f64</td><td>f64</td><td>f64</td><td>f64</td><td>f64</td><td>f64</td><td>f64</td><td>f64</td><td>f64</td><td>f64</td><td>f64</td><td>f64</td><td>f64</td><td>f64</td></tr></thead><tbody><tr><td>&quot;1,1,1,2-Tetrachloroethane&quot;</td><td>-2.18</td><td>&quot;ClCC(Cl)(Cl)Cl&quot;</td><td>5.116512</td><td>5.116512</td><td>0.039352</td><td>-1.276235</td><td>0.487138</td><td>12.0</td><td>167.85</td><td>165.834</td><td>165.891061</td><td>38.0</td><td>0.0</td><td>0.203436</td><td>-0.122063</td><td>0.203436</td><td>0.122063</td><td>1.166667</td><td>1.333333</td><td>1.333333</td><td>35.582798</td><td>10.92878</td><td>2.155416</td><td>-2.003515</td><td>2.259665</td><td>-2.010232</td><td>6.690915</td><td>1.27955</td><td>1.351644</td><td>3.16849</td><td>35.302969</td><td>5.207107</td><td>2.718965</td><td>5.74268</td><td>2.56066</td><td>1.187761</td><td>&hellip;</td><td>0.0</td><td>0.0</td><td>0.0</td><td>0.0</td><td>0.0</td><td>0.0</td><td>0.0</td><td>0.0</td><td>0.0</td><td>0.0</td><td>0.0</td><td>0.0</td><td>0.0</td><td>0.0</td><td>0.0</td><td>0.0</td><td>0.0</td><td>0.0</td><td>0.0</td><td>0.0</td><td>0.0</td><td>0.0</td><td>0.0</td><td>0.0</td><td>0.0</td><td>0.0</td><td>0.0</td><td>0.0</td><td>0.0</td><td>0.0</td><td>0.0</td><td>0.0</td><td>0.0</td><td>0.0</td><td>0.0</td><td>0.0</td><td>0.0</td></tr><tr><td>&quot;1,1,1-Trichloroethane&quot;</td><td>-2.0</td><td>&quot;CC(Cl)(Cl)Cl&quot;</td><td>5.060957</td><td>5.060957</td><td>1.083333</td><td>-1.083333</td><td>0.445171</td><td>12.0</td><td>133.405</td><td>130.381</td><td>131.930033</td><td>32.0</td><td>0.0</td><td>0.187382</td><td>-0.084013</td><td>0.187382</td><td>0.084013</td><td>1.2</td><td>1.2</td><td>1.2</td><td>35.582513</td><td>10.948044</td><td>2.065641</td><td>-1.94269</td><td>2.228454</td><td>-1.870955</td><td>6.667091</td><td>1.268178</td><td>0.721928</td><td>3.023716</td><td>20.364528</td><td>4.5</td><td>2.633893</td><td>4.90168</td><td>2.0</td><td>1.066947</td><td>&hellip;</td><td>0.0</td><td>0.0</td><td>0.0</td><td>0.0</td><td>0.0</td><td>0.0</td><td>0.0</td><td>0.0</td><td>0.0</td><td>0.0</td><td>0.0</td><td>0.0</td><td>0.0</td><td>0.0</td><td>0.0</td><td>0.0</td><td>0.0</td><td>0.0</td><td>0.0</td><td>0.0</td><td>0.0</td><td>0.0</td><td>0.0</td><td>0.0</td><td>0.0</td><td>0.0</td><td>0.0</td><td>0.0</td><td>0.0</td><td>0.0</td><td>0.0</td><td>0.0</td><td>0.0</td><td>0.0</td><td>0.0</td><td>0.0</td><td>0.0</td></tr><tr><td>&quot;1,1,2,2-Tetrachloroethane&quot;</td><td>-1.74</td><td>&quot;ClC(Cl)C(Cl)Cl&quot;</td><td>5.114198</td><td>5.114198</td><td>0.67284</td><td>-0.67284</td><td>0.527312</td><td>11.0</td><td>167.85</td><td>165.834</td><td>165.891061</td><td>38.0</td><td>0.0</td><td>0.137344</td><td>-0.102365</td><td>0.137344</td><td>0.102365</td><td>0.666667</td><td>0.833333</td><td>0.833333</td><td>35.544933</td><td>10.929605</td><td>2.063775</td><td>-1.94593</td><td>2.160253</td><td>-1.959015</td><td>6.563502</td><td>1.293168</td><td>1.360964</td><td>2.993497</td><td>26.529325</td><td>5.154701</td><td>2.666558</td><td>5.690274</td><td>2.642734</td><td>1.206205</td><td>&hellip;</td><td>0.0</td><td>0.0</td><td>0.0</td><td>0.0</td><td>0.0</td><td>0.0</td><td>0.0</td><td>0.0</td><td>0.0</td><td>0.0</td><td>0.0</td><td>0.0</td><td>0.0</td><td>0.0</td><td>0.0</td><td>0.0</td><td>0.0</td><td>0.0</td><td>0.0</td><td>0.0</td><td>0.0</td><td>0.0</td><td>0.0</td><td>0.0</td><td>0.0</td><td>0.0</td><td>0.0</td><td>0.0</td><td>0.0</td><td>0.0</td><td>0.0</td><td>0.0</td><td>0.0</td><td>0.0</td><td>0.0</td><td>0.0</td><td>0.0</td></tr><tr><td>&quot;1,1,2-Trichloroethane&quot;</td><td>-1.48</td><td>&quot;ClCC(Cl)Cl&quot;</td><td>5.095679</td><td>5.095679</td><td>0.308642</td><td>-0.405864</td><td>0.480258</td><td>9.6</td><td>133.405</td><td>130.381</td><td>131.930033</td><td>32.0</td><td>0.0</td><td>0.120829</td><td>-0.123772</td><td>0.123772</td><td>0.120829</td><td>1.4</td><td>1.6</td><td>1.6</td><td>35.539546</td><td>10.949696</td><td>1.882355</td><td>-1.820706</td><td>2.007265</td><td>-1.820631</td><td>6.469236</td><td>1.398333</td><td>1.378783</td><td>2.539539</td><td>18.854753</td><td>4.284457</td><td>2.41835</td><td>4.686137</td><td>2.270056</td><td>1.111945</td><td>&hellip;</td><td>0.0</td><td>0.0</td><td>0.0</td><td>0.0</td><td>0.0</td><td>0.0</td><td>0.0</td><td>0.0</td><td>0.0</td><td>0.0</td><td>0.0</td><td>0.0</td><td>0.0</td><td>0.0</td><td>0.0</td><td>0.0</td><td>0.0</td><td>0.0</td><td>0.0</td><td>0.0</td><td>0.0</td><td>0.0</td><td>0.0</td><td>0.0</td><td>0.0</td><td>0.0</td><td>0.0</td><td>0.0</td><td>0.0</td><td>0.0</td><td>0.0</td><td>0.0</td><td>0.0</td><td>0.0</td><td>0.0</td><td>0.0</td><td>0.0</td></tr><tr><td>&quot;1,1,2-Trichlorotrifluoroethane&quot;</td><td>-3.04</td><td>&quot;FC(F)(Cl)C(F)(Cl)Cl&quot;</td><td>11.544753</td><td>11.544753</td><td>3.685957</td><td>-4.22608</td><td>0.553756</td><td>14.25</td><td>187.375</td><td>187.375</td><td>185.901768</td><td>50.0</td><td>0.0</td><td>0.382976</td><td>-0.199489</td><td>0.382976</td><td>0.199489</td><td>0.875</td><td>1.0</td><td>1.0</td><td>35.539783</td><td>10.767629</td><td>2.506738</td><td>-2.131584</td><td>2.420075</td><td>-2.268487</td><td>6.509766</td><td>0.024089</td><td>1.253298</td><td>4.020392</td><td>67.509775</td><td>7.0</td><td>3.267787</td><td>5.535574</td><td>3.25</td><td>1.383893</td><td>&hellip;</td><td>0.0</td><td>0.0</td><td>0.0</td><td>0.0</td><td>0.0</td><td>0.0</td><td>0.0</td><td>0.0</td><td>0.0</td><td>0.0</td><td>0.0</td><td>0.0</td><td>0.0</td><td>0.0</td><td>0.0</td><td>0.0</td><td>0.0</td><td>0.0</td><td>0.0</td><td>0.0</td><td>0.0</td><td>0.0</td><td>0.0</td><td>0.0</td><td>0.0</td><td>0.0</td><td>0.0</td><td>0.0</td><td>0.0</td><td>0.0</td><td>0.0</td><td>0.0</td><td>0.0</td><td>0.0</td><td>0.0</td><td>0.0</td><td>0.0</td></tr></tbody></table></div>"
      ],
      "text/plain": [
       "shape: (5, 220)\n",
       "┌────────────┬───────────┬───────────┬───────────┬───┬───────────┬───────────┬───────────┬─────────┐\n",
       "│ Compound   ┆ measured  ┆ SMILES    ┆ MaxAbsESt ┆ … ┆ fr_thiocy ┆ fr_thioph ┆ fr_unbrch ┆ fr_urea │\n",
       "│ ID         ┆ log(solub ┆ ---       ┆ ateIndex  ┆   ┆ an        ┆ ene       ┆ _alkane   ┆ ---     │\n",
       "│ ---        ┆ ility:mol ┆ str       ┆ ---       ┆   ┆ ---       ┆ ---       ┆ ---       ┆ f64     │\n",
       "│ str        ┆ /L)       ┆           ┆ f64       ┆   ┆ f64       ┆ f64       ┆ f64       ┆         │\n",
       "│            ┆ ---       ┆           ┆           ┆   ┆           ┆           ┆           ┆         │\n",
       "│            ┆ f64       ┆           ┆           ┆   ┆           ┆           ┆           ┆         │\n",
       "╞════════════╪═══════════╪═══════════╪═══════════╪═══╪═══════════╪═══════════╪═══════════╪═════════╡\n",
       "│ 1,1,1,2-Te ┆ -2.18     ┆ ClCC(Cl)( ┆ 5.116512  ┆ … ┆ 0.0       ┆ 0.0       ┆ 0.0       ┆ 0.0     │\n",
       "│ trachloroe ┆           ┆ Cl)Cl     ┆           ┆   ┆           ┆           ┆           ┆         │\n",
       "│ thane      ┆           ┆           ┆           ┆   ┆           ┆           ┆           ┆         │\n",
       "│ 1,1,1-Tric ┆ -2.0      ┆ CC(Cl)(Cl ┆ 5.060957  ┆ … ┆ 0.0       ┆ 0.0       ┆ 0.0       ┆ 0.0     │\n",
       "│ hloroethan ┆           ┆ )Cl       ┆           ┆   ┆           ┆           ┆           ┆         │\n",
       "│ e          ┆           ┆           ┆           ┆   ┆           ┆           ┆           ┆         │\n",
       "│ 1,1,2,2-Te ┆ -1.74     ┆ ClC(Cl)C( ┆ 5.114198  ┆ … ┆ 0.0       ┆ 0.0       ┆ 0.0       ┆ 0.0     │\n",
       "│ trachloroe ┆           ┆ Cl)Cl     ┆           ┆   ┆           ┆           ┆           ┆         │\n",
       "│ thane      ┆           ┆           ┆           ┆   ┆           ┆           ┆           ┆         │\n",
       "│ 1,1,2-Tric ┆ -1.48     ┆ ClCC(Cl)C ┆ 5.095679  ┆ … ┆ 0.0       ┆ 0.0       ┆ 0.0       ┆ 0.0     │\n",
       "│ hloroethan ┆           ┆ l         ┆           ┆   ┆           ┆           ┆           ┆         │\n",
       "│ e          ┆           ┆           ┆           ┆   ┆           ┆           ┆           ┆         │\n",
       "│ 1,1,2-Tric ┆ -3.04     ┆ FC(F)(Cl) ┆ 11.544753 ┆ … ┆ 0.0       ┆ 0.0       ┆ 0.0       ┆ 0.0     │\n",
       "│ hlorotrifl ┆           ┆ C(F)(Cl)C ┆           ┆   ┆           ┆           ┆           ┆         │\n",
       "│ uoroethane ┆           ┆ l         ┆           ┆   ┆           ┆           ┆           ┆         │\n",
       "└────────────┴───────────┴───────────┴───────────┴───┴───────────┴───────────┴───────────┴─────────┘"
      ]
     },
     "execution_count": 179,
     "metadata": {},
     "output_type": "execute_result"
    }
   ],
   "source": [
    "df = pl.concat([df_delaney, descriptors_df], how='horizontal').drop('ESOL predicted log(solubility:mol/L)')\n",
    "\n",
    "del df_delaney, descriptors_df\n",
    "\n",
    "df.head()"
   ]
  },
  {
   "cell_type": "code",
   "execution_count": 180,
   "metadata": {},
   "outputs": [
    {
     "data": {
      "text/html": [
       "<div><style>\n",
       ".dataframe > thead > tr,\n",
       ".dataframe > tbody > tr {\n",
       "  text-align: right;\n",
       "  white-space: pre-wrap;\n",
       "}\n",
       "</style>\n",
       "<small>shape: (1_144, 221)</small><table border=\"1\" class=\"dataframe\"><thead><tr><th>Compound ID</th><th>measured log(solubility:mol/L)</th><th>SMILES</th><th>scaffolds</th><th>MaxAbsEStateIndex</th><th>MaxEStateIndex</th><th>MinAbsEStateIndex</th><th>MinEStateIndex</th><th>qed</th><th>SPS</th><th>MolWt</th><th>HeavyAtomMolWt</th><th>ExactMolWt</th><th>NumValenceElectrons</th><th>NumRadicalElectrons</th><th>MaxPartialCharge</th><th>MinPartialCharge</th><th>MaxAbsPartialCharge</th><th>MinAbsPartialCharge</th><th>FpDensityMorgan1</th><th>FpDensityMorgan2</th><th>FpDensityMorgan3</th><th>BCUT2D_MWHI</th><th>BCUT2D_MWLOW</th><th>BCUT2D_CHGHI</th><th>BCUT2D_CHGLO</th><th>BCUT2D_LOGPHI</th><th>BCUT2D_LOGPLOW</th><th>BCUT2D_MRHI</th><th>BCUT2D_MRLOW</th><th>AvgIpc</th><th>BalabanJ</th><th>BertzCT</th><th>Chi0</th><th>Chi0n</th><th>Chi0v</th><th>Chi1</th><th>&hellip;</th><th>fr_imide</th><th>fr_isocyan</th><th>fr_isothiocyan</th><th>fr_ketone</th><th>fr_ketone_Topliss</th><th>fr_lactam</th><th>fr_lactone</th><th>fr_methoxy</th><th>fr_morpholine</th><th>fr_nitrile</th><th>fr_nitro</th><th>fr_nitro_arom</th><th>fr_nitro_arom_nonortho</th><th>fr_nitroso</th><th>fr_oxazole</th><th>fr_oxime</th><th>fr_para_hydroxylation</th><th>fr_phenol</th><th>fr_phenol_noOrthoHbond</th><th>fr_phos_acid</th><th>fr_phos_ester</th><th>fr_piperdine</th><th>fr_piperzine</th><th>fr_priamide</th><th>fr_prisulfonamd</th><th>fr_pyridine</th><th>fr_quatN</th><th>fr_sulfide</th><th>fr_sulfonamd</th><th>fr_sulfone</th><th>fr_term_acetylene</th><th>fr_tetrazole</th><th>fr_thiazole</th><th>fr_thiocyan</th><th>fr_thiophene</th><th>fr_unbrch_alkane</th><th>fr_urea</th></tr><tr><td>str</td><td>f64</td><td>str</td><td>str</td><td>f64</td><td>f64</td><td>f64</td><td>f64</td><td>f64</td><td>f64</td><td>f64</td><td>f64</td><td>f64</td><td>f64</td><td>f64</td><td>f64</td><td>f64</td><td>f64</td><td>f64</td><td>f64</td><td>f64</td><td>f64</td><td>f64</td><td>f64</td><td>f64</td><td>f64</td><td>f64</td><td>f64</td><td>f64</td><td>f64</td><td>f64</td><td>f64</td><td>f64</td><td>f64</td><td>f64</td><td>f64</td><td>f64</td><td>&hellip;</td><td>f64</td><td>f64</td><td>f64</td><td>f64</td><td>f64</td><td>f64</td><td>f64</td><td>f64</td><td>f64</td><td>f64</td><td>f64</td><td>f64</td><td>f64</td><td>f64</td><td>f64</td><td>f64</td><td>f64</td><td>f64</td><td>f64</td><td>f64</td><td>f64</td><td>f64</td><td>f64</td><td>f64</td><td>f64</td><td>f64</td><td>f64</td><td>f64</td><td>f64</td><td>f64</td><td>f64</td><td>f64</td><td>f64</td><td>f64</td><td>f64</td><td>f64</td><td>f64</td></tr></thead><tbody><tr><td>&quot;1,1,1,2-Tetrachloroethane&quot;</td><td>-2.18</td><td>&quot;ClCC(Cl)(Cl)Cl&quot;</td><td>&quot;no_scaffold_0&quot;</td><td>5.116512</td><td>5.116512</td><td>0.039352</td><td>-1.276235</td><td>0.487138</td><td>12.0</td><td>167.85</td><td>165.834</td><td>165.891061</td><td>38.0</td><td>0.0</td><td>0.203436</td><td>-0.122063</td><td>0.203436</td><td>0.122063</td><td>1.166667</td><td>1.333333</td><td>1.333333</td><td>35.582798</td><td>10.92878</td><td>2.155416</td><td>-2.003515</td><td>2.259665</td><td>-2.010232</td><td>6.690915</td><td>1.27955</td><td>1.351644</td><td>3.16849</td><td>35.302969</td><td>5.207107</td><td>2.718965</td><td>5.74268</td><td>2.56066</td><td>&hellip;</td><td>0.0</td><td>0.0</td><td>0.0</td><td>0.0</td><td>0.0</td><td>0.0</td><td>0.0</td><td>0.0</td><td>0.0</td><td>0.0</td><td>0.0</td><td>0.0</td><td>0.0</td><td>0.0</td><td>0.0</td><td>0.0</td><td>0.0</td><td>0.0</td><td>0.0</td><td>0.0</td><td>0.0</td><td>0.0</td><td>0.0</td><td>0.0</td><td>0.0</td><td>0.0</td><td>0.0</td><td>0.0</td><td>0.0</td><td>0.0</td><td>0.0</td><td>0.0</td><td>0.0</td><td>0.0</td><td>0.0</td><td>0.0</td><td>0.0</td></tr><tr><td>&quot;1,1,1-Trichloroethane&quot;</td><td>-2.0</td><td>&quot;CC(Cl)(Cl)Cl&quot;</td><td>&quot;no_scaffold_1&quot;</td><td>5.060957</td><td>5.060957</td><td>1.083333</td><td>-1.083333</td><td>0.445171</td><td>12.0</td><td>133.405</td><td>130.381</td><td>131.930033</td><td>32.0</td><td>0.0</td><td>0.187382</td><td>-0.084013</td><td>0.187382</td><td>0.084013</td><td>1.2</td><td>1.2</td><td>1.2</td><td>35.582513</td><td>10.948044</td><td>2.065641</td><td>-1.94269</td><td>2.228454</td><td>-1.870955</td><td>6.667091</td><td>1.268178</td><td>0.721928</td><td>3.023716</td><td>20.364528</td><td>4.5</td><td>2.633893</td><td>4.90168</td><td>2.0</td><td>&hellip;</td><td>0.0</td><td>0.0</td><td>0.0</td><td>0.0</td><td>0.0</td><td>0.0</td><td>0.0</td><td>0.0</td><td>0.0</td><td>0.0</td><td>0.0</td><td>0.0</td><td>0.0</td><td>0.0</td><td>0.0</td><td>0.0</td><td>0.0</td><td>0.0</td><td>0.0</td><td>0.0</td><td>0.0</td><td>0.0</td><td>0.0</td><td>0.0</td><td>0.0</td><td>0.0</td><td>0.0</td><td>0.0</td><td>0.0</td><td>0.0</td><td>0.0</td><td>0.0</td><td>0.0</td><td>0.0</td><td>0.0</td><td>0.0</td><td>0.0</td></tr><tr><td>&quot;1,1,2,2-Tetrachloroethane&quot;</td><td>-1.74</td><td>&quot;ClC(Cl)C(Cl)Cl&quot;</td><td>&quot;no_scaffold_2&quot;</td><td>5.114198</td><td>5.114198</td><td>0.67284</td><td>-0.67284</td><td>0.527312</td><td>11.0</td><td>167.85</td><td>165.834</td><td>165.891061</td><td>38.0</td><td>0.0</td><td>0.137344</td><td>-0.102365</td><td>0.137344</td><td>0.102365</td><td>0.666667</td><td>0.833333</td><td>0.833333</td><td>35.544933</td><td>10.929605</td><td>2.063775</td><td>-1.94593</td><td>2.160253</td><td>-1.959015</td><td>6.563502</td><td>1.293168</td><td>1.360964</td><td>2.993497</td><td>26.529325</td><td>5.154701</td><td>2.666558</td><td>5.690274</td><td>2.642734</td><td>&hellip;</td><td>0.0</td><td>0.0</td><td>0.0</td><td>0.0</td><td>0.0</td><td>0.0</td><td>0.0</td><td>0.0</td><td>0.0</td><td>0.0</td><td>0.0</td><td>0.0</td><td>0.0</td><td>0.0</td><td>0.0</td><td>0.0</td><td>0.0</td><td>0.0</td><td>0.0</td><td>0.0</td><td>0.0</td><td>0.0</td><td>0.0</td><td>0.0</td><td>0.0</td><td>0.0</td><td>0.0</td><td>0.0</td><td>0.0</td><td>0.0</td><td>0.0</td><td>0.0</td><td>0.0</td><td>0.0</td><td>0.0</td><td>0.0</td><td>0.0</td></tr><tr><td>&quot;1,1,2-Trichloroethane&quot;</td><td>-1.48</td><td>&quot;ClCC(Cl)Cl&quot;</td><td>&quot;no_scaffold_3&quot;</td><td>5.095679</td><td>5.095679</td><td>0.308642</td><td>-0.405864</td><td>0.480258</td><td>9.6</td><td>133.405</td><td>130.381</td><td>131.930033</td><td>32.0</td><td>0.0</td><td>0.120829</td><td>-0.123772</td><td>0.123772</td><td>0.120829</td><td>1.4</td><td>1.6</td><td>1.6</td><td>35.539546</td><td>10.949696</td><td>1.882355</td><td>-1.820706</td><td>2.007265</td><td>-1.820631</td><td>6.469236</td><td>1.398333</td><td>1.378783</td><td>2.539539</td><td>18.854753</td><td>4.284457</td><td>2.41835</td><td>4.686137</td><td>2.270056</td><td>&hellip;</td><td>0.0</td><td>0.0</td><td>0.0</td><td>0.0</td><td>0.0</td><td>0.0</td><td>0.0</td><td>0.0</td><td>0.0</td><td>0.0</td><td>0.0</td><td>0.0</td><td>0.0</td><td>0.0</td><td>0.0</td><td>0.0</td><td>0.0</td><td>0.0</td><td>0.0</td><td>0.0</td><td>0.0</td><td>0.0</td><td>0.0</td><td>0.0</td><td>0.0</td><td>0.0</td><td>0.0</td><td>0.0</td><td>0.0</td><td>0.0</td><td>0.0</td><td>0.0</td><td>0.0</td><td>0.0</td><td>0.0</td><td>0.0</td><td>0.0</td></tr><tr><td>&quot;1,1,2-Trichlorotrifluoroethane&quot;</td><td>-3.04</td><td>&quot;FC(F)(Cl)C(F)(Cl)Cl&quot;</td><td>&quot;no_scaffold_4&quot;</td><td>11.544753</td><td>11.544753</td><td>3.685957</td><td>-4.22608</td><td>0.553756</td><td>14.25</td><td>187.375</td><td>187.375</td><td>185.901768</td><td>50.0</td><td>0.0</td><td>0.382976</td><td>-0.199489</td><td>0.382976</td><td>0.199489</td><td>0.875</td><td>1.0</td><td>1.0</td><td>35.539783</td><td>10.767629</td><td>2.506738</td><td>-2.131584</td><td>2.420075</td><td>-2.268487</td><td>6.509766</td><td>0.024089</td><td>1.253298</td><td>4.020392</td><td>67.509775</td><td>7.0</td><td>3.267787</td><td>5.535574</td><td>3.25</td><td>&hellip;</td><td>0.0</td><td>0.0</td><td>0.0</td><td>0.0</td><td>0.0</td><td>0.0</td><td>0.0</td><td>0.0</td><td>0.0</td><td>0.0</td><td>0.0</td><td>0.0</td><td>0.0</td><td>0.0</td><td>0.0</td><td>0.0</td><td>0.0</td><td>0.0</td><td>0.0</td><td>0.0</td><td>0.0</td><td>0.0</td><td>0.0</td><td>0.0</td><td>0.0</td><td>0.0</td><td>0.0</td><td>0.0</td><td>0.0</td><td>0.0</td><td>0.0</td><td>0.0</td><td>0.0</td><td>0.0</td><td>0.0</td><td>0.0</td><td>0.0</td></tr><tr><td>&hellip;</td><td>&hellip;</td><td>&hellip;</td><td>&hellip;</td><td>&hellip;</td><td>&hellip;</td><td>&hellip;</td><td>&hellip;</td><td>&hellip;</td><td>&hellip;</td><td>&hellip;</td><td>&hellip;</td><td>&hellip;</td><td>&hellip;</td><td>&hellip;</td><td>&hellip;</td><td>&hellip;</td><td>&hellip;</td><td>&hellip;</td><td>&hellip;</td><td>&hellip;</td><td>&hellip;</td><td>&hellip;</td><td>&hellip;</td><td>&hellip;</td><td>&hellip;</td><td>&hellip;</td><td>&hellip;</td><td>&hellip;</td><td>&hellip;</td><td>&hellip;</td><td>&hellip;</td><td>&hellip;</td><td>&hellip;</td><td>&hellip;</td><td>&hellip;</td><td>&hellip;</td><td>&hellip;</td><td>&hellip;</td><td>&hellip;</td><td>&hellip;</td><td>&hellip;</td><td>&hellip;</td><td>&hellip;</td><td>&hellip;</td><td>&hellip;</td><td>&hellip;</td><td>&hellip;</td><td>&hellip;</td><td>&hellip;</td><td>&hellip;</td><td>&hellip;</td><td>&hellip;</td><td>&hellip;</td><td>&hellip;</td><td>&hellip;</td><td>&hellip;</td><td>&hellip;</td><td>&hellip;</td><td>&hellip;</td><td>&hellip;</td><td>&hellip;</td><td>&hellip;</td><td>&hellip;</td><td>&hellip;</td><td>&hellip;</td><td>&hellip;</td><td>&hellip;</td><td>&hellip;</td><td>&hellip;</td><td>&hellip;</td><td>&hellip;</td><td>&hellip;</td><td>&hellip;</td><td>&hellip;</td></tr><tr><td>&quot;vamidothion&quot;</td><td>1.144</td><td>&quot;CNC(=O)C(C)SCCSP(=O)(OC)(OC)&quot;</td><td>&quot;no_scaffold_317&quot;</td><td>11.615392</td><td>11.615392</td><td>0.003087</td><td>-2.968949</td><td>0.543859</td><td>13.5</td><td>287.343</td><td>269.199</td><td>287.041487</td><td>96.0</td><td>0.0</td><td>0.388103</td><td>-0.358225</td><td>0.388103</td><td>0.358225</td><td>1.375</td><td>1.9375</td><td>2.375</td><td>32.735952</td><td>10.444383</td><td>2.213171</td><td>-2.127898</td><td>2.587624</td><td>-2.27051</td><td>8.547558</td><td>-0.119315</td><td>2.323876</td><td>3.756993</td><td>256.422865</td><td>12.604448</td><td>9.888267</td><td>12.415688</td><td>7.486511</td><td>&hellip;</td><td>0.0</td><td>0.0</td><td>0.0</td><td>0.0</td><td>0.0</td><td>0.0</td><td>0.0</td><td>0.0</td><td>0.0</td><td>0.0</td><td>0.0</td><td>0.0</td><td>0.0</td><td>0.0</td><td>0.0</td><td>0.0</td><td>0.0</td><td>0.0</td><td>0.0</td><td>0.0</td><td>0.0</td><td>0.0</td><td>0.0</td><td>0.0</td><td>0.0</td><td>0.0</td><td>0.0</td><td>1.0</td><td>0.0</td><td>0.0</td><td>0.0</td><td>0.0</td><td>0.0</td><td>0.0</td><td>0.0</td><td>0.0</td><td>0.0</td></tr><tr><td>&quot;Vinclozolin&quot;</td><td>-4.925</td><td>&quot;CC1(OC(=O)N(C1=O)c2cc(Cl)cc(Cl…</td><td>&quot;O=C1COC(=O)N1c1ccccc1&quot;</td><td>12.114445</td><td>12.114445</td><td>0.271366</td><td>-1.355281</td><td>0.782457</td><td>23.166667</td><td>286.114</td><td>277.042</td><td>284.995949</td><td>94.0</td><td>0.0</td><td>0.422243</td><td>-0.428036</td><td>0.428036</td><td>0.422243</td><td>1.277778</td><td>1.833333</td><td>2.277778</td><td>35.496835</td><td>10.071253</td><td>2.489549</td><td>-2.146264</td><td>2.32667</td><td>-2.365046</td><td>6.35264</td><td>-0.124869</td><td>2.489028</td><td>2.482348</td><td>538.003547</td><td>13.499636</td><td>9.444395</td><td>10.956253</td><td>8.370028</td><td>&hellip;</td><td>1.0</td><td>0.0</td><td>0.0</td><td>0.0</td><td>0.0</td><td>0.0</td><td>1.0</td><td>0.0</td><td>0.0</td><td>0.0</td><td>0.0</td><td>0.0</td><td>0.0</td><td>0.0</td><td>0.0</td><td>0.0</td><td>0.0</td><td>0.0</td><td>0.0</td><td>0.0</td><td>0.0</td><td>0.0</td><td>0.0</td><td>0.0</td><td>0.0</td><td>0.0</td><td>0.0</td><td>0.0</td><td>0.0</td><td>0.0</td><td>0.0</td><td>0.0</td><td>0.0</td><td>0.0</td><td>0.0</td><td>0.0</td><td>0.0</td></tr><tr><td>&quot;Warfarin&quot;</td><td>-3.893</td><td>&quot;CC(=O)CC(c1ccccc1)c3c(O)c2cccc…</td><td>&quot;O=c1oc2ccccc2cc1Cc1ccccc1&quot;</td><td>12.412307</td><td>12.412307</td><td>0.064063</td><td>-0.614534</td><td>0.747626</td><td>12.217391</td><td>308.333</td><td>292.205</td><td>308.104859</td><td>116.0</td><td>0.0</td><td>0.343366</td><td>-0.506592</td><td>0.506592</td><td>0.343366</td><td>1.086957</td><td>1.73913</td><td>2.434783</td><td>16.39494</td><td>9.86892</td><td>2.251678</td><td>-2.169199</td><td>2.354357</td><td>-2.161027</td><td>5.847714</td><td>-0.116735</td><td>2.541895</td><td>2.258072</td><td>909.550973</td><td>16.396977</td><td>12.652568</td><td>12.652568</td><td>11.075387</td><td>&hellip;</td><td>0.0</td><td>0.0</td><td>0.0</td><td>1.0</td><td>1.0</td><td>0.0</td><td>0.0</td><td>0.0</td><td>0.0</td><td>0.0</td><td>0.0</td><td>0.0</td><td>0.0</td><td>0.0</td><td>0.0</td><td>0.0</td><td>1.0</td><td>0.0</td><td>0.0</td><td>0.0</td><td>0.0</td><td>0.0</td><td>0.0</td><td>0.0</td><td>0.0</td><td>0.0</td><td>0.0</td><td>0.0</td><td>0.0</td><td>0.0</td><td>0.0</td><td>0.0</td><td>0.0</td><td>0.0</td><td>0.0</td><td>0.0</td><td>0.0</td></tr><tr><td>&quot;Xipamide&quot;</td><td>-3.79</td><td>&quot;Cc1cccc(C)c1NC(=O)c2cc(c(Cl)cc…</td><td>&quot;O=C(Nc1ccccc1)c1ccccc1&quot;</td><td>12.38</td><td>12.38</td><td>0.235113</td><td>-4.118515</td><td>0.786275</td><td>11.304348</td><td>354.815</td><td>339.695</td><td>354.044106</td><td>122.0</td><td>0.0</td><td>0.258979</td><td>-0.507064</td><td>0.507064</td><td>0.258979</td><td>1.217391</td><td>1.782609</td><td>2.304348</td><td>35.495694</td><td>10.084512</td><td>2.207049</td><td>-2.129387</td><td>2.298114</td><td>-2.170017</td><td>7.888858</td><td>0.101919</td><td>2.410222</td><td>2.481292</td><td>874.340157</td><td>17.361443</td><td>12.422273</td><td>13.994698</td><td>10.608079</td><td>&hellip;</td><td>0.0</td><td>0.0</td><td>0.0</td><td>0.0</td><td>0.0</td><td>0.0</td><td>0.0</td><td>0.0</td><td>0.0</td><td>0.0</td><td>0.0</td><td>0.0</td><td>0.0</td><td>0.0</td><td>0.0</td><td>0.0</td><td>1.0</td><td>1.0</td><td>1.0</td><td>0.0</td><td>0.0</td><td>0.0</td><td>0.0</td><td>0.0</td><td>0.0</td><td>0.0</td><td>0.0</td><td>0.0</td><td>1.0</td><td>0.0</td><td>0.0</td><td>0.0</td><td>0.0</td><td>0.0</td><td>0.0</td><td>0.0</td><td>0.0</td></tr><tr><td>&quot;XMC&quot;</td><td>-2.581</td><td>&quot;CNC(=O)Oc1cc(C)cc(C)c1&quot;</td><td>&quot;c1ccccc1&quot;</td><td>10.870474</td><td>10.870474</td><td>0.439815</td><td>-0.439815</td><td>0.715837</td><td>9.461538</td><td>179.219</td><td>166.115</td><td>179.094629</td><td>70.0</td><td>0.0</td><td>0.411839</td><td>-0.410345</td><td>0.411839</td><td>0.410345</td><td>1.230769</td><td>1.769231</td><td>2.230769</td><td>16.549804</td><td>10.143142</td><td>2.011347</td><td>-2.046226</td><td>2.154292</td><td>-2.215688</td><td>5.695281</td><td>0.202664</td><td>2.016527</td><td>2.827751</td><td>300.450826</td><td>9.844935</td><td>8.048547</td><td>8.048547</td><td>6.113392</td><td>&hellip;</td><td>0.0</td><td>0.0</td><td>0.0</td><td>0.0</td><td>0.0</td><td>0.0</td><td>0.0</td><td>0.0</td><td>0.0</td><td>0.0</td><td>0.0</td><td>0.0</td><td>0.0</td><td>0.0</td><td>0.0</td><td>0.0</td><td>0.0</td><td>0.0</td><td>0.0</td><td>0.0</td><td>0.0</td><td>0.0</td><td>0.0</td><td>0.0</td><td>0.0</td><td>0.0</td><td>0.0</td><td>0.0</td><td>0.0</td><td>0.0</td><td>0.0</td><td>0.0</td><td>0.0</td><td>0.0</td><td>0.0</td><td>0.0</td><td>0.0</td></tr></tbody></table></div>"
      ],
      "text/plain": [
       "shape: (1_144, 221)\n",
       "┌────────────┬───────────┬───────────┬───────────┬───┬───────────┬───────────┬───────────┬─────────┐\n",
       "│ Compound   ┆ measured  ┆ SMILES    ┆ scaffolds ┆ … ┆ fr_thiocy ┆ fr_thioph ┆ fr_unbrch ┆ fr_urea │\n",
       "│ ID         ┆ log(solub ┆ ---       ┆ ---       ┆   ┆ an        ┆ ene       ┆ _alkane   ┆ ---     │\n",
       "│ ---        ┆ ility:mol ┆ str       ┆ str       ┆   ┆ ---       ┆ ---       ┆ ---       ┆ f64     │\n",
       "│ str        ┆ /L)       ┆           ┆           ┆   ┆ f64       ┆ f64       ┆ f64       ┆         │\n",
       "│            ┆ ---       ┆           ┆           ┆   ┆           ┆           ┆           ┆         │\n",
       "│            ┆ f64       ┆           ┆           ┆   ┆           ┆           ┆           ┆         │\n",
       "╞════════════╪═══════════╪═══════════╪═══════════╪═══╪═══════════╪═══════════╪═══════════╪═════════╡\n",
       "│ 1,1,1,2-Te ┆ -2.18     ┆ ClCC(Cl)( ┆ no_scaffo ┆ … ┆ 0.0       ┆ 0.0       ┆ 0.0       ┆ 0.0     │\n",
       "│ trachloroe ┆           ┆ Cl)Cl     ┆ ld_0      ┆   ┆           ┆           ┆           ┆         │\n",
       "│ thane      ┆           ┆           ┆           ┆   ┆           ┆           ┆           ┆         │\n",
       "│ 1,1,1-Tric ┆ -2.0      ┆ CC(Cl)(Cl ┆ no_scaffo ┆ … ┆ 0.0       ┆ 0.0       ┆ 0.0       ┆ 0.0     │\n",
       "│ hloroethan ┆           ┆ )Cl       ┆ ld_1      ┆   ┆           ┆           ┆           ┆         │\n",
       "│ e          ┆           ┆           ┆           ┆   ┆           ┆           ┆           ┆         │\n",
       "│ 1,1,2,2-Te ┆ -1.74     ┆ ClC(Cl)C( ┆ no_scaffo ┆ … ┆ 0.0       ┆ 0.0       ┆ 0.0       ┆ 0.0     │\n",
       "│ trachloroe ┆           ┆ Cl)Cl     ┆ ld_2      ┆   ┆           ┆           ┆           ┆         │\n",
       "│ thane      ┆           ┆           ┆           ┆   ┆           ┆           ┆           ┆         │\n",
       "│ 1,1,2-Tric ┆ -1.48     ┆ ClCC(Cl)C ┆ no_scaffo ┆ … ┆ 0.0       ┆ 0.0       ┆ 0.0       ┆ 0.0     │\n",
       "│ hloroethan ┆           ┆ l         ┆ ld_3      ┆   ┆           ┆           ┆           ┆         │\n",
       "│ e          ┆           ┆           ┆           ┆   ┆           ┆           ┆           ┆         │\n",
       "│ 1,1,2-Tric ┆ -3.04     ┆ FC(F)(Cl) ┆ no_scaffo ┆ … ┆ 0.0       ┆ 0.0       ┆ 0.0       ┆ 0.0     │\n",
       "│ hlorotrifl ┆           ┆ C(F)(Cl)C ┆ ld_4      ┆   ┆           ┆           ┆           ┆         │\n",
       "│ uoroethane ┆           ┆ l         ┆           ┆   ┆           ┆           ┆           ┆         │\n",
       "│ …          ┆ …         ┆ …         ┆ …         ┆ … ┆ …         ┆ …         ┆ …         ┆ …       │\n",
       "│ vamidothio ┆ 1.144     ┆ CNC(=O)C( ┆ no_scaffo ┆ … ┆ 0.0       ┆ 0.0       ┆ 0.0       ┆ 0.0     │\n",
       "│ n          ┆           ┆ C)SCCSP(= ┆ ld_317    ┆   ┆           ┆           ┆           ┆         │\n",
       "│            ┆           ┆ O)(OC)(OC ┆           ┆   ┆           ┆           ┆           ┆         │\n",
       "│            ┆           ┆ )         ┆           ┆   ┆           ┆           ┆           ┆         │\n",
       "│ Vinclozoli ┆ -4.925    ┆ CC1(OC(=O ┆ O=C1COC(= ┆ … ┆ 0.0       ┆ 0.0       ┆ 0.0       ┆ 0.0     │\n",
       "│ n          ┆           ┆ )N(C1=O)c ┆ O)N1c1ccc ┆   ┆           ┆           ┆           ┆         │\n",
       "│            ┆           ┆ 2cc(Cl)cc ┆ cc1       ┆   ┆           ┆           ┆           ┆         │\n",
       "│            ┆           ┆ (Cl…      ┆           ┆   ┆           ┆           ┆           ┆         │\n",
       "│ Warfarin   ┆ -3.893    ┆ CC(=O)CC( ┆ O=c1oc2cc ┆ … ┆ 0.0       ┆ 0.0       ┆ 0.0       ┆ 0.0     │\n",
       "│            ┆           ┆ c1ccccc1) ┆ ccc2cc1Cc ┆   ┆           ┆           ┆           ┆         │\n",
       "│            ┆           ┆ c3c(O)c2c ┆ 1ccccc1   ┆   ┆           ┆           ┆           ┆         │\n",
       "│            ┆           ┆ ccc…      ┆           ┆   ┆           ┆           ┆           ┆         │\n",
       "│ Xipamide   ┆ -3.79     ┆ Cc1cccc(C ┆ O=C(Nc1cc ┆ … ┆ 0.0       ┆ 0.0       ┆ 0.0       ┆ 0.0     │\n",
       "│            ┆           ┆ )c1NC(=O) ┆ ccc1)c1cc ┆   ┆           ┆           ┆           ┆         │\n",
       "│            ┆           ┆ c2cc(c(Cl ┆ ccc1      ┆   ┆           ┆           ┆           ┆         │\n",
       "│            ┆           ┆ )cc…      ┆           ┆   ┆           ┆           ┆           ┆         │\n",
       "│ XMC        ┆ -2.581    ┆ CNC(=O)Oc ┆ c1ccccc1  ┆ … ┆ 0.0       ┆ 0.0       ┆ 0.0       ┆ 0.0     │\n",
       "│            ┆           ┆ 1cc(C)cc( ┆           ┆   ┆           ┆           ┆           ┆         │\n",
       "│            ┆           ┆ C)c1      ┆           ┆   ┆           ┆           ┆           ┆         │\n",
       "└────────────┴───────────┴───────────┴───────────┴───┴───────────┴───────────┴───────────┴─────────┘"
      ]
     },
     "execution_count": 180,
     "metadata": {},
     "output_type": "execute_result"
    }
   ],
   "source": [
    "scaffolds = get_scaffolds(df['SMILES'].to_list())\n",
    "\n",
    "df.insert_column(\n",
    "    index = 3,\n",
    "    column = pl.Series('scaffolds', scaffolds)\n",
    ")"
   ]
  },
  {
   "cell_type": "markdown",
   "metadata": {},
   "source": [
    "# Split and Scale Data"
   ]
  },
  {
   "cell_type": "code",
   "execution_count": 181,
   "metadata": {},
   "outputs": [],
   "source": [
    "from sklearn.preprocessing import RobustScaler"
   ]
  },
  {
   "cell_type": "code",
   "execution_count": 182,
   "metadata": {},
   "outputs": [
    {
     "data": {
      "text/plain": [
       "((940,), (204,))"
      ]
     },
     "execution_count": 182,
     "metadata": {},
     "output_type": "execute_result"
    }
   ],
   "source": [
    "splitter = GroupShuffleSplit(n_splits=1, test_size=options['test_size'], random_state=options['random_seed'])\n",
    "\n",
    "train_idx, test_idx = next(splitter.split(df, groups=df['scaffolds']))\n",
    "\n",
    "train_idx.shape, test_idx.shape"
   ]
  },
  {
   "cell_type": "code",
   "execution_count": 183,
   "metadata": {},
   "outputs": [
    {
     "data": {
      "text/plain": [
       "(torch.Size([940, 217]),\n",
       " torch.Size([940]),\n",
       " torch.Size([204, 217]),\n",
       " torch.Size([204]))"
      ]
     },
     "execution_count": 183,
     "metadata": {},
     "output_type": "execute_result"
    }
   ],
   "source": [
    "# get the train and test data\n",
    "df_train = df[train_idx]\n",
    "df_test = df[test_idx]\n",
    "\n",
    "X_train = df_train[DESCRIPTOR_NAMES].to_torch()\n",
    "y_train = df_train['measured log(solubility:mol/L)'].to_torch().to(torch.float32)\n",
    "\n",
    "X_test = df_test[DESCRIPTOR_NAMES].to_torch()\n",
    "y_test = df_test['measured log(solubility:mol/L)'].to_torch().to(torch.float32)\n",
    "\n",
    "del df_train, df_test\n",
    "\n",
    "X_train.shape, y_train.shape, X_test.shape, y_test.shape"
   ]
  },
  {
   "cell_type": "code",
   "execution_count": 184,
   "metadata": {},
   "outputs": [],
   "source": [
    "scaler = RobustScaler()\n",
    "X_train_scaled = torch.tensor(scaler.fit_transform(X_train)).to(torch.float32)\n",
    "X_test_scaled = torch.tensor(scaler.transform(X_test)).to(torch.float32)"
   ]
  },
  {
   "cell_type": "markdown",
   "metadata": {},
   "source": [
    "# Train Single Model"
   ]
  },
  {
   "cell_type": "code",
   "execution_count": 185,
   "metadata": {},
   "outputs": [],
   "source": [
    "from kan import KAN"
   ]
  },
  {
   "cell_type": "code",
   "execution_count": 186,
   "metadata": {},
   "outputs": [],
   "source": [
    "num_features = X_train.shape[1]\n",
    "single_model = KAN(width=[num_features, 1], seed=options['random_seed'], auto_save=False)"
   ]
  },
  {
   "cell_type": "code",
   "execution_count": 187,
   "metadata": {},
   "outputs": [
    {
     "name": "stdout",
     "output_type": "stream",
     "text": [
      "Train iteration 0, mse: 15.15121841430664, r2: -2.9997494220733643, mae: 3.1482648849487305, rmse: 3.892456531524658\n",
      "Test iteration 0, mse: 19.47254180908203, r2: -2.1771907806396484, mae: 3.5290088653564453, rmse: 4.4127702713012695\n",
      "Train iteration 50, mse: 0.54261714220047, r2: 0.856755256652832, mae: 0.5660755038261414, rmse: 0.7366254925727844\n",
      "Test iteration 50, mse: 0.8396344780921936, r2: 0.8630030155181885, mae: 0.6648234128952026, rmse: 0.9163157343864441\n",
      "Train iteration 100, mse: 0.3416093587875366, r2: 0.9098190069198608, mae: 0.4494020640850067, rmse: 0.5844735503196716\n",
      "Test iteration 100, mse: 0.6919218301773071, r2: 0.8871042132377625, mae: 0.5848508477210999, rmse: 0.8318184018135071\n",
      "Train iteration 150, mse: 0.2690228521823883, r2: 0.9289810061454773, mae: 0.39788222312927246, rmse: 0.5186741352081299\n",
      "Test iteration 150, mse: 0.6290132403373718, r2: 0.8973685503005981, mae: 0.5619761943817139, rmse: 0.7931035757064819\n",
      "Train iteration 200, mse: 0.22571152448654175, r2: 0.9404147267341614, mae: 0.36140337586402893, rmse: 0.4750910699367523\n",
      "Test iteration 200, mse: 0.6026738882064819, r2: 0.9016661643981934, mae: 0.5542885661125183, rmse: 0.77632075548172\n",
      "Train iteration 250, mse: 0.1961662918329239, r2: 0.9482143521308899, mae: 0.33498451113700867, rmse: 0.4429066479206085\n",
      "Test iteration 250, mse: 0.5958444476127625, r2: 0.9027804732322693, mae: 0.5533077120780945, rmse: 0.7719095945358276\n",
      "Train iteration 300, mse: 0.17579512298107147, r2: 0.95359206199646, mae: 0.3183937668800354, rmse: 0.4192792773246765\n",
      "Test iteration 300, mse: 0.6007537841796875, r2: 0.9019794464111328, mae: 0.5584791898727417, rmse: 0.775083065032959\n",
      "Train iteration 350, mse: 0.16043883562088013, r2: 0.9576459527015686, mae: 0.3059849441051483, rmse: 0.40054816007614136\n",
      "Test iteration 350, mse: 0.6126539707183838, r2: 0.9000377655029297, mae: 0.5650385618209839, rmse: 0.7827221751213074\n",
      "Train iteration 400, mse: 0.1486743539571762, r2: 0.9607516527175903, mae: 0.29577410221099854, rmse: 0.38558313250541687\n",
      "Test iteration 400, mse: 0.6301503777503967, r2: 0.8971830010414124, mae: 0.575284481048584, rmse: 0.7938201427459717\n",
      "Train iteration 450, mse: 0.13914602994918823, r2: 0.9632670283317566, mae: 0.28655126690864563, rmse: 0.37302282452583313\n",
      "Test iteration 450, mse: 0.6528754234313965, r2: 0.8934751152992249, mae: 0.586845338344574, rmse: 0.8080070614814758\n"
     ]
    }
   ],
   "source": [
    "loss_dict = train_regression(single_model, X_train_scaled, y_train, X_test_scaled, y_test, num_itrs=options['num_train_iterations'])"
   ]
  },
  {
   "cell_type": "markdown",
   "metadata": {},
   "source": [
    "# Train Bag of KANs"
   ]
  },
  {
   "cell_type": "code",
   "execution_count": 188,
   "metadata": {},
   "outputs": [
    {
     "name": "stdout",
     "output_type": "stream",
     "text": [
      "---------------------------------------------------------------------------------------------------- \n",
      "Training bootstrapped model 1/100\n",
      "Train iteration 0, mse: 15.173768997192383, r2: -2.9541091918945312, mae: 3.143610715866089, rmse: 3.8953521251678467\n",
      "Test iteration 0, mse: 19.492952346801758, r2: -2.180521249771118, mae: 3.5307157039642334, rmse: 4.4150824546813965\n",
      "Train iteration 50, mse: 0.4961289167404175, r2: 0.870714545249939, mae: 0.5424894094467163, rmse: 0.7043641805648804\n",
      "Test iteration 50, mse: 1.025462031364441, r2: 0.8326829671859741, mae: 0.7039005756378174, rmse: 1.012650966644287\n",
      "Train iteration 100, mse: 0.3026880919933319, r2: 0.9211229681968689, mae: 0.4194069504737854, rmse: 0.5501709580421448\n",
      "Test iteration 100, mse: 0.8655644059181213, r2: 0.8587722778320312, mae: 0.6311904191970825, rmse: 0.9303571581840515\n",
      "Train iteration 150, mse: 0.2195110023021698, r2: 0.9427979588508606, mae: 0.357797771692276, rmse: 0.46852001547813416\n",
      "Test iteration 150, mse: 0.778685986995697, r2: 0.8729475736618042, mae: 0.5973761081695557, rmse: 0.8824318647384644\n",
      "Train iteration 200, mse: 0.17553317546844482, r2: 0.9542580842971802, mae: 0.32109928131103516, rmse: 0.41896679997444153\n",
      "Test iteration 200, mse: 0.749794065952301, r2: 0.8776616454124451, mae: 0.5839534997940063, rmse: 0.8659064769744873\n",
      "Train iteration 250, mse: 0.14669492840766907, r2: 0.9617729783058167, mae: 0.29184556007385254, rmse: 0.3830077350139618\n",
      "Test iteration 250, mse: 0.7560870051383972, r2: 0.8766348361968994, mae: 0.5919284224510193, rmse: 0.8695326447486877\n",
      "Train iteration 300, mse: 0.1261119544506073, r2: 0.9671366810798645, mae: 0.27070632576942444, rmse: 0.355122447013855\n",
      "Test iteration 300, mse: 0.7767993211746216, r2: 0.8732553720474243, mae: 0.6033638119697571, rmse: 0.8813621997833252\n",
      "Train iteration 350, mse: 0.11108560860157013, r2: 0.971052348613739, mae: 0.255254328250885, rmse: 0.333295077085495\n",
      "Test iteration 350, mse: 0.8075608015060425, r2: 0.8682363033294678, mae: 0.6195538640022278, rmse: 0.8986438512802124\n",
      "Train iteration 400, mse: 0.0988786444067955, r2: 0.9742333889007568, mae: 0.24131081998348236, rmse: 0.3144497573375702\n",
      "Test iteration 400, mse: 0.8344247341156006, r2: 0.8638530969619751, mae: 0.6381691098213196, rmse: 0.9134685397148132\n",
      "Train iteration 450, mse: 0.08858327567577362, r2: 0.9769161939620972, mae: 0.2283245325088501, rmse: 0.2976294159889221\n",
      "Test iteration 450, mse: 0.8518098592758179, r2: 0.8610164523124695, mae: 0.6503574252128601, rmse: 0.9229354858398438\n",
      "---------------------------------------------------------------------------------------------------- \n",
      "Training bootstrapped model 2/100\n",
      "Train iteration 0, mse: 10.414831161499023, r2: -1.7006804943084717, mae: 2.710176706314087, rmse: 3.2272017002105713\n",
      "Test iteration 0, mse: 10.79726791381836, r2: -0.7617104053497314, mae: 2.691739320755005, rmse: 3.285919666290283\n",
      "Train iteration 50, mse: 0.5029682517051697, r2: 0.869574785232544, mae: 0.5491390824317932, rmse: 0.7092025279998779\n",
      "Test iteration 50, mse: 0.7857149243354797, r2: 0.8718006610870361, mae: 0.6448681950569153, rmse: 0.8864056468009949\n",
      "Train iteration 100, mse: 0.2809711992740631, r2: 0.9271410703659058, mae: 0.41150516271591187, rmse: 0.5300671458244324\n",
      "Test iteration 100, mse: 0.6530420780181885, r2: 0.8934479355812073, mae: 0.584956705570221, rmse: 0.8081101775169373\n",
      "Train iteration 150, mse: 0.18948917090892792, r2: 0.9508633613586426, mae: 0.3299792408943176, rmse: 0.43530353903770447\n",
      "Test iteration 150, mse: 0.6709095239639282, r2: 0.8905326724052429, mae: 0.5887728929519653, rmse: 0.8190906643867493\n",
      "Train iteration 200, mse: 0.1455824375152588, r2: 0.9622488617897034, mae: 0.2822732627391815, rmse: 0.38155266642570496\n",
      "Test iteration 200, mse: 0.7126456499099731, r2: 0.8837228417396545, mae: 0.6093712449073792, rmse: 0.8441834449768066\n",
      "Train iteration 250, mse: 0.12138665467500687, r2: 0.9685230851173401, mae: 0.25655224919319153, rmse: 0.3484058678150177\n",
      "Test iteration 250, mse: 0.7573500871658325, r2: 0.8764287829399109, mae: 0.6356503367424011, rmse: 0.870258629322052\n",
      "Train iteration 300, mse: 0.10545731335878372, r2: 0.9726537466049194, mae: 0.23954415321350098, rmse: 0.324741929769516\n",
      "Test iteration 300, mse: 0.802224338054657, r2: 0.8691070079803467, mae: 0.659693717956543, rmse: 0.8956697583198547\n",
      "Train iteration 350, mse: 0.0941038578748703, r2: 0.9755978584289551, mae: 0.2270912528038025, rmse: 0.30676352977752686\n",
      "Test iteration 350, mse: 0.8423635363578796, r2: 0.8625577688217163, mae: 0.6775529980659485, rmse: 0.9178036451339722\n",
      "Train iteration 400, mse: 0.08535333722829819, r2: 0.9778669476509094, mae: 0.2166415899991989, rmse: 0.29215294122695923\n",
      "Test iteration 400, mse: 0.877455472946167, r2: 0.8568320870399475, mae: 0.6899058818817139, rmse: 0.936725914478302\n",
      "Train iteration 450, mse: 0.07803269475698471, r2: 0.9797652363777161, mae: 0.20600971579551697, rmse: 0.2793433368206024\n",
      "Test iteration 450, mse: 0.9109329581260681, r2: 0.8513697981834412, mae: 0.699928879737854, rmse: 0.9544280767440796\n",
      "---------------------------------------------------------------------------------------------------- \n",
      "Training bootstrapped model 3/100\n",
      "Train iteration 0, mse: 13.95373821258545, r2: -2.5388615131378174, mae: 3.0545432567596436, rmse: 3.7354702949523926\n",
      "Test iteration 0, mse: 21.475963592529297, r2: -2.5040745735168457, mae: 3.5057544708251953, rmse: 4.634216785430908\n",
      "Train iteration 50, mse: 0.5509052276611328, r2: 0.8602827787399292, mae: 0.5810467600822449, rmse: 0.7422298789024353\n",
      "Test iteration 50, mse: 0.8622914552688599, r2: 0.859306275844574, mae: 0.634615957736969, rmse: 0.9285964965820312\n",
      "Train iteration 100, mse: 0.275211900472641, r2: 0.9302024245262146, mae: 0.41419634222984314, rmse: 0.5246064066886902\n",
      "Test iteration 100, mse: 0.7167490124702454, r2: 0.8830533623695374, mae: 0.57694411277771, rmse: 0.8466103076934814\n"
     ]
    },
    {
     "ename": "KeyboardInterrupt",
     "evalue": "",
     "output_type": "error",
     "traceback": [
      "\u001b[0;31m---------------------------------------------------------------------------\u001b[0m",
      "\u001b[0;31mKeyboardInterrupt\u001b[0m                         Traceback (most recent call last)",
      "Cell \u001b[0;32mIn[188], line 17\u001b[0m\n\u001b[1;32m     13\u001b[0m y_train_bootstrap \u001b[38;5;241m=\u001b[39m y_train[bootstrap_sample_indices]\n\u001b[1;32m     15\u001b[0m bootstrapped_model \u001b[38;5;241m=\u001b[39m KAN(width\u001b[38;5;241m=\u001b[39m[num_features, \u001b[38;5;241m1\u001b[39m], seed\u001b[38;5;241m=\u001b[39moptions[\u001b[38;5;124m'\u001b[39m\u001b[38;5;124mrandom_seed\u001b[39m\u001b[38;5;124m'\u001b[39m] \u001b[38;5;241m+\u001b[39m i, auto_save\u001b[38;5;241m=\u001b[39m\u001b[38;5;28;01mFalse\u001b[39;00m)\n\u001b[0;32m---> 17\u001b[0m loss_dict \u001b[38;5;241m=\u001b[39m \u001b[43mtrain_regression\u001b[49m\u001b[43m(\u001b[49m\u001b[43mbootstrapped_model\u001b[49m\u001b[43m,\u001b[49m\u001b[43m \u001b[49m\u001b[43mX_train_bootstrap\u001b[49m\u001b[43m,\u001b[49m\u001b[43m \u001b[49m\u001b[43my_train_bootstrap\u001b[49m\u001b[43m,\u001b[49m\u001b[43m \u001b[49m\u001b[43mX_test_scaled\u001b[49m\u001b[43m,\u001b[49m\u001b[43m \u001b[49m\u001b[43my_test\u001b[49m\u001b[43m,\u001b[49m\n\u001b[1;32m     18\u001b[0m \u001b[43m                              \u001b[49m\u001b[43mnum_itrs\u001b[49m\u001b[38;5;241;43m=\u001b[39;49m\u001b[43moptions\u001b[49m\u001b[43m[\u001b[49m\u001b[38;5;124;43m'\u001b[39;49m\u001b[38;5;124;43mnum_train_iterations\u001b[39;49m\u001b[38;5;124;43m'\u001b[39;49m\u001b[43m]\u001b[49m\u001b[43m)\u001b[49m\n\u001b[1;32m     20\u001b[0m bootstrapped_models\u001b[38;5;241m.\u001b[39mappend(bootstrapped_model)\n",
      "File \u001b[0;32m~/Projects/Chemical_Physics_and_KANs/notebooks/bag_of_kans/../../train/train_regression.py:66\u001b[0m, in \u001b[0;36mtrain_regression\u001b[0;34m(model, X_train, y_train, X_test, y_test, lr, num_itrs, verbose, seed, n_iterations_per_print)\u001b[0m\n\u001b[1;32m     63\u001b[0m train_r2s[i] \u001b[38;5;241m=\u001b[39m train_r2\n\u001b[1;32m     65\u001b[0m \u001b[38;5;66;03m# test\u001b[39;00m\n\u001b[0;32m---> 66\u001b[0m y_hat_test \u001b[38;5;241m=\u001b[39m \u001b[43mmodel\u001b[49m\u001b[43m(\u001b[49m\u001b[43mX_test\u001b[49m\u001b[43m)\u001b[49m\u001b[38;5;241m.\u001b[39mdetach()[:, \u001b[38;5;241m0\u001b[39m]\n\u001b[1;32m     68\u001b[0m test_mse \u001b[38;5;241m=\u001b[39m F\u001b[38;5;241m.\u001b[39mmse_loss(y_hat_test, y_test)\n\u001b[1;32m     69\u001b[0m test_mae \u001b[38;5;241m=\u001b[39m F\u001b[38;5;241m.\u001b[39ml1_loss(y_hat_test, y_test)\n",
      "File \u001b[0;32m~/anaconda3/envs/cpk/lib/python3.13/site-packages/torch/nn/modules/module.py:1736\u001b[0m, in \u001b[0;36mModule._wrapped_call_impl\u001b[0;34m(self, *args, **kwargs)\u001b[0m\n\u001b[1;32m   1734\u001b[0m     \u001b[38;5;28;01mreturn\u001b[39;00m \u001b[38;5;28mself\u001b[39m\u001b[38;5;241m.\u001b[39m_compiled_call_impl(\u001b[38;5;241m*\u001b[39margs, \u001b[38;5;241m*\u001b[39m\u001b[38;5;241m*\u001b[39mkwargs)  \u001b[38;5;66;03m# type: ignore[misc]\u001b[39;00m\n\u001b[1;32m   1735\u001b[0m \u001b[38;5;28;01melse\u001b[39;00m:\n\u001b[0;32m-> 1736\u001b[0m     \u001b[38;5;28;01mreturn\u001b[39;00m \u001b[38;5;28;43mself\u001b[39;49m\u001b[38;5;241;43m.\u001b[39;49m\u001b[43m_call_impl\u001b[49m\u001b[43m(\u001b[49m\u001b[38;5;241;43m*\u001b[39;49m\u001b[43margs\u001b[49m\u001b[43m,\u001b[49m\u001b[43m \u001b[49m\u001b[38;5;241;43m*\u001b[39;49m\u001b[38;5;241;43m*\u001b[39;49m\u001b[43mkwargs\u001b[49m\u001b[43m)\u001b[49m\n",
      "File \u001b[0;32m~/anaconda3/envs/cpk/lib/python3.13/site-packages/torch/nn/modules/module.py:1747\u001b[0m, in \u001b[0;36mModule._call_impl\u001b[0;34m(self, *args, **kwargs)\u001b[0m\n\u001b[1;32m   1742\u001b[0m \u001b[38;5;66;03m# If we don't have any hooks, we want to skip the rest of the logic in\u001b[39;00m\n\u001b[1;32m   1743\u001b[0m \u001b[38;5;66;03m# this function, and just call forward.\u001b[39;00m\n\u001b[1;32m   1744\u001b[0m \u001b[38;5;28;01mif\u001b[39;00m \u001b[38;5;129;01mnot\u001b[39;00m (\u001b[38;5;28mself\u001b[39m\u001b[38;5;241m.\u001b[39m_backward_hooks \u001b[38;5;129;01mor\u001b[39;00m \u001b[38;5;28mself\u001b[39m\u001b[38;5;241m.\u001b[39m_backward_pre_hooks \u001b[38;5;129;01mor\u001b[39;00m \u001b[38;5;28mself\u001b[39m\u001b[38;5;241m.\u001b[39m_forward_hooks \u001b[38;5;129;01mor\u001b[39;00m \u001b[38;5;28mself\u001b[39m\u001b[38;5;241m.\u001b[39m_forward_pre_hooks\n\u001b[1;32m   1745\u001b[0m         \u001b[38;5;129;01mor\u001b[39;00m _global_backward_pre_hooks \u001b[38;5;129;01mor\u001b[39;00m _global_backward_hooks\n\u001b[1;32m   1746\u001b[0m         \u001b[38;5;129;01mor\u001b[39;00m _global_forward_hooks \u001b[38;5;129;01mor\u001b[39;00m _global_forward_pre_hooks):\n\u001b[0;32m-> 1747\u001b[0m     \u001b[38;5;28;01mreturn\u001b[39;00m \u001b[43mforward_call\u001b[49m\u001b[43m(\u001b[49m\u001b[38;5;241;43m*\u001b[39;49m\u001b[43margs\u001b[49m\u001b[43m,\u001b[49m\u001b[43m \u001b[49m\u001b[38;5;241;43m*\u001b[39;49m\u001b[38;5;241;43m*\u001b[39;49m\u001b[43mkwargs\u001b[49m\u001b[43m)\u001b[49m\n\u001b[1;32m   1749\u001b[0m result \u001b[38;5;241m=\u001b[39m \u001b[38;5;28;01mNone\u001b[39;00m\n\u001b[1;32m   1750\u001b[0m called_always_called_hooks \u001b[38;5;241m=\u001b[39m \u001b[38;5;28mset\u001b[39m()\n",
      "File \u001b[0;32m~/anaconda3/envs/cpk/lib/python3.13/site-packages/kan/MultKAN.py:804\u001b[0m, in \u001b[0;36mMultKAN.forward\u001b[0;34m(self, x, singularity_avoiding, y_th)\u001b[0m\n\u001b[1;32m    801\u001b[0m \u001b[38;5;66;03m#print(preacts, postacts_numerical, postspline)\u001b[39;00m\n\u001b[1;32m    803\u001b[0m \u001b[38;5;28;01mif\u001b[39;00m \u001b[38;5;28mself\u001b[39m\u001b[38;5;241m.\u001b[39msymbolic_enabled \u001b[38;5;241m==\u001b[39m \u001b[38;5;28;01mTrue\u001b[39;00m:\n\u001b[0;32m--> 804\u001b[0m     x_symbolic, postacts_symbolic \u001b[38;5;241m=\u001b[39m \u001b[38;5;28;43mself\u001b[39;49m\u001b[38;5;241;43m.\u001b[39;49m\u001b[43msymbolic_fun\u001b[49m\u001b[43m[\u001b[49m\u001b[43ml\u001b[49m\u001b[43m]\u001b[49m\u001b[43m(\u001b[49m\u001b[43mx\u001b[49m\u001b[43m,\u001b[49m\u001b[43m \u001b[49m\u001b[43msingularity_avoiding\u001b[49m\u001b[38;5;241;43m=\u001b[39;49m\u001b[43msingularity_avoiding\u001b[49m\u001b[43m,\u001b[49m\u001b[43m \u001b[49m\u001b[43my_th\u001b[49m\u001b[38;5;241;43m=\u001b[39;49m\u001b[43my_th\u001b[49m\u001b[43m)\u001b[49m\n\u001b[1;32m    805\u001b[0m \u001b[38;5;28;01melse\u001b[39;00m:\n\u001b[1;32m    806\u001b[0m     x_symbolic \u001b[38;5;241m=\u001b[39m \u001b[38;5;241m0.\u001b[39m\n",
      "File \u001b[0;32m~/anaconda3/envs/cpk/lib/python3.13/site-packages/torch/nn/modules/module.py:1736\u001b[0m, in \u001b[0;36mModule._wrapped_call_impl\u001b[0;34m(self, *args, **kwargs)\u001b[0m\n\u001b[1;32m   1734\u001b[0m     \u001b[38;5;28;01mreturn\u001b[39;00m \u001b[38;5;28mself\u001b[39m\u001b[38;5;241m.\u001b[39m_compiled_call_impl(\u001b[38;5;241m*\u001b[39margs, \u001b[38;5;241m*\u001b[39m\u001b[38;5;241m*\u001b[39mkwargs)  \u001b[38;5;66;03m# type: ignore[misc]\u001b[39;00m\n\u001b[1;32m   1735\u001b[0m \u001b[38;5;28;01melse\u001b[39;00m:\n\u001b[0;32m-> 1736\u001b[0m     \u001b[38;5;28;01mreturn\u001b[39;00m \u001b[38;5;28;43mself\u001b[39;49m\u001b[38;5;241;43m.\u001b[39;49m\u001b[43m_call_impl\u001b[49m\u001b[43m(\u001b[49m\u001b[38;5;241;43m*\u001b[39;49m\u001b[43margs\u001b[49m\u001b[43m,\u001b[49m\u001b[43m \u001b[49m\u001b[38;5;241;43m*\u001b[39;49m\u001b[38;5;241;43m*\u001b[39;49m\u001b[43mkwargs\u001b[49m\u001b[43m)\u001b[49m\n",
      "File \u001b[0;32m~/anaconda3/envs/cpk/lib/python3.13/site-packages/torch/nn/modules/module.py:1747\u001b[0m, in \u001b[0;36mModule._call_impl\u001b[0;34m(self, *args, **kwargs)\u001b[0m\n\u001b[1;32m   1742\u001b[0m \u001b[38;5;66;03m# If we don't have any hooks, we want to skip the rest of the logic in\u001b[39;00m\n\u001b[1;32m   1743\u001b[0m \u001b[38;5;66;03m# this function, and just call forward.\u001b[39;00m\n\u001b[1;32m   1744\u001b[0m \u001b[38;5;28;01mif\u001b[39;00m \u001b[38;5;129;01mnot\u001b[39;00m (\u001b[38;5;28mself\u001b[39m\u001b[38;5;241m.\u001b[39m_backward_hooks \u001b[38;5;129;01mor\u001b[39;00m \u001b[38;5;28mself\u001b[39m\u001b[38;5;241m.\u001b[39m_backward_pre_hooks \u001b[38;5;129;01mor\u001b[39;00m \u001b[38;5;28mself\u001b[39m\u001b[38;5;241m.\u001b[39m_forward_hooks \u001b[38;5;129;01mor\u001b[39;00m \u001b[38;5;28mself\u001b[39m\u001b[38;5;241m.\u001b[39m_forward_pre_hooks\n\u001b[1;32m   1745\u001b[0m         \u001b[38;5;129;01mor\u001b[39;00m _global_backward_pre_hooks \u001b[38;5;129;01mor\u001b[39;00m _global_backward_hooks\n\u001b[1;32m   1746\u001b[0m         \u001b[38;5;129;01mor\u001b[39;00m _global_forward_hooks \u001b[38;5;129;01mor\u001b[39;00m _global_forward_pre_hooks):\n\u001b[0;32m-> 1747\u001b[0m     \u001b[38;5;28;01mreturn\u001b[39;00m \u001b[43mforward_call\u001b[49m\u001b[43m(\u001b[49m\u001b[38;5;241;43m*\u001b[39;49m\u001b[43margs\u001b[49m\u001b[43m,\u001b[49m\u001b[43m \u001b[49m\u001b[38;5;241;43m*\u001b[39;49m\u001b[38;5;241;43m*\u001b[39;49m\u001b[43mkwargs\u001b[49m\u001b[43m)\u001b[49m\n\u001b[1;32m   1749\u001b[0m result \u001b[38;5;241m=\u001b[39m \u001b[38;5;28;01mNone\u001b[39;00m\n\u001b[1;32m   1750\u001b[0m called_always_called_hooks \u001b[38;5;241m=\u001b[39m \u001b[38;5;28mset\u001b[39m()\n",
      "File \u001b[0;32m~/anaconda3/envs/cpk/lib/python3.13/site-packages/kan/Symbolic_KANLayer.py:120\u001b[0m, in \u001b[0;36mSymbolic_KANLayer.forward\u001b[0;34m(self, x, singularity_avoiding, y_th)\u001b[0m\n\u001b[1;32m    117\u001b[0m         postacts_\u001b[38;5;241m.\u001b[39mappend(\u001b[38;5;28mself\u001b[39m\u001b[38;5;241m.\u001b[39mmask[j][i]\u001b[38;5;241m*\u001b[39mxij)\n\u001b[1;32m    118\u001b[0m     postacts\u001b[38;5;241m.\u001b[39mappend(torch\u001b[38;5;241m.\u001b[39mstack(postacts_))\n\u001b[0;32m--> 120\u001b[0m postacts \u001b[38;5;241m=\u001b[39m \u001b[43mtorch\u001b[49m\u001b[38;5;241;43m.\u001b[39;49m\u001b[43mstack\u001b[49m\u001b[43m(\u001b[49m\u001b[43mpostacts\u001b[49m\u001b[43m)\u001b[49m\n\u001b[1;32m    121\u001b[0m postacts \u001b[38;5;241m=\u001b[39m postacts\u001b[38;5;241m.\u001b[39mpermute(\u001b[38;5;241m2\u001b[39m,\u001b[38;5;241m1\u001b[39m,\u001b[38;5;241m0\u001b[39m,\u001b[38;5;241m3\u001b[39m)[:,:,:,\u001b[38;5;241m0\u001b[39m]\n\u001b[1;32m    122\u001b[0m y \u001b[38;5;241m=\u001b[39m torch\u001b[38;5;241m.\u001b[39msum(postacts, dim\u001b[38;5;241m=\u001b[39m\u001b[38;5;241m2\u001b[39m)\n",
      "\u001b[0;31mKeyboardInterrupt\u001b[0m: "
     ]
    }
   ],
   "source": [
    "torch_random_generator = torch.Generator().manual_seed(options['random_seed'])\n",
    "\n",
    "bootstrapped_models = []\n",
    "loss_dicts = []\n",
    "\n",
    "for i in range(options['num_bootstrap_samples']):\n",
    "    print('-'*100, f'\\nTraining bootstrapped model {i+1}/{options[\"num_bootstrap_samples\"]}')\n",
    "    bootstrap_sample_indices = torch.randint(low=0, high=X_train_scaled.shape[0], \n",
    "                                             size=(X_train_scaled.shape[0],), \n",
    "                                            generator=torch_random_generator)\n",
    "\n",
    "    X_train_bootstrap = X_train_scaled[bootstrap_sample_indices]\n",
    "    y_train_bootstrap = y_train[bootstrap_sample_indices]\n",
    "\n",
    "    bootstrapped_model = KAN(width=[num_features, 1], seed=options['random_seed'] + i, auto_save=False)\n",
    "\n",
    "    loss_dict = train_regression(bootstrapped_model, X_train_bootstrap, y_train_bootstrap, X_test_scaled, y_test,\n",
    "                                  num_itrs=options['num_train_iterations'])\n",
    "\n",
    "    bootstrapped_models.append(bootstrapped_model)"
   ]
  },
  {
   "cell_type": "code",
   "execution_count": 163,
   "metadata": {},
   "outputs": [],
   "source": [
    "# this is dumb. Make prettier later\n",
    "class BagOfKans():\n",
    "    def __init__(self, models):\n",
    "        self.models = models\n",
    "    \n",
    "    def __call__(self, X):\n",
    "        return torch.stack([bootstrapped_model(X)[:, 0] for bootstrapped_model in self.models], dim=0).mean(dim=0)"
   ]
  },
  {
   "cell_type": "markdown",
   "metadata": {},
   "source": [
    "# Compare Performance"
   ]
  },
  {
   "cell_type": "code",
   "execution_count": 164,
   "metadata": {},
   "outputs": [],
   "source": [
    "y_pred_train_single = single_model(X_train_scaled)[:, 0].detach().numpy()\n",
    "y_pred_test_single = single_model(X_test_scaled)[:, 0].detach().numpy()"
   ]
  },
  {
   "cell_type": "code",
   "execution_count": 165,
   "metadata": {},
   "outputs": [],
   "source": [
    "bag_of_kans = BagOfKans(bootstrapped_models)\n",
    "\n",
    "y_pred_train_bok = bag_of_kans(X_train_scaled).detach().numpy()\n",
    "y_pred_test_bok = bag_of_kans(X_test_scaled).detach().numpy()"
   ]
  },
  {
   "cell_type": "code",
   "execution_count": 166,
   "metadata": {},
   "outputs": [
    {
     "data": {
      "text/plain": [
       "{'R2': 0.9654132723808289,\n",
       " 'MSE': 0.13101594150066376,\n",
       " 'MAE': 0.2777465283870697,\n",
       " 'MAPE': 892679356416.0,\n",
       " 'RMSE': 0.3619612455368042}"
      ]
     },
     "execution_count": 166,
     "metadata": {},
     "output_type": "execute_result"
    }
   ],
   "source": [
    "regression_report(y_train, y_pred_train_single)"
   ]
  },
  {
   "cell_type": "code",
   "execution_count": 167,
   "metadata": {},
   "outputs": [
    {
     "data": {
      "text/plain": [
       "{'R2': 0.9607968330383301,\n",
       " 'MSE': 0.14850324392318726,\n",
       " 'MAE': 0.2864103317260742,\n",
       " 'MAPE': 1322044882944.0,\n",
       " 'RMSE': 0.3853611946105957}"
      ]
     },
     "execution_count": 167,
     "metadata": {},
     "output_type": "execute_result"
    }
   ],
   "source": [
    "regression_report(y_train, y_pred_train_bok)"
   ]
  },
  {
   "cell_type": "code",
   "execution_count": 168,
   "metadata": {},
   "outputs": [
    {
     "data": {
      "text/plain": [
       "{'R2': 0.8893250823020935,\n",
       " 'MSE': 0.6783104538917542,\n",
       " 'MAE': 0.5960142612457275,\n",
       " 'MAPE': 0.27880141139030457,\n",
       " 'RMSE': 0.8235960602760315}"
      ]
     },
     "execution_count": 168,
     "metadata": {},
     "output_type": "execute_result"
    }
   ],
   "source": [
    "regression_report(y_test, y_pred_test_single)"
   ]
  },
  {
   "cell_type": "code",
   "execution_count": 169,
   "metadata": {},
   "outputs": [
    {
     "data": {
      "text/plain": [
       "{'R2': 0.9007682204246521,\n",
       " 'MSE': 0.6081770658493042,\n",
       " 'MAE': 0.5842803716659546,\n",
       " 'MAPE': 0.2572971284389496,\n",
       " 'RMSE': 0.7798570990562439}"
      ]
     },
     "execution_count": 169,
     "metadata": {},
     "output_type": "execute_result"
    }
   ],
   "source": [
    "regression_report(y_test, y_pred_test_bok)"
   ]
  }
 ],
 "metadata": {
  "kernelspec": {
   "display_name": "cpk",
   "language": "python",
   "name": "python3"
  },
  "language_info": {
   "codemirror_mode": {
    "name": "ipython",
    "version": 3
   },
   "file_extension": ".py",
   "mimetype": "text/x-python",
   "name": "python",
   "nbconvert_exporter": "python",
   "pygments_lexer": "ipython3",
   "version": "3.13.1"
  }
 },
 "nbformat": 4,
 "nbformat_minor": 2
}
