{
 "cells": [
  {
   "cell_type": "markdown",
   "metadata": {},
   "source": [
    "In this notebook I experiment with bootstrap aggregation (bagging) to improve the performance of KANs on the test set and reduce variance / overfitting / sensitivity to extreme values.\n",
    "\n",
    "This is primarily motivated by my reading of Elements of Statistical Learning 2nd Ed. Chapter 8, which details the use of the bootstrap."
   ]
  },
  {
   "cell_type": "code",
   "execution_count": 147,
   "metadata": {},
   "outputs": [],
   "source": [
    "import sys\n",
    "sys.path.append(\"../..\")"
   ]
  },
  {
   "cell_type": "code",
   "execution_count": 148,
   "metadata": {},
   "outputs": [],
   "source": [
    "options = {\n",
    "    'test_size': 0.2,\n",
    "    'num_bootstrap_samples': 25,\n",
    "    'random_seed': 1738,\n",
    "    'num_train_iterations': 500,\n",
    "}"
   ]
  },
  {
   "cell_type": "code",
   "execution_count": 149,
   "metadata": {},
   "outputs": [],
   "source": [
    "import numpy as np\n",
    "import torch\n",
    "import torch.nn.functional as F\n",
    "import polars as pl\n",
    "import matplotlib.pyplot as plt\n",
    "\n",
    "from sklearn.model_selection import GroupShuffleSplit\n",
    "\n",
    "from train import train_regression\n",
    "\n",
    "from utils.data_utils import get_all_descriptors_from_smiles_list, get_scaffolds, DESCRIPTOR_NAMES\n",
    "from utils.evaluation_utils import regression_report"
   ]
  },
  {
   "cell_type": "code",
   "execution_count": 150,
   "metadata": {},
   "outputs": [
    {
     "data": {
      "text/html": [
       "<div><style>\n",
       ".dataframe > thead > tr,\n",
       ".dataframe > tbody > tr {\n",
       "  text-align: right;\n",
       "  white-space: pre-wrap;\n",
       "}\n",
       "</style>\n",
       "<small>shape: (5, 4)</small><table border=\"1\" class=\"dataframe\"><thead><tr><th>Compound ID</th><th>measured log(solubility:mol/L)</th><th>ESOL predicted log(solubility:mol/L)</th><th>SMILES</th></tr><tr><td>str</td><td>f64</td><td>f64</td><td>str</td></tr></thead><tbody><tr><td>&quot;1,1,1,2-Tetrachloroethane&quot;</td><td>-2.18</td><td>-2.794</td><td>&quot;ClCC(Cl)(Cl)Cl&quot;</td></tr><tr><td>&quot;1,1,1-Trichloroethane&quot;</td><td>-2.0</td><td>-2.232</td><td>&quot;CC(Cl)(Cl)Cl&quot;</td></tr><tr><td>&quot;1,1,2,2-Tetrachloroethane&quot;</td><td>-1.74</td><td>-2.549</td><td>&quot;ClC(Cl)C(Cl)Cl&quot;</td></tr><tr><td>&quot;1,1,2-Trichloroethane&quot;</td><td>-1.48</td><td>-1.961</td><td>&quot;ClCC(Cl)Cl&quot;</td></tr><tr><td>&quot;1,1,2-Trichlorotrifluoroethane&quot;</td><td>-3.04</td><td>-3.077</td><td>&quot;FC(F)(Cl)C(F)(Cl)Cl&quot;</td></tr></tbody></table></div>"
      ],
      "text/plain": [
       "shape: (5, 4)\n",
       "┌─────────────────────────────────┬───────────────────────┬──────────────────┬─────────────────────┐\n",
       "│ Compound ID                     ┆ measured              ┆ ESOL predicted   ┆ SMILES              │\n",
       "│ ---                             ┆ log(solubility:mol/L) ┆ log(solubility:… ┆ ---                 │\n",
       "│ str                             ┆ ---                   ┆ ---              ┆ str                 │\n",
       "│                                 ┆ f64                   ┆ f64              ┆                     │\n",
       "╞═════════════════════════════════╪═══════════════════════╪══════════════════╪═════════════════════╡\n",
       "│ 1,1,1,2-Tetrachloroethane       ┆ -2.18                 ┆ -2.794           ┆ ClCC(Cl)(Cl)Cl      │\n",
       "│ 1,1,1-Trichloroethane           ┆ -2.0                  ┆ -2.232           ┆ CC(Cl)(Cl)Cl        │\n",
       "│ 1,1,2,2-Tetrachloroethane       ┆ -1.74                 ┆ -2.549           ┆ ClC(Cl)C(Cl)Cl      │\n",
       "│ 1,1,2-Trichloroethane           ┆ -1.48                 ┆ -1.961           ┆ ClCC(Cl)Cl          │\n",
       "│ 1,1,2-Trichlorotrifluoroethane  ┆ -3.04                 ┆ -3.077           ┆ FC(F)(Cl)C(F)(Cl)Cl │\n",
       "└─────────────────────────────────┴───────────────────────┴──────────────────┴─────────────────────┘"
      ]
     },
     "execution_count": 150,
     "metadata": {},
     "output_type": "execute_result"
    }
   ],
   "source": [
    "filepath = '../../datasets/aqueous_solubility_delaney.csv'\n",
    "df_delaney = pl.read_csv(filepath)\n",
    "df_delaney.head()"
   ]
  },
  {
   "cell_type": "code",
   "execution_count": 151,
   "metadata": {},
   "outputs": [],
   "source": [
    "smiles = df_delaney['SMILES'].to_list()"
   ]
  },
  {
   "cell_type": "code",
   "execution_count": 152,
   "metadata": {},
   "outputs": [
    {
     "name": "stderr",
     "output_type": "stream",
     "text": [
      "Calculating descriptors: 100%|██████████| 1144/1144 [00:06<00:00, 180.43it/s]\n"
     ]
    }
   ],
   "source": [
    "descriptors_df = get_all_descriptors_from_smiles_list(smiles, as_polars=True)"
   ]
  },
  {
   "cell_type": "code",
   "execution_count": 153,
   "metadata": {},
   "outputs": [
    {
     "data": {
      "text/html": [
       "<div><style>\n",
       ".dataframe > thead > tr,\n",
       ".dataframe > tbody > tr {\n",
       "  text-align: right;\n",
       "  white-space: pre-wrap;\n",
       "}\n",
       "</style>\n",
       "<small>shape: (5, 220)</small><table border=\"1\" class=\"dataframe\"><thead><tr><th>Compound ID</th><th>measured log(solubility:mol/L)</th><th>SMILES</th><th>MaxAbsEStateIndex</th><th>MaxEStateIndex</th><th>MinAbsEStateIndex</th><th>MinEStateIndex</th><th>qed</th><th>SPS</th><th>MolWt</th><th>HeavyAtomMolWt</th><th>ExactMolWt</th><th>NumValenceElectrons</th><th>NumRadicalElectrons</th><th>MaxPartialCharge</th><th>MinPartialCharge</th><th>MaxAbsPartialCharge</th><th>MinAbsPartialCharge</th><th>FpDensityMorgan1</th><th>FpDensityMorgan2</th><th>FpDensityMorgan3</th><th>BCUT2D_MWHI</th><th>BCUT2D_MWLOW</th><th>BCUT2D_CHGHI</th><th>BCUT2D_CHGLO</th><th>BCUT2D_LOGPHI</th><th>BCUT2D_LOGPLOW</th><th>BCUT2D_MRHI</th><th>BCUT2D_MRLOW</th><th>AvgIpc</th><th>BalabanJ</th><th>BertzCT</th><th>Chi0</th><th>Chi0n</th><th>Chi0v</th><th>Chi1</th><th>Chi1n</th><th>&hellip;</th><th>fr_imide</th><th>fr_isocyan</th><th>fr_isothiocyan</th><th>fr_ketone</th><th>fr_ketone_Topliss</th><th>fr_lactam</th><th>fr_lactone</th><th>fr_methoxy</th><th>fr_morpholine</th><th>fr_nitrile</th><th>fr_nitro</th><th>fr_nitro_arom</th><th>fr_nitro_arom_nonortho</th><th>fr_nitroso</th><th>fr_oxazole</th><th>fr_oxime</th><th>fr_para_hydroxylation</th><th>fr_phenol</th><th>fr_phenol_noOrthoHbond</th><th>fr_phos_acid</th><th>fr_phos_ester</th><th>fr_piperdine</th><th>fr_piperzine</th><th>fr_priamide</th><th>fr_prisulfonamd</th><th>fr_pyridine</th><th>fr_quatN</th><th>fr_sulfide</th><th>fr_sulfonamd</th><th>fr_sulfone</th><th>fr_term_acetylene</th><th>fr_tetrazole</th><th>fr_thiazole</th><th>fr_thiocyan</th><th>fr_thiophene</th><th>fr_unbrch_alkane</th><th>fr_urea</th></tr><tr><td>str</td><td>f64</td><td>str</td><td>f64</td><td>f64</td><td>f64</td><td>f64</td><td>f64</td><td>f64</td><td>f64</td><td>f64</td><td>f64</td><td>f64</td><td>f64</td><td>f64</td><td>f64</td><td>f64</td><td>f64</td><td>f64</td><td>f64</td><td>f64</td><td>f64</td><td>f64</td><td>f64</td><td>f64</td><td>f64</td><td>f64</td><td>f64</td><td>f64</td><td>f64</td><td>f64</td><td>f64</td><td>f64</td><td>f64</td><td>f64</td><td>f64</td><td>f64</td><td>&hellip;</td><td>f64</td><td>f64</td><td>f64</td><td>f64</td><td>f64</td><td>f64</td><td>f64</td><td>f64</td><td>f64</td><td>f64</td><td>f64</td><td>f64</td><td>f64</td><td>f64</td><td>f64</td><td>f64</td><td>f64</td><td>f64</td><td>f64</td><td>f64</td><td>f64</td><td>f64</td><td>f64</td><td>f64</td><td>f64</td><td>f64</td><td>f64</td><td>f64</td><td>f64</td><td>f64</td><td>f64</td><td>f64</td><td>f64</td><td>f64</td><td>f64</td><td>f64</td><td>f64</td></tr></thead><tbody><tr><td>&quot;1,1,1,2-Tetrachloroethane&quot;</td><td>-2.18</td><td>&quot;ClCC(Cl)(Cl)Cl&quot;</td><td>5.116512</td><td>5.116512</td><td>0.039352</td><td>-1.276235</td><td>0.487138</td><td>12.0</td><td>167.85</td><td>165.834</td><td>165.891061</td><td>38.0</td><td>0.0</td><td>0.203436</td><td>-0.122063</td><td>0.203436</td><td>0.122063</td><td>1.166667</td><td>1.333333</td><td>1.333333</td><td>35.582798</td><td>10.92878</td><td>2.155416</td><td>-2.003515</td><td>2.259665</td><td>-2.010232</td><td>6.690915</td><td>1.27955</td><td>1.351644</td><td>3.16849</td><td>35.302969</td><td>5.207107</td><td>2.718965</td><td>5.74268</td><td>2.56066</td><td>1.187761</td><td>&hellip;</td><td>0.0</td><td>0.0</td><td>0.0</td><td>0.0</td><td>0.0</td><td>0.0</td><td>0.0</td><td>0.0</td><td>0.0</td><td>0.0</td><td>0.0</td><td>0.0</td><td>0.0</td><td>0.0</td><td>0.0</td><td>0.0</td><td>0.0</td><td>0.0</td><td>0.0</td><td>0.0</td><td>0.0</td><td>0.0</td><td>0.0</td><td>0.0</td><td>0.0</td><td>0.0</td><td>0.0</td><td>0.0</td><td>0.0</td><td>0.0</td><td>0.0</td><td>0.0</td><td>0.0</td><td>0.0</td><td>0.0</td><td>0.0</td><td>0.0</td></tr><tr><td>&quot;1,1,1-Trichloroethane&quot;</td><td>-2.0</td><td>&quot;CC(Cl)(Cl)Cl&quot;</td><td>5.060957</td><td>5.060957</td><td>1.083333</td><td>-1.083333</td><td>0.445171</td><td>12.0</td><td>133.405</td><td>130.381</td><td>131.930033</td><td>32.0</td><td>0.0</td><td>0.187382</td><td>-0.084013</td><td>0.187382</td><td>0.084013</td><td>1.2</td><td>1.2</td><td>1.2</td><td>35.582513</td><td>10.948044</td><td>2.065641</td><td>-1.94269</td><td>2.228454</td><td>-1.870955</td><td>6.667091</td><td>1.268178</td><td>0.721928</td><td>3.023716</td><td>20.364528</td><td>4.5</td><td>2.633893</td><td>4.90168</td><td>2.0</td><td>1.066947</td><td>&hellip;</td><td>0.0</td><td>0.0</td><td>0.0</td><td>0.0</td><td>0.0</td><td>0.0</td><td>0.0</td><td>0.0</td><td>0.0</td><td>0.0</td><td>0.0</td><td>0.0</td><td>0.0</td><td>0.0</td><td>0.0</td><td>0.0</td><td>0.0</td><td>0.0</td><td>0.0</td><td>0.0</td><td>0.0</td><td>0.0</td><td>0.0</td><td>0.0</td><td>0.0</td><td>0.0</td><td>0.0</td><td>0.0</td><td>0.0</td><td>0.0</td><td>0.0</td><td>0.0</td><td>0.0</td><td>0.0</td><td>0.0</td><td>0.0</td><td>0.0</td></tr><tr><td>&quot;1,1,2,2-Tetrachloroethane&quot;</td><td>-1.74</td><td>&quot;ClC(Cl)C(Cl)Cl&quot;</td><td>5.114198</td><td>5.114198</td><td>0.67284</td><td>-0.67284</td><td>0.527312</td><td>11.0</td><td>167.85</td><td>165.834</td><td>165.891061</td><td>38.0</td><td>0.0</td><td>0.137344</td><td>-0.102365</td><td>0.137344</td><td>0.102365</td><td>0.666667</td><td>0.833333</td><td>0.833333</td><td>35.544933</td><td>10.929605</td><td>2.063775</td><td>-1.94593</td><td>2.160253</td><td>-1.959015</td><td>6.563502</td><td>1.293168</td><td>1.360964</td><td>2.993497</td><td>26.529325</td><td>5.154701</td><td>2.666558</td><td>5.690274</td><td>2.642734</td><td>1.206205</td><td>&hellip;</td><td>0.0</td><td>0.0</td><td>0.0</td><td>0.0</td><td>0.0</td><td>0.0</td><td>0.0</td><td>0.0</td><td>0.0</td><td>0.0</td><td>0.0</td><td>0.0</td><td>0.0</td><td>0.0</td><td>0.0</td><td>0.0</td><td>0.0</td><td>0.0</td><td>0.0</td><td>0.0</td><td>0.0</td><td>0.0</td><td>0.0</td><td>0.0</td><td>0.0</td><td>0.0</td><td>0.0</td><td>0.0</td><td>0.0</td><td>0.0</td><td>0.0</td><td>0.0</td><td>0.0</td><td>0.0</td><td>0.0</td><td>0.0</td><td>0.0</td></tr><tr><td>&quot;1,1,2-Trichloroethane&quot;</td><td>-1.48</td><td>&quot;ClCC(Cl)Cl&quot;</td><td>5.095679</td><td>5.095679</td><td>0.308642</td><td>-0.405864</td><td>0.480258</td><td>9.6</td><td>133.405</td><td>130.381</td><td>131.930033</td><td>32.0</td><td>0.0</td><td>0.120829</td><td>-0.123772</td><td>0.123772</td><td>0.120829</td><td>1.4</td><td>1.6</td><td>1.6</td><td>35.539546</td><td>10.949696</td><td>1.882355</td><td>-1.820706</td><td>2.007265</td><td>-1.820631</td><td>6.469236</td><td>1.398333</td><td>1.378783</td><td>2.539539</td><td>18.854753</td><td>4.284457</td><td>2.41835</td><td>4.686137</td><td>2.270056</td><td>1.111945</td><td>&hellip;</td><td>0.0</td><td>0.0</td><td>0.0</td><td>0.0</td><td>0.0</td><td>0.0</td><td>0.0</td><td>0.0</td><td>0.0</td><td>0.0</td><td>0.0</td><td>0.0</td><td>0.0</td><td>0.0</td><td>0.0</td><td>0.0</td><td>0.0</td><td>0.0</td><td>0.0</td><td>0.0</td><td>0.0</td><td>0.0</td><td>0.0</td><td>0.0</td><td>0.0</td><td>0.0</td><td>0.0</td><td>0.0</td><td>0.0</td><td>0.0</td><td>0.0</td><td>0.0</td><td>0.0</td><td>0.0</td><td>0.0</td><td>0.0</td><td>0.0</td></tr><tr><td>&quot;1,1,2-Trichlorotrifluoroethane&quot;</td><td>-3.04</td><td>&quot;FC(F)(Cl)C(F)(Cl)Cl&quot;</td><td>11.544753</td><td>11.544753</td><td>3.685957</td><td>-4.22608</td><td>0.553756</td><td>14.25</td><td>187.375</td><td>187.375</td><td>185.901768</td><td>50.0</td><td>0.0</td><td>0.382976</td><td>-0.199489</td><td>0.382976</td><td>0.199489</td><td>0.875</td><td>1.0</td><td>1.0</td><td>35.539783</td><td>10.767629</td><td>2.506738</td><td>-2.131584</td><td>2.420075</td><td>-2.268487</td><td>6.509766</td><td>0.024089</td><td>1.253298</td><td>4.020392</td><td>67.509775</td><td>7.0</td><td>3.267787</td><td>5.535574</td><td>3.25</td><td>1.383893</td><td>&hellip;</td><td>0.0</td><td>0.0</td><td>0.0</td><td>0.0</td><td>0.0</td><td>0.0</td><td>0.0</td><td>0.0</td><td>0.0</td><td>0.0</td><td>0.0</td><td>0.0</td><td>0.0</td><td>0.0</td><td>0.0</td><td>0.0</td><td>0.0</td><td>0.0</td><td>0.0</td><td>0.0</td><td>0.0</td><td>0.0</td><td>0.0</td><td>0.0</td><td>0.0</td><td>0.0</td><td>0.0</td><td>0.0</td><td>0.0</td><td>0.0</td><td>0.0</td><td>0.0</td><td>0.0</td><td>0.0</td><td>0.0</td><td>0.0</td><td>0.0</td></tr></tbody></table></div>"
      ],
      "text/plain": [
       "shape: (5, 220)\n",
       "┌────────────┬───────────┬───────────┬───────────┬───┬───────────┬───────────┬───────────┬─────────┐\n",
       "│ Compound   ┆ measured  ┆ SMILES    ┆ MaxAbsESt ┆ … ┆ fr_thiocy ┆ fr_thioph ┆ fr_unbrch ┆ fr_urea │\n",
       "│ ID         ┆ log(solub ┆ ---       ┆ ateIndex  ┆   ┆ an        ┆ ene       ┆ _alkane   ┆ ---     │\n",
       "│ ---        ┆ ility:mol ┆ str       ┆ ---       ┆   ┆ ---       ┆ ---       ┆ ---       ┆ f64     │\n",
       "│ str        ┆ /L)       ┆           ┆ f64       ┆   ┆ f64       ┆ f64       ┆ f64       ┆         │\n",
       "│            ┆ ---       ┆           ┆           ┆   ┆           ┆           ┆           ┆         │\n",
       "│            ┆ f64       ┆           ┆           ┆   ┆           ┆           ┆           ┆         │\n",
       "╞════════════╪═══════════╪═══════════╪═══════════╪═══╪═══════════╪═══════════╪═══════════╪═════════╡\n",
       "│ 1,1,1,2-Te ┆ -2.18     ┆ ClCC(Cl)( ┆ 5.116512  ┆ … ┆ 0.0       ┆ 0.0       ┆ 0.0       ┆ 0.0     │\n",
       "│ trachloroe ┆           ┆ Cl)Cl     ┆           ┆   ┆           ┆           ┆           ┆         │\n",
       "│ thane      ┆           ┆           ┆           ┆   ┆           ┆           ┆           ┆         │\n",
       "│ 1,1,1-Tric ┆ -2.0      ┆ CC(Cl)(Cl ┆ 5.060957  ┆ … ┆ 0.0       ┆ 0.0       ┆ 0.0       ┆ 0.0     │\n",
       "│ hloroethan ┆           ┆ )Cl       ┆           ┆   ┆           ┆           ┆           ┆         │\n",
       "│ e          ┆           ┆           ┆           ┆   ┆           ┆           ┆           ┆         │\n",
       "│ 1,1,2,2-Te ┆ -1.74     ┆ ClC(Cl)C( ┆ 5.114198  ┆ … ┆ 0.0       ┆ 0.0       ┆ 0.0       ┆ 0.0     │\n",
       "│ trachloroe ┆           ┆ Cl)Cl     ┆           ┆   ┆           ┆           ┆           ┆         │\n",
       "│ thane      ┆           ┆           ┆           ┆   ┆           ┆           ┆           ┆         │\n",
       "│ 1,1,2-Tric ┆ -1.48     ┆ ClCC(Cl)C ┆ 5.095679  ┆ … ┆ 0.0       ┆ 0.0       ┆ 0.0       ┆ 0.0     │\n",
       "│ hloroethan ┆           ┆ l         ┆           ┆   ┆           ┆           ┆           ┆         │\n",
       "│ e          ┆           ┆           ┆           ┆   ┆           ┆           ┆           ┆         │\n",
       "│ 1,1,2-Tric ┆ -3.04     ┆ FC(F)(Cl) ┆ 11.544753 ┆ … ┆ 0.0       ┆ 0.0       ┆ 0.0       ┆ 0.0     │\n",
       "│ hlorotrifl ┆           ┆ C(F)(Cl)C ┆           ┆   ┆           ┆           ┆           ┆         │\n",
       "│ uoroethane ┆           ┆ l         ┆           ┆   ┆           ┆           ┆           ┆         │\n",
       "└────────────┴───────────┴───────────┴───────────┴───┴───────────┴───────────┴───────────┴─────────┘"
      ]
     },
     "execution_count": 153,
     "metadata": {},
     "output_type": "execute_result"
    }
   ],
   "source": [
    "df = pl.concat([df_delaney, descriptors_df], how='horizontal').drop('ESOL predicted log(solubility:mol/L)')\n",
    "\n",
    "del df_delaney, descriptors_df\n",
    "\n",
    "df.head()"
   ]
  },
  {
   "cell_type": "code",
   "execution_count": 154,
   "metadata": {},
   "outputs": [
    {
     "data": {
      "text/html": [
       "<div><style>\n",
       ".dataframe > thead > tr,\n",
       ".dataframe > tbody > tr {\n",
       "  text-align: right;\n",
       "  white-space: pre-wrap;\n",
       "}\n",
       "</style>\n",
       "<small>shape: (1_144, 221)</small><table border=\"1\" class=\"dataframe\"><thead><tr><th>Compound ID</th><th>measured log(solubility:mol/L)</th><th>SMILES</th><th>scaffolds</th><th>MaxAbsEStateIndex</th><th>MaxEStateIndex</th><th>MinAbsEStateIndex</th><th>MinEStateIndex</th><th>qed</th><th>SPS</th><th>MolWt</th><th>HeavyAtomMolWt</th><th>ExactMolWt</th><th>NumValenceElectrons</th><th>NumRadicalElectrons</th><th>MaxPartialCharge</th><th>MinPartialCharge</th><th>MaxAbsPartialCharge</th><th>MinAbsPartialCharge</th><th>FpDensityMorgan1</th><th>FpDensityMorgan2</th><th>FpDensityMorgan3</th><th>BCUT2D_MWHI</th><th>BCUT2D_MWLOW</th><th>BCUT2D_CHGHI</th><th>BCUT2D_CHGLO</th><th>BCUT2D_LOGPHI</th><th>BCUT2D_LOGPLOW</th><th>BCUT2D_MRHI</th><th>BCUT2D_MRLOW</th><th>AvgIpc</th><th>BalabanJ</th><th>BertzCT</th><th>Chi0</th><th>Chi0n</th><th>Chi0v</th><th>Chi1</th><th>&hellip;</th><th>fr_imide</th><th>fr_isocyan</th><th>fr_isothiocyan</th><th>fr_ketone</th><th>fr_ketone_Topliss</th><th>fr_lactam</th><th>fr_lactone</th><th>fr_methoxy</th><th>fr_morpholine</th><th>fr_nitrile</th><th>fr_nitro</th><th>fr_nitro_arom</th><th>fr_nitro_arom_nonortho</th><th>fr_nitroso</th><th>fr_oxazole</th><th>fr_oxime</th><th>fr_para_hydroxylation</th><th>fr_phenol</th><th>fr_phenol_noOrthoHbond</th><th>fr_phos_acid</th><th>fr_phos_ester</th><th>fr_piperdine</th><th>fr_piperzine</th><th>fr_priamide</th><th>fr_prisulfonamd</th><th>fr_pyridine</th><th>fr_quatN</th><th>fr_sulfide</th><th>fr_sulfonamd</th><th>fr_sulfone</th><th>fr_term_acetylene</th><th>fr_tetrazole</th><th>fr_thiazole</th><th>fr_thiocyan</th><th>fr_thiophene</th><th>fr_unbrch_alkane</th><th>fr_urea</th></tr><tr><td>str</td><td>f64</td><td>str</td><td>str</td><td>f64</td><td>f64</td><td>f64</td><td>f64</td><td>f64</td><td>f64</td><td>f64</td><td>f64</td><td>f64</td><td>f64</td><td>f64</td><td>f64</td><td>f64</td><td>f64</td><td>f64</td><td>f64</td><td>f64</td><td>f64</td><td>f64</td><td>f64</td><td>f64</td><td>f64</td><td>f64</td><td>f64</td><td>f64</td><td>f64</td><td>f64</td><td>f64</td><td>f64</td><td>f64</td><td>f64</td><td>f64</td><td>f64</td><td>&hellip;</td><td>f64</td><td>f64</td><td>f64</td><td>f64</td><td>f64</td><td>f64</td><td>f64</td><td>f64</td><td>f64</td><td>f64</td><td>f64</td><td>f64</td><td>f64</td><td>f64</td><td>f64</td><td>f64</td><td>f64</td><td>f64</td><td>f64</td><td>f64</td><td>f64</td><td>f64</td><td>f64</td><td>f64</td><td>f64</td><td>f64</td><td>f64</td><td>f64</td><td>f64</td><td>f64</td><td>f64</td><td>f64</td><td>f64</td><td>f64</td><td>f64</td><td>f64</td><td>f64</td></tr></thead><tbody><tr><td>&quot;1,1,1,2-Tetrachloroethane&quot;</td><td>-2.18</td><td>&quot;ClCC(Cl)(Cl)Cl&quot;</td><td>&quot;no_scaffold_0&quot;</td><td>5.116512</td><td>5.116512</td><td>0.039352</td><td>-1.276235</td><td>0.487138</td><td>12.0</td><td>167.85</td><td>165.834</td><td>165.891061</td><td>38.0</td><td>0.0</td><td>0.203436</td><td>-0.122063</td><td>0.203436</td><td>0.122063</td><td>1.166667</td><td>1.333333</td><td>1.333333</td><td>35.582798</td><td>10.92878</td><td>2.155416</td><td>-2.003515</td><td>2.259665</td><td>-2.010232</td><td>6.690915</td><td>1.27955</td><td>1.351644</td><td>3.16849</td><td>35.302969</td><td>5.207107</td><td>2.718965</td><td>5.74268</td><td>2.56066</td><td>&hellip;</td><td>0.0</td><td>0.0</td><td>0.0</td><td>0.0</td><td>0.0</td><td>0.0</td><td>0.0</td><td>0.0</td><td>0.0</td><td>0.0</td><td>0.0</td><td>0.0</td><td>0.0</td><td>0.0</td><td>0.0</td><td>0.0</td><td>0.0</td><td>0.0</td><td>0.0</td><td>0.0</td><td>0.0</td><td>0.0</td><td>0.0</td><td>0.0</td><td>0.0</td><td>0.0</td><td>0.0</td><td>0.0</td><td>0.0</td><td>0.0</td><td>0.0</td><td>0.0</td><td>0.0</td><td>0.0</td><td>0.0</td><td>0.0</td><td>0.0</td></tr><tr><td>&quot;1,1,1-Trichloroethane&quot;</td><td>-2.0</td><td>&quot;CC(Cl)(Cl)Cl&quot;</td><td>&quot;no_scaffold_1&quot;</td><td>5.060957</td><td>5.060957</td><td>1.083333</td><td>-1.083333</td><td>0.445171</td><td>12.0</td><td>133.405</td><td>130.381</td><td>131.930033</td><td>32.0</td><td>0.0</td><td>0.187382</td><td>-0.084013</td><td>0.187382</td><td>0.084013</td><td>1.2</td><td>1.2</td><td>1.2</td><td>35.582513</td><td>10.948044</td><td>2.065641</td><td>-1.94269</td><td>2.228454</td><td>-1.870955</td><td>6.667091</td><td>1.268178</td><td>0.721928</td><td>3.023716</td><td>20.364528</td><td>4.5</td><td>2.633893</td><td>4.90168</td><td>2.0</td><td>&hellip;</td><td>0.0</td><td>0.0</td><td>0.0</td><td>0.0</td><td>0.0</td><td>0.0</td><td>0.0</td><td>0.0</td><td>0.0</td><td>0.0</td><td>0.0</td><td>0.0</td><td>0.0</td><td>0.0</td><td>0.0</td><td>0.0</td><td>0.0</td><td>0.0</td><td>0.0</td><td>0.0</td><td>0.0</td><td>0.0</td><td>0.0</td><td>0.0</td><td>0.0</td><td>0.0</td><td>0.0</td><td>0.0</td><td>0.0</td><td>0.0</td><td>0.0</td><td>0.0</td><td>0.0</td><td>0.0</td><td>0.0</td><td>0.0</td><td>0.0</td></tr><tr><td>&quot;1,1,2,2-Tetrachloroethane&quot;</td><td>-1.74</td><td>&quot;ClC(Cl)C(Cl)Cl&quot;</td><td>&quot;no_scaffold_2&quot;</td><td>5.114198</td><td>5.114198</td><td>0.67284</td><td>-0.67284</td><td>0.527312</td><td>11.0</td><td>167.85</td><td>165.834</td><td>165.891061</td><td>38.0</td><td>0.0</td><td>0.137344</td><td>-0.102365</td><td>0.137344</td><td>0.102365</td><td>0.666667</td><td>0.833333</td><td>0.833333</td><td>35.544933</td><td>10.929605</td><td>2.063775</td><td>-1.94593</td><td>2.160253</td><td>-1.959015</td><td>6.563502</td><td>1.293168</td><td>1.360964</td><td>2.993497</td><td>26.529325</td><td>5.154701</td><td>2.666558</td><td>5.690274</td><td>2.642734</td><td>&hellip;</td><td>0.0</td><td>0.0</td><td>0.0</td><td>0.0</td><td>0.0</td><td>0.0</td><td>0.0</td><td>0.0</td><td>0.0</td><td>0.0</td><td>0.0</td><td>0.0</td><td>0.0</td><td>0.0</td><td>0.0</td><td>0.0</td><td>0.0</td><td>0.0</td><td>0.0</td><td>0.0</td><td>0.0</td><td>0.0</td><td>0.0</td><td>0.0</td><td>0.0</td><td>0.0</td><td>0.0</td><td>0.0</td><td>0.0</td><td>0.0</td><td>0.0</td><td>0.0</td><td>0.0</td><td>0.0</td><td>0.0</td><td>0.0</td><td>0.0</td></tr><tr><td>&quot;1,1,2-Trichloroethane&quot;</td><td>-1.48</td><td>&quot;ClCC(Cl)Cl&quot;</td><td>&quot;no_scaffold_3&quot;</td><td>5.095679</td><td>5.095679</td><td>0.308642</td><td>-0.405864</td><td>0.480258</td><td>9.6</td><td>133.405</td><td>130.381</td><td>131.930033</td><td>32.0</td><td>0.0</td><td>0.120829</td><td>-0.123772</td><td>0.123772</td><td>0.120829</td><td>1.4</td><td>1.6</td><td>1.6</td><td>35.539546</td><td>10.949696</td><td>1.882355</td><td>-1.820706</td><td>2.007265</td><td>-1.820631</td><td>6.469236</td><td>1.398333</td><td>1.378783</td><td>2.539539</td><td>18.854753</td><td>4.284457</td><td>2.41835</td><td>4.686137</td><td>2.270056</td><td>&hellip;</td><td>0.0</td><td>0.0</td><td>0.0</td><td>0.0</td><td>0.0</td><td>0.0</td><td>0.0</td><td>0.0</td><td>0.0</td><td>0.0</td><td>0.0</td><td>0.0</td><td>0.0</td><td>0.0</td><td>0.0</td><td>0.0</td><td>0.0</td><td>0.0</td><td>0.0</td><td>0.0</td><td>0.0</td><td>0.0</td><td>0.0</td><td>0.0</td><td>0.0</td><td>0.0</td><td>0.0</td><td>0.0</td><td>0.0</td><td>0.0</td><td>0.0</td><td>0.0</td><td>0.0</td><td>0.0</td><td>0.0</td><td>0.0</td><td>0.0</td></tr><tr><td>&quot;1,1,2-Trichlorotrifluoroethane&quot;</td><td>-3.04</td><td>&quot;FC(F)(Cl)C(F)(Cl)Cl&quot;</td><td>&quot;no_scaffold_4&quot;</td><td>11.544753</td><td>11.544753</td><td>3.685957</td><td>-4.22608</td><td>0.553756</td><td>14.25</td><td>187.375</td><td>187.375</td><td>185.901768</td><td>50.0</td><td>0.0</td><td>0.382976</td><td>-0.199489</td><td>0.382976</td><td>0.199489</td><td>0.875</td><td>1.0</td><td>1.0</td><td>35.539783</td><td>10.767629</td><td>2.506738</td><td>-2.131584</td><td>2.420075</td><td>-2.268487</td><td>6.509766</td><td>0.024089</td><td>1.253298</td><td>4.020392</td><td>67.509775</td><td>7.0</td><td>3.267787</td><td>5.535574</td><td>3.25</td><td>&hellip;</td><td>0.0</td><td>0.0</td><td>0.0</td><td>0.0</td><td>0.0</td><td>0.0</td><td>0.0</td><td>0.0</td><td>0.0</td><td>0.0</td><td>0.0</td><td>0.0</td><td>0.0</td><td>0.0</td><td>0.0</td><td>0.0</td><td>0.0</td><td>0.0</td><td>0.0</td><td>0.0</td><td>0.0</td><td>0.0</td><td>0.0</td><td>0.0</td><td>0.0</td><td>0.0</td><td>0.0</td><td>0.0</td><td>0.0</td><td>0.0</td><td>0.0</td><td>0.0</td><td>0.0</td><td>0.0</td><td>0.0</td><td>0.0</td><td>0.0</td></tr><tr><td>&hellip;</td><td>&hellip;</td><td>&hellip;</td><td>&hellip;</td><td>&hellip;</td><td>&hellip;</td><td>&hellip;</td><td>&hellip;</td><td>&hellip;</td><td>&hellip;</td><td>&hellip;</td><td>&hellip;</td><td>&hellip;</td><td>&hellip;</td><td>&hellip;</td><td>&hellip;</td><td>&hellip;</td><td>&hellip;</td><td>&hellip;</td><td>&hellip;</td><td>&hellip;</td><td>&hellip;</td><td>&hellip;</td><td>&hellip;</td><td>&hellip;</td><td>&hellip;</td><td>&hellip;</td><td>&hellip;</td><td>&hellip;</td><td>&hellip;</td><td>&hellip;</td><td>&hellip;</td><td>&hellip;</td><td>&hellip;</td><td>&hellip;</td><td>&hellip;</td><td>&hellip;</td><td>&hellip;</td><td>&hellip;</td><td>&hellip;</td><td>&hellip;</td><td>&hellip;</td><td>&hellip;</td><td>&hellip;</td><td>&hellip;</td><td>&hellip;</td><td>&hellip;</td><td>&hellip;</td><td>&hellip;</td><td>&hellip;</td><td>&hellip;</td><td>&hellip;</td><td>&hellip;</td><td>&hellip;</td><td>&hellip;</td><td>&hellip;</td><td>&hellip;</td><td>&hellip;</td><td>&hellip;</td><td>&hellip;</td><td>&hellip;</td><td>&hellip;</td><td>&hellip;</td><td>&hellip;</td><td>&hellip;</td><td>&hellip;</td><td>&hellip;</td><td>&hellip;</td><td>&hellip;</td><td>&hellip;</td><td>&hellip;</td><td>&hellip;</td><td>&hellip;</td><td>&hellip;</td><td>&hellip;</td></tr><tr><td>&quot;vamidothion&quot;</td><td>1.144</td><td>&quot;CNC(=O)C(C)SCCSP(=O)(OC)(OC)&quot;</td><td>&quot;no_scaffold_317&quot;</td><td>11.615392</td><td>11.615392</td><td>0.003087</td><td>-2.968949</td><td>0.543859</td><td>13.5</td><td>287.343</td><td>269.199</td><td>287.041487</td><td>96.0</td><td>0.0</td><td>0.388103</td><td>-0.358225</td><td>0.388103</td><td>0.358225</td><td>1.375</td><td>1.9375</td><td>2.375</td><td>32.735952</td><td>10.444383</td><td>2.213171</td><td>-2.127898</td><td>2.587624</td><td>-2.27051</td><td>8.547558</td><td>-0.119315</td><td>2.323876</td><td>3.756993</td><td>256.422865</td><td>12.604448</td><td>9.888267</td><td>12.415688</td><td>7.486511</td><td>&hellip;</td><td>0.0</td><td>0.0</td><td>0.0</td><td>0.0</td><td>0.0</td><td>0.0</td><td>0.0</td><td>0.0</td><td>0.0</td><td>0.0</td><td>0.0</td><td>0.0</td><td>0.0</td><td>0.0</td><td>0.0</td><td>0.0</td><td>0.0</td><td>0.0</td><td>0.0</td><td>0.0</td><td>0.0</td><td>0.0</td><td>0.0</td><td>0.0</td><td>0.0</td><td>0.0</td><td>0.0</td><td>1.0</td><td>0.0</td><td>0.0</td><td>0.0</td><td>0.0</td><td>0.0</td><td>0.0</td><td>0.0</td><td>0.0</td><td>0.0</td></tr><tr><td>&quot;Vinclozolin&quot;</td><td>-4.925</td><td>&quot;CC1(OC(=O)N(C1=O)c2cc(Cl)cc(Cl…</td><td>&quot;O=C1COC(=O)N1c1ccccc1&quot;</td><td>12.114445</td><td>12.114445</td><td>0.271366</td><td>-1.355281</td><td>0.782457</td><td>23.166667</td><td>286.114</td><td>277.042</td><td>284.995949</td><td>94.0</td><td>0.0</td><td>0.422243</td><td>-0.428036</td><td>0.428036</td><td>0.422243</td><td>1.277778</td><td>1.833333</td><td>2.277778</td><td>35.496835</td><td>10.071253</td><td>2.489549</td><td>-2.146264</td><td>2.32667</td><td>-2.365046</td><td>6.35264</td><td>-0.124869</td><td>2.489028</td><td>2.482348</td><td>538.003547</td><td>13.499636</td><td>9.444395</td><td>10.956253</td><td>8.370028</td><td>&hellip;</td><td>1.0</td><td>0.0</td><td>0.0</td><td>0.0</td><td>0.0</td><td>0.0</td><td>1.0</td><td>0.0</td><td>0.0</td><td>0.0</td><td>0.0</td><td>0.0</td><td>0.0</td><td>0.0</td><td>0.0</td><td>0.0</td><td>0.0</td><td>0.0</td><td>0.0</td><td>0.0</td><td>0.0</td><td>0.0</td><td>0.0</td><td>0.0</td><td>0.0</td><td>0.0</td><td>0.0</td><td>0.0</td><td>0.0</td><td>0.0</td><td>0.0</td><td>0.0</td><td>0.0</td><td>0.0</td><td>0.0</td><td>0.0</td><td>0.0</td></tr><tr><td>&quot;Warfarin&quot;</td><td>-3.893</td><td>&quot;CC(=O)CC(c1ccccc1)c3c(O)c2cccc…</td><td>&quot;O=c1oc2ccccc2cc1Cc1ccccc1&quot;</td><td>12.412307</td><td>12.412307</td><td>0.064063</td><td>-0.614534</td><td>0.747626</td><td>12.217391</td><td>308.333</td><td>292.205</td><td>308.104859</td><td>116.0</td><td>0.0</td><td>0.343366</td><td>-0.506592</td><td>0.506592</td><td>0.343366</td><td>1.086957</td><td>1.73913</td><td>2.434783</td><td>16.39494</td><td>9.86892</td><td>2.251678</td><td>-2.169199</td><td>2.354357</td><td>-2.161027</td><td>5.847714</td><td>-0.116735</td><td>2.541895</td><td>2.258072</td><td>909.550973</td><td>16.396977</td><td>12.652568</td><td>12.652568</td><td>11.075387</td><td>&hellip;</td><td>0.0</td><td>0.0</td><td>0.0</td><td>1.0</td><td>1.0</td><td>0.0</td><td>0.0</td><td>0.0</td><td>0.0</td><td>0.0</td><td>0.0</td><td>0.0</td><td>0.0</td><td>0.0</td><td>0.0</td><td>0.0</td><td>1.0</td><td>0.0</td><td>0.0</td><td>0.0</td><td>0.0</td><td>0.0</td><td>0.0</td><td>0.0</td><td>0.0</td><td>0.0</td><td>0.0</td><td>0.0</td><td>0.0</td><td>0.0</td><td>0.0</td><td>0.0</td><td>0.0</td><td>0.0</td><td>0.0</td><td>0.0</td><td>0.0</td></tr><tr><td>&quot;Xipamide&quot;</td><td>-3.79</td><td>&quot;Cc1cccc(C)c1NC(=O)c2cc(c(Cl)cc…</td><td>&quot;O=C(Nc1ccccc1)c1ccccc1&quot;</td><td>12.38</td><td>12.38</td><td>0.235113</td><td>-4.118515</td><td>0.786275</td><td>11.304348</td><td>354.815</td><td>339.695</td><td>354.044106</td><td>122.0</td><td>0.0</td><td>0.258979</td><td>-0.507064</td><td>0.507064</td><td>0.258979</td><td>1.217391</td><td>1.782609</td><td>2.304348</td><td>35.495694</td><td>10.084512</td><td>2.207049</td><td>-2.129387</td><td>2.298114</td><td>-2.170017</td><td>7.888858</td><td>0.101919</td><td>2.410222</td><td>2.481292</td><td>874.340157</td><td>17.361443</td><td>12.422273</td><td>13.994698</td><td>10.608079</td><td>&hellip;</td><td>0.0</td><td>0.0</td><td>0.0</td><td>0.0</td><td>0.0</td><td>0.0</td><td>0.0</td><td>0.0</td><td>0.0</td><td>0.0</td><td>0.0</td><td>0.0</td><td>0.0</td><td>0.0</td><td>0.0</td><td>0.0</td><td>1.0</td><td>1.0</td><td>1.0</td><td>0.0</td><td>0.0</td><td>0.0</td><td>0.0</td><td>0.0</td><td>0.0</td><td>0.0</td><td>0.0</td><td>0.0</td><td>1.0</td><td>0.0</td><td>0.0</td><td>0.0</td><td>0.0</td><td>0.0</td><td>0.0</td><td>0.0</td><td>0.0</td></tr><tr><td>&quot;XMC&quot;</td><td>-2.581</td><td>&quot;CNC(=O)Oc1cc(C)cc(C)c1&quot;</td><td>&quot;c1ccccc1&quot;</td><td>10.870474</td><td>10.870474</td><td>0.439815</td><td>-0.439815</td><td>0.715837</td><td>9.461538</td><td>179.219</td><td>166.115</td><td>179.094629</td><td>70.0</td><td>0.0</td><td>0.411839</td><td>-0.410345</td><td>0.411839</td><td>0.410345</td><td>1.230769</td><td>1.769231</td><td>2.230769</td><td>16.549804</td><td>10.143142</td><td>2.011347</td><td>-2.046226</td><td>2.154292</td><td>-2.215688</td><td>5.695281</td><td>0.202664</td><td>2.016527</td><td>2.827751</td><td>300.450826</td><td>9.844935</td><td>8.048547</td><td>8.048547</td><td>6.113392</td><td>&hellip;</td><td>0.0</td><td>0.0</td><td>0.0</td><td>0.0</td><td>0.0</td><td>0.0</td><td>0.0</td><td>0.0</td><td>0.0</td><td>0.0</td><td>0.0</td><td>0.0</td><td>0.0</td><td>0.0</td><td>0.0</td><td>0.0</td><td>0.0</td><td>0.0</td><td>0.0</td><td>0.0</td><td>0.0</td><td>0.0</td><td>0.0</td><td>0.0</td><td>0.0</td><td>0.0</td><td>0.0</td><td>0.0</td><td>0.0</td><td>0.0</td><td>0.0</td><td>0.0</td><td>0.0</td><td>0.0</td><td>0.0</td><td>0.0</td><td>0.0</td></tr></tbody></table></div>"
      ],
      "text/plain": [
       "shape: (1_144, 221)\n",
       "┌────────────┬───────────┬───────────┬───────────┬───┬───────────┬───────────┬───────────┬─────────┐\n",
       "│ Compound   ┆ measured  ┆ SMILES    ┆ scaffolds ┆ … ┆ fr_thiocy ┆ fr_thioph ┆ fr_unbrch ┆ fr_urea │\n",
       "│ ID         ┆ log(solub ┆ ---       ┆ ---       ┆   ┆ an        ┆ ene       ┆ _alkane   ┆ ---     │\n",
       "│ ---        ┆ ility:mol ┆ str       ┆ str       ┆   ┆ ---       ┆ ---       ┆ ---       ┆ f64     │\n",
       "│ str        ┆ /L)       ┆           ┆           ┆   ┆ f64       ┆ f64       ┆ f64       ┆         │\n",
       "│            ┆ ---       ┆           ┆           ┆   ┆           ┆           ┆           ┆         │\n",
       "│            ┆ f64       ┆           ┆           ┆   ┆           ┆           ┆           ┆         │\n",
       "╞════════════╪═══════════╪═══════════╪═══════════╪═══╪═══════════╪═══════════╪═══════════╪═════════╡\n",
       "│ 1,1,1,2-Te ┆ -2.18     ┆ ClCC(Cl)( ┆ no_scaffo ┆ … ┆ 0.0       ┆ 0.0       ┆ 0.0       ┆ 0.0     │\n",
       "│ trachloroe ┆           ┆ Cl)Cl     ┆ ld_0      ┆   ┆           ┆           ┆           ┆         │\n",
       "│ thane      ┆           ┆           ┆           ┆   ┆           ┆           ┆           ┆         │\n",
       "│ 1,1,1-Tric ┆ -2.0      ┆ CC(Cl)(Cl ┆ no_scaffo ┆ … ┆ 0.0       ┆ 0.0       ┆ 0.0       ┆ 0.0     │\n",
       "│ hloroethan ┆           ┆ )Cl       ┆ ld_1      ┆   ┆           ┆           ┆           ┆         │\n",
       "│ e          ┆           ┆           ┆           ┆   ┆           ┆           ┆           ┆         │\n",
       "│ 1,1,2,2-Te ┆ -1.74     ┆ ClC(Cl)C( ┆ no_scaffo ┆ … ┆ 0.0       ┆ 0.0       ┆ 0.0       ┆ 0.0     │\n",
       "│ trachloroe ┆           ┆ Cl)Cl     ┆ ld_2      ┆   ┆           ┆           ┆           ┆         │\n",
       "│ thane      ┆           ┆           ┆           ┆   ┆           ┆           ┆           ┆         │\n",
       "│ 1,1,2-Tric ┆ -1.48     ┆ ClCC(Cl)C ┆ no_scaffo ┆ … ┆ 0.0       ┆ 0.0       ┆ 0.0       ┆ 0.0     │\n",
       "│ hloroethan ┆           ┆ l         ┆ ld_3      ┆   ┆           ┆           ┆           ┆         │\n",
       "│ e          ┆           ┆           ┆           ┆   ┆           ┆           ┆           ┆         │\n",
       "│ 1,1,2-Tric ┆ -3.04     ┆ FC(F)(Cl) ┆ no_scaffo ┆ … ┆ 0.0       ┆ 0.0       ┆ 0.0       ┆ 0.0     │\n",
       "│ hlorotrifl ┆           ┆ C(F)(Cl)C ┆ ld_4      ┆   ┆           ┆           ┆           ┆         │\n",
       "│ uoroethane ┆           ┆ l         ┆           ┆   ┆           ┆           ┆           ┆         │\n",
       "│ …          ┆ …         ┆ …         ┆ …         ┆ … ┆ …         ┆ …         ┆ …         ┆ …       │\n",
       "│ vamidothio ┆ 1.144     ┆ CNC(=O)C( ┆ no_scaffo ┆ … ┆ 0.0       ┆ 0.0       ┆ 0.0       ┆ 0.0     │\n",
       "│ n          ┆           ┆ C)SCCSP(= ┆ ld_317    ┆   ┆           ┆           ┆           ┆         │\n",
       "│            ┆           ┆ O)(OC)(OC ┆           ┆   ┆           ┆           ┆           ┆         │\n",
       "│            ┆           ┆ )         ┆           ┆   ┆           ┆           ┆           ┆         │\n",
       "│ Vinclozoli ┆ -4.925    ┆ CC1(OC(=O ┆ O=C1COC(= ┆ … ┆ 0.0       ┆ 0.0       ┆ 0.0       ┆ 0.0     │\n",
       "│ n          ┆           ┆ )N(C1=O)c ┆ O)N1c1ccc ┆   ┆           ┆           ┆           ┆         │\n",
       "│            ┆           ┆ 2cc(Cl)cc ┆ cc1       ┆   ┆           ┆           ┆           ┆         │\n",
       "│            ┆           ┆ (Cl…      ┆           ┆   ┆           ┆           ┆           ┆         │\n",
       "│ Warfarin   ┆ -3.893    ┆ CC(=O)CC( ┆ O=c1oc2cc ┆ … ┆ 0.0       ┆ 0.0       ┆ 0.0       ┆ 0.0     │\n",
       "│            ┆           ┆ c1ccccc1) ┆ ccc2cc1Cc ┆   ┆           ┆           ┆           ┆         │\n",
       "│            ┆           ┆ c3c(O)c2c ┆ 1ccccc1   ┆   ┆           ┆           ┆           ┆         │\n",
       "│            ┆           ┆ ccc…      ┆           ┆   ┆           ┆           ┆           ┆         │\n",
       "│ Xipamide   ┆ -3.79     ┆ Cc1cccc(C ┆ O=C(Nc1cc ┆ … ┆ 0.0       ┆ 0.0       ┆ 0.0       ┆ 0.0     │\n",
       "│            ┆           ┆ )c1NC(=O) ┆ ccc1)c1cc ┆   ┆           ┆           ┆           ┆         │\n",
       "│            ┆           ┆ c2cc(c(Cl ┆ ccc1      ┆   ┆           ┆           ┆           ┆         │\n",
       "│            ┆           ┆ )cc…      ┆           ┆   ┆           ┆           ┆           ┆         │\n",
       "│ XMC        ┆ -2.581    ┆ CNC(=O)Oc ┆ c1ccccc1  ┆ … ┆ 0.0       ┆ 0.0       ┆ 0.0       ┆ 0.0     │\n",
       "│            ┆           ┆ 1cc(C)cc( ┆           ┆   ┆           ┆           ┆           ┆         │\n",
       "│            ┆           ┆ C)c1      ┆           ┆   ┆           ┆           ┆           ┆         │\n",
       "└────────────┴───────────┴───────────┴───────────┴───┴───────────┴───────────┴───────────┴─────────┘"
      ]
     },
     "execution_count": 154,
     "metadata": {},
     "output_type": "execute_result"
    }
   ],
   "source": [
    "scaffolds = get_scaffolds(df['SMILES'].to_list())\n",
    "\n",
    "df.insert_column(\n",
    "    index = 3,\n",
    "    column = pl.Series('scaffolds', scaffolds)\n",
    ")"
   ]
  },
  {
   "cell_type": "markdown",
   "metadata": {},
   "source": [
    "# Split and Scale Data"
   ]
  },
  {
   "cell_type": "code",
   "execution_count": 155,
   "metadata": {},
   "outputs": [],
   "source": [
    "from sklearn.preprocessing import RobustScaler"
   ]
  },
  {
   "cell_type": "code",
   "execution_count": 156,
   "metadata": {},
   "outputs": [
    {
     "data": {
      "text/plain": [
       "((940,), (204,))"
      ]
     },
     "execution_count": 156,
     "metadata": {},
     "output_type": "execute_result"
    }
   ],
   "source": [
    "splitter = GroupShuffleSplit(n_splits=1, test_size=options['test_size'], random_state=options['random_seed'])\n",
    "\n",
    "train_idx, test_idx = next(splitter.split(df, groups=df['scaffolds']))\n",
    "\n",
    "train_idx.shape, test_idx.shape"
   ]
  },
  {
   "cell_type": "code",
   "execution_count": 157,
   "metadata": {},
   "outputs": [
    {
     "data": {
      "text/plain": [
       "(torch.Size([940, 217]),\n",
       " torch.Size([940]),\n",
       " torch.Size([204, 217]),\n",
       " torch.Size([204]))"
      ]
     },
     "execution_count": 157,
     "metadata": {},
     "output_type": "execute_result"
    }
   ],
   "source": [
    "# get the train and test data\n",
    "df_train = df[train_idx]\n",
    "df_test = df[test_idx]\n",
    "\n",
    "X_train = df_train[DESCRIPTOR_NAMES].to_torch()\n",
    "y_train = df_train['measured log(solubility:mol/L)'].to_torch().to(torch.float32)\n",
    "\n",
    "X_test = df_test[DESCRIPTOR_NAMES].to_torch()\n",
    "y_test = df_test['measured log(solubility:mol/L)'].to_torch().to(torch.float32)\n",
    "\n",
    "del df_train, df_test\n",
    "\n",
    "X_train.shape, y_train.shape, X_test.shape, y_test.shape"
   ]
  },
  {
   "cell_type": "code",
   "execution_count": 158,
   "metadata": {},
   "outputs": [],
   "source": [
    "scaler = RobustScaler()\n",
    "X_train_scaled = torch.tensor(scaler.fit_transform(X_train)).to(torch.float32)\n",
    "X_test_scaled = torch.tensor(scaler.transform(X_test)).to(torch.float32)"
   ]
  },
  {
   "cell_type": "markdown",
   "metadata": {},
   "source": [
    "# Train Single Model"
   ]
  },
  {
   "cell_type": "code",
   "execution_count": 159,
   "metadata": {},
   "outputs": [],
   "source": [
    "from kan import KAN"
   ]
  },
  {
   "cell_type": "code",
   "execution_count": 160,
   "metadata": {},
   "outputs": [],
   "source": [
    "num_features = X_train.shape[1]\n",
    "single_model = KAN(width=[num_features, 1], seed=options['random_seed'], auto_save=False)"
   ]
  },
  {
   "cell_type": "code",
   "execution_count": 161,
   "metadata": {},
   "outputs": [
    {
     "name": "stdout",
     "output_type": "stream",
     "text": [
      "Train iteration 0, mse: 15.15121841430664, r2: -2.9997494220733643, mae: 3.1482648849487305, rmse: 3.892456531524658\n",
      "Test iteration 0, mse: 19.47254180908203, r2: -2.1771907806396484, mae: 3.5290088653564453, rmse: 4.4127702713012695\n",
      "Train iteration 50, mse: 0.54261714220047, r2: 0.856755256652832, mae: 0.5660755038261414, rmse: 0.7366254925727844\n",
      "Test iteration 50, mse: 0.8396344780921936, r2: 0.8630030155181885, mae: 0.6648234128952026, rmse: 0.9163157343864441\n",
      "Train iteration 100, mse: 0.3416093587875366, r2: 0.9098190069198608, mae: 0.4494020640850067, rmse: 0.5844735503196716\n",
      "Test iteration 100, mse: 0.6919218301773071, r2: 0.8871042132377625, mae: 0.5848508477210999, rmse: 0.8318184018135071\n",
      "Train iteration 150, mse: 0.2690228521823883, r2: 0.9289810061454773, mae: 0.39788222312927246, rmse: 0.5186741352081299\n",
      "Test iteration 150, mse: 0.6290132403373718, r2: 0.8973685503005981, mae: 0.5619761943817139, rmse: 0.7931035757064819\n",
      "Train iteration 200, mse: 0.22571152448654175, r2: 0.9404147267341614, mae: 0.36140337586402893, rmse: 0.4750910699367523\n",
      "Test iteration 200, mse: 0.6026738882064819, r2: 0.9016661643981934, mae: 0.5542885661125183, rmse: 0.77632075548172\n",
      "Train iteration 250, mse: 0.1961662918329239, r2: 0.9482143521308899, mae: 0.33498451113700867, rmse: 0.4429066479206085\n",
      "Test iteration 250, mse: 0.5958444476127625, r2: 0.9027804732322693, mae: 0.5533077120780945, rmse: 0.7719095945358276\n",
      "Train iteration 300, mse: 0.17579512298107147, r2: 0.95359206199646, mae: 0.3183937668800354, rmse: 0.4192792773246765\n",
      "Test iteration 300, mse: 0.6007537841796875, r2: 0.9019794464111328, mae: 0.5584791898727417, rmse: 0.775083065032959\n",
      "Train iteration 350, mse: 0.16043883562088013, r2: 0.9576459527015686, mae: 0.3059849441051483, rmse: 0.40054816007614136\n",
      "Test iteration 350, mse: 0.6126539707183838, r2: 0.9000377655029297, mae: 0.5650385618209839, rmse: 0.7827221751213074\n",
      "Train iteration 400, mse: 0.1486743539571762, r2: 0.9607516527175903, mae: 0.29577410221099854, rmse: 0.38558313250541687\n",
      "Test iteration 400, mse: 0.6301503777503967, r2: 0.8971830010414124, mae: 0.575284481048584, rmse: 0.7938201427459717\n",
      "Train iteration 450, mse: 0.13914602994918823, r2: 0.9632670283317566, mae: 0.28655126690864563, rmse: 0.37302282452583313\n",
      "Test iteration 450, mse: 0.6528754234313965, r2: 0.8934751152992249, mae: 0.586845338344574, rmse: 0.8080070614814758\n"
     ]
    }
   ],
   "source": [
    "loss_dict = train_regression(single_model, X_train_scaled, y_train, X_test_scaled, y_test, num_itrs=options['num_train_iterations'])"
   ]
  },
  {
   "cell_type": "markdown",
   "metadata": {},
   "source": [
    "# Train Bag of KANs"
   ]
  },
  {
   "cell_type": "code",
   "execution_count": 162,
   "metadata": {},
   "outputs": [
    {
     "name": "stdout",
     "output_type": "stream",
     "text": [
      "---------------------------------------------------------------------------------------------------- \n",
      "Training bootstrapped model 1/25\n",
      "Train iteration 0, mse: 15.173768997192383, r2: -2.9541091918945312, mae: 3.143610715866089, rmse: 3.8953521251678467\n",
      "Test iteration 0, mse: 19.492952346801758, r2: -2.180521249771118, mae: 3.5307157039642334, rmse: 4.4150824546813965\n",
      "Train iteration 50, mse: 0.4961289167404175, r2: 0.870714545249939, mae: 0.5424894094467163, rmse: 0.7043641805648804\n",
      "Test iteration 50, mse: 1.025462031364441, r2: 0.8326829671859741, mae: 0.7039005756378174, rmse: 1.012650966644287\n",
      "Train iteration 100, mse: 0.3026880919933319, r2: 0.9211229681968689, mae: 0.4194069504737854, rmse: 0.5501709580421448\n",
      "Test iteration 100, mse: 0.8655644059181213, r2: 0.8587722778320312, mae: 0.6311904191970825, rmse: 0.9303571581840515\n",
      "Train iteration 150, mse: 0.2195110023021698, r2: 0.9427979588508606, mae: 0.357797771692276, rmse: 0.46852001547813416\n",
      "Test iteration 150, mse: 0.778685986995697, r2: 0.8729475736618042, mae: 0.5973761081695557, rmse: 0.8824318647384644\n",
      "Train iteration 200, mse: 0.17553317546844482, r2: 0.9542580842971802, mae: 0.32109928131103516, rmse: 0.41896679997444153\n",
      "Test iteration 200, mse: 0.749794065952301, r2: 0.8776616454124451, mae: 0.5839534997940063, rmse: 0.8659064769744873\n",
      "Train iteration 250, mse: 0.14669492840766907, r2: 0.9617729783058167, mae: 0.29184556007385254, rmse: 0.3830077350139618\n",
      "Test iteration 250, mse: 0.7560870051383972, r2: 0.8766348361968994, mae: 0.5919284224510193, rmse: 0.8695326447486877\n",
      "Train iteration 300, mse: 0.1261119544506073, r2: 0.9671366810798645, mae: 0.27070632576942444, rmse: 0.355122447013855\n",
      "Test iteration 300, mse: 0.7767993211746216, r2: 0.8732553720474243, mae: 0.6033638119697571, rmse: 0.8813621997833252\n",
      "Train iteration 350, mse: 0.11108560860157013, r2: 0.971052348613739, mae: 0.255254328250885, rmse: 0.333295077085495\n",
      "Test iteration 350, mse: 0.8075608015060425, r2: 0.8682363033294678, mae: 0.6195538640022278, rmse: 0.8986438512802124\n",
      "Train iteration 400, mse: 0.0988786444067955, r2: 0.9742333889007568, mae: 0.24131081998348236, rmse: 0.3144497573375702\n",
      "Test iteration 400, mse: 0.8344247341156006, r2: 0.8638530969619751, mae: 0.6381691098213196, rmse: 0.9134685397148132\n",
      "Train iteration 450, mse: 0.08858327567577362, r2: 0.9769161939620972, mae: 0.2283245325088501, rmse: 0.2976294159889221\n",
      "Test iteration 450, mse: 0.8518098592758179, r2: 0.8610164523124695, mae: 0.6503574252128601, rmse: 0.9229354858398438\n",
      "---------------------------------------------------------------------------------------------------- \n",
      "Training bootstrapped model 2/25\n",
      "Train iteration 0, mse: 10.414831161499023, r2: -1.7006804943084717, mae: 2.710176706314087, rmse: 3.2272017002105713\n",
      "Test iteration 0, mse: 10.79726791381836, r2: -0.7617104053497314, mae: 2.691739320755005, rmse: 3.285919666290283\n",
      "Train iteration 50, mse: 0.5029682517051697, r2: 0.869574785232544, mae: 0.5491390824317932, rmse: 0.7092025279998779\n",
      "Test iteration 50, mse: 0.7857149243354797, r2: 0.8718006610870361, mae: 0.6448681950569153, rmse: 0.8864056468009949\n",
      "Train iteration 100, mse: 0.2809711992740631, r2: 0.9271410703659058, mae: 0.41150516271591187, rmse: 0.5300671458244324\n",
      "Test iteration 100, mse: 0.6530420780181885, r2: 0.8934479355812073, mae: 0.584956705570221, rmse: 0.8081101775169373\n",
      "Train iteration 150, mse: 0.18948917090892792, r2: 0.9508633613586426, mae: 0.3299792408943176, rmse: 0.43530353903770447\n",
      "Test iteration 150, mse: 0.6709095239639282, r2: 0.8905326724052429, mae: 0.5887728929519653, rmse: 0.8190906643867493\n",
      "Train iteration 200, mse: 0.1455824375152588, r2: 0.9622488617897034, mae: 0.2822732627391815, rmse: 0.38155266642570496\n",
      "Test iteration 200, mse: 0.7126456499099731, r2: 0.8837228417396545, mae: 0.6093712449073792, rmse: 0.8441834449768066\n",
      "Train iteration 250, mse: 0.12138665467500687, r2: 0.9685230851173401, mae: 0.25655224919319153, rmse: 0.3484058678150177\n",
      "Test iteration 250, mse: 0.7573500871658325, r2: 0.8764287829399109, mae: 0.6356503367424011, rmse: 0.870258629322052\n",
      "Train iteration 300, mse: 0.10545731335878372, r2: 0.9726537466049194, mae: 0.23954415321350098, rmse: 0.324741929769516\n",
      "Test iteration 300, mse: 0.802224338054657, r2: 0.8691070079803467, mae: 0.659693717956543, rmse: 0.8956697583198547\n",
      "Train iteration 350, mse: 0.0941038578748703, r2: 0.9755978584289551, mae: 0.2270912528038025, rmse: 0.30676352977752686\n",
      "Test iteration 350, mse: 0.8423635363578796, r2: 0.8625577688217163, mae: 0.6775529980659485, rmse: 0.9178036451339722\n",
      "Train iteration 400, mse: 0.08535333722829819, r2: 0.9778669476509094, mae: 0.2166415899991989, rmse: 0.29215294122695923\n",
      "Test iteration 400, mse: 0.877455472946167, r2: 0.8568320870399475, mae: 0.6899058818817139, rmse: 0.936725914478302\n",
      "Train iteration 450, mse: 0.07803269475698471, r2: 0.9797652363777161, mae: 0.20600971579551697, rmse: 0.2793433368206024\n",
      "Test iteration 450, mse: 0.9109329581260681, r2: 0.8513697981834412, mae: 0.699928879737854, rmse: 0.9544280767440796\n",
      "---------------------------------------------------------------------------------------------------- \n",
      "Training bootstrapped model 3/25\n",
      "Train iteration 0, mse: 13.95373821258545, r2: -2.5388615131378174, mae: 3.0545432567596436, rmse: 3.7354702949523926\n",
      "Test iteration 0, mse: 21.475963592529297, r2: -2.5040745735168457, mae: 3.5057544708251953, rmse: 4.634216785430908\n",
      "Train iteration 50, mse: 0.5509052276611328, r2: 0.8602827787399292, mae: 0.5810467600822449, rmse: 0.7422298789024353\n",
      "Test iteration 50, mse: 0.8622914552688599, r2: 0.859306275844574, mae: 0.634615957736969, rmse: 0.9285964965820312\n",
      "Train iteration 100, mse: 0.275211900472641, r2: 0.9302024245262146, mae: 0.41419634222984314, rmse: 0.5246064066886902\n",
      "Test iteration 100, mse: 0.7167490124702454, r2: 0.8830533623695374, mae: 0.57694411277771, rmse: 0.8466103076934814\n",
      "Train iteration 150, mse: 0.19857284426689148, r2: 0.9496392011642456, mae: 0.3471628427505493, rmse: 0.44561514258384705\n",
      "Test iteration 150, mse: 0.6743175387382507, r2: 0.8899765610694885, mae: 0.5712114572525024, rmse: 0.8211684226989746\n",
      "Train iteration 200, mse: 0.15584130585193634, r2: 0.9604764580726624, mae: 0.30119648575782776, rmse: 0.3947674036026001\n",
      "Test iteration 200, mse: 0.6442196369171143, r2: 0.8948874473571777, mae: 0.5708388686180115, rmse: 0.8026329278945923\n",
      "Train iteration 250, mse: 0.12853334844112396, r2: 0.9674021601676941, mae: 0.2715824842453003, rmse: 0.3585154712200165\n",
      "Test iteration 250, mse: 0.6359795331954956, r2: 0.8962318897247314, mae: 0.5713359117507935, rmse: 0.7974832653999329\n",
      "Train iteration 300, mse: 0.11033923178911209, r2: 0.972016453742981, mae: 0.24928376078605652, rmse: 0.33217349648475647\n",
      "Test iteration 300, mse: 0.6421265006065369, r2: 0.8952289819717407, mae: 0.57564777135849, rmse: 0.8013279438018799\n",
      "Train iteration 350, mse: 0.09703487157821655, r2: 0.975390613079071, mae: 0.23084838688373566, rmse: 0.31150421500205994\n",
      "Test iteration 350, mse: 0.6538174748420715, r2: 0.8933213949203491, mae: 0.5846698880195618, rmse: 0.8085898160934448\n",
      "Train iteration 400, mse: 0.08649171888828278, r2: 0.9780644774436951, mae: 0.21657603979110718, rmse: 0.2940947413444519\n",
      "Test iteration 400, mse: 0.6669884324073792, r2: 0.8911724090576172, mae: 0.5956433415412903, rmse: 0.8166936039924622\n",
      "Train iteration 450, mse: 0.07815054059028625, r2: 0.9801799654960632, mae: 0.2056593894958496, rmse: 0.27955418825149536\n",
      "Test iteration 450, mse: 0.6795414686203003, r2: 0.8891242146492004, mae: 0.6066983342170715, rmse: 0.8243430256843567\n",
      "---------------------------------------------------------------------------------------------------- \n",
      "Training bootstrapped model 4/25\n",
      "Train iteration 0, mse: 10.550354957580566, r2: -1.8163909912109375, mae: 2.7519876956939697, rmse: 3.248131036758423\n",
      "Test iteration 0, mse: 12.84453010559082, r2: -1.0957472324371338, mae: 2.878981351852417, rmse: 3.5839266777038574\n",
      "Train iteration 50, mse: 0.46172282099723816, r2: 0.876744270324707, mae: 0.5165145993232727, rmse: 0.6795018911361694\n",
      "Test iteration 50, mse: 0.9616805911064148, r2: 0.8430896997451782, mae: 0.6740761399269104, rmse: 0.9806531667709351\n",
      "Train iteration 100, mse: 0.26834362745285034, r2: 0.9283663034439087, mae: 0.3908635377883911, rmse: 0.5180189609527588\n",
      "Test iteration 100, mse: 0.7700324654579163, r2: 0.8743594884872437, mae: 0.6209749579429626, rmse: 0.8775149583816528\n",
      "Train iteration 150, mse: 0.20373256504535675, r2: 0.9456140995025635, mae: 0.33696961402893066, rmse: 0.45136743783950806\n",
      "Test iteration 150, mse: 0.7367207407951355, r2: 0.879794716835022, mae: 0.613041877746582, rmse: 0.858324408531189\n",
      "Train iteration 200, mse: 0.16382770240306854, r2: 0.9562665820121765, mae: 0.30044323205947876, rmse: 0.4047563374042511\n",
      "Test iteration 200, mse: 0.7201367616653442, r2: 0.8825005888938904, mae: 0.6064126491546631, rmse: 0.8486087322235107\n",
      "Train iteration 250, mse: 0.13374844193458557, r2: 0.9642961621284485, mae: 0.27499058842658997, rmse: 0.3657163381576538\n",
      "Test iteration 250, mse: 0.7475091814994812, r2: 0.8780344724655151, mae: 0.617648720741272, rmse: 0.8645861148834229\n",
      "Train iteration 300, mse: 0.11185023188591003, r2: 0.9701418876647949, mae: 0.255368709564209, rmse: 0.3344401717185974\n",
      "Test iteration 300, mse: 0.8032021522521973, r2: 0.868947446346283, mae: 0.6455833315849304, rmse: 0.8962154388427734\n",
      "Train iteration 350, mse: 0.09645254164934158, r2: 0.9742522239685059, mae: 0.23790666460990906, rmse: 0.31056809425354004\n",
      "Test iteration 350, mse: 0.877604603767395, r2: 0.8568077087402344, mae: 0.6779062747955322, rmse: 0.9368055462837219\n",
      "Train iteration 400, mse: 0.08563007414340973, r2: 0.977141261100769, mae: 0.22272248566150665, rmse: 0.29262617230415344\n",
      "Test iteration 400, mse: 0.9675765633583069, r2: 0.8421276807785034, mae: 0.7157952785491943, rmse: 0.9836546778678894\n",
      "Train iteration 450, mse: 0.0775037556886673, r2: 0.9793105721473694, mae: 0.2103109359741211, rmse: 0.2783949673175812\n",
      "Test iteration 450, mse: 1.0591264963150024, r2: 0.8271901607513428, mae: 0.75053870677948, rmse: 1.0291386842727661\n",
      "---------------------------------------------------------------------------------------------------- \n",
      "Training bootstrapped model 5/25\n",
      "Train iteration 0, mse: 12.845983505249023, r2: -2.4957547187805176, mae: 3.049041986465454, rmse: 3.5841293334960938\n",
      "Test iteration 0, mse: 13.308330535888672, r2: -1.171422004699707, mae: 3.1156063079833984, rmse: 3.6480584144592285\n",
      "Train iteration 50, mse: 0.5594382286071777, r2: 0.8477610349655151, mae: 0.5638700723648071, rmse: 0.7479560375213623\n",
      "Test iteration 50, mse: 0.7145634293556213, r2: 0.8834099769592285, mae: 0.6034387946128845, rmse: 0.8453185558319092\n",
      "Train iteration 100, mse: 0.3349086046218872, r2: 0.9088619351387024, mae: 0.43985888361930847, rmse: 0.5787128806114197\n",
      "Test iteration 100, mse: 0.6769073605537415, r2: 0.8895540237426758, mae: 0.6042158007621765, rmse: 0.8227437734603882\n",
      "Train iteration 150, mse: 0.23896141350269318, r2: 0.9349718689918518, mae: 0.3747803270816803, rmse: 0.48883679509162903\n",
      "Test iteration 150, mse: 0.6196708083152771, r2: 0.898892879486084, mae: 0.5751566886901855, rmse: 0.7871917486190796\n",
      "Train iteration 200, mse: 0.1858031302690506, r2: 0.9494377374649048, mae: 0.3282245397567749, rmse: 0.4310488700866699\n",
      "Test iteration 200, mse: 0.6122398972511292, r2: 0.900105357170105, mae: 0.5736856460571289, rmse: 0.7824575901031494\n",
      "Train iteration 250, mse: 0.15689902007579803, r2: 0.9573033452033997, mae: 0.2966253459453583, rmse: 0.3961048126220703\n",
      "Test iteration 250, mse: 0.6108319759368896, r2: 0.9003350734710693, mae: 0.5751811265945435, rmse: 0.7815573811531067\n",
      "Train iteration 300, mse: 0.13642343878746033, r2: 0.9628753066062927, mae: 0.27187925577163696, rmse: 0.3693554401397705\n",
      "Test iteration 300, mse: 0.6126184463500977, r2: 0.9000435471534729, mae: 0.5752281546592712, rmse: 0.782699465751648\n",
      "Train iteration 350, mse: 0.12066666036844254, r2: 0.9671632051467896, mae: 0.25251343846321106, rmse: 0.34737107157707214\n",
      "Test iteration 350, mse: 0.6244696378707886, r2: 0.8981099128723145, mae: 0.5849799513816833, rmse: 0.7902339100837708\n",
      "Train iteration 400, mse: 0.1080167293548584, r2: 0.9706056118011475, mae: 0.23642367124557495, rmse: 0.3286589980125427\n",
      "Test iteration 400, mse: 0.6376623511314392, r2: 0.895957350730896, mae: 0.5982202291488647, rmse: 0.7985376119613647\n",
      "Train iteration 450, mse: 0.09787128865718842, r2: 0.9733664393424988, mae: 0.22203801572322845, rmse: 0.31284385919570923\n",
      "Test iteration 450, mse: 0.6503161191940308, r2: 0.8938927054405212, mae: 0.6054712533950806, rmse: 0.8064218163490295\n",
      "---------------------------------------------------------------------------------------------------- \n",
      "Training bootstrapped model 6/25\n",
      "Train iteration 0, mse: 15.98916244506836, r2: -2.9524970054626465, mae: 3.3267500400543213, rmse: 3.998645067214966\n",
      "Test iteration 0, mse: 19.31792640686035, r2: -2.151963710784912, mae: 3.4812774658203125, rmse: 4.395216464996338\n",
      "Train iteration 50, mse: 0.5251993536949158, r2: 0.8701714873313904, mae: 0.569197952747345, rmse: 0.7247064113616943\n",
      "Test iteration 50, mse: 0.80709308385849, r2: 0.8683125972747803, mae: 0.6479499936103821, rmse: 0.898383617401123\n",
      "Train iteration 100, mse: 0.30013006925582886, r2: 0.925808310508728, mae: 0.42575424909591675, rmse: 0.5478413105010986\n",
      "Test iteration 100, mse: 0.7593768239021301, r2: 0.876098096370697, mae: 0.6430405378341675, rmse: 0.871422290802002\n",
      "Train iteration 150, mse: 0.22405292093753815, r2: 0.9446144700050354, mae: 0.3593974709510803, rmse: 0.47334229946136475\n",
      "Test iteration 150, mse: 0.7088109254837036, r2: 0.8843485713005066, mae: 0.6264179944992065, rmse: 0.8419091105461121\n",
      "Train iteration 200, mse: 0.17781570553779602, r2: 0.9560441970825195, mae: 0.3196519613265991, rmse: 0.4216820001602173\n",
      "Test iteration 200, mse: 0.6965579390525818, r2: 0.886347770690918, mae: 0.6184000372886658, rmse: 0.8346004486083984\n",
      "Train iteration 250, mse: 0.14838941395282745, r2: 0.9633183479309082, mae: 0.2902943789958954, rmse: 0.3852134644985199\n",
      "Test iteration 250, mse: 0.7006298303604126, r2: 0.8856834173202515, mae: 0.6128627061843872, rmse: 0.8370363116264343\n",
      "Train iteration 300, mse: 0.12859874963760376, r2: 0.9682105779647827, mae: 0.26811274886131287, rmse: 0.3586066663265228\n",
      "Test iteration 300, mse: 0.7197602391242981, r2: 0.8825620412826538, mae: 0.6121551990509033, rmse: 0.848386824131012\n",
      "Train iteration 350, mse: 0.11365175992250443, r2: 0.9719054698944092, mae: 0.2512010633945465, rmse: 0.33712276816368103\n",
      "Test iteration 350, mse: 0.7479796409606934, r2: 0.8779577016830444, mae: 0.6129994988441467, rmse: 0.8648581504821777\n",
      "Train iteration 400, mse: 0.10094179958105087, r2: 0.9750473499298096, mae: 0.2357240617275238, rmse: 0.3177133798599243\n",
      "Test iteration 400, mse: 0.7806731462478638, r2: 0.8726233243942261, mae: 0.6154221892356873, rmse: 0.8835570812225342\n",
      "Train iteration 450, mse: 0.09029386937618256, r2: 0.9776794910430908, mae: 0.22095507383346558, rmse: 0.3004893958568573\n",
      "Test iteration 450, mse: 0.816758930683136, r2: 0.8667354583740234, mae: 0.6186860203742981, rmse: 0.9037471413612366\n",
      "---------------------------------------------------------------------------------------------------- \n",
      "Training bootstrapped model 7/25\n",
      "Train iteration 0, mse: 11.529679298400879, r2: -2.0175888538360596, mae: 2.683898687362671, rmse: 3.395538091659546\n",
      "Test iteration 0, mse: 12.51154613494873, r2: -1.0414166450500488, mae: 2.82798433303833, rmse: 3.5371663570404053\n",
      "Train iteration 50, mse: 0.45840778946876526, r2: 0.8800238966941833, mae: 0.5112241506576538, rmse: 0.6770581603050232\n",
      "Test iteration 50, mse: 0.7581796646118164, r2: 0.876293420791626, mae: 0.624647855758667, rmse: 0.8707351088523865\n",
      "Train iteration 100, mse: 0.26990967988967896, r2: 0.9293583035469055, mae: 0.38860124349594116, rmse: 0.519528329372406\n",
      "Test iteration 100, mse: 0.660625696182251, r2: 0.8922106027603149, mae: 0.607086718082428, rmse: 0.8127888441085815\n",
      "Train iteration 150, mse: 0.20111389458179474, r2: 0.9473637342453003, mae: 0.3380143940448761, rmse: 0.4484572410583496\n",
      "Test iteration 150, mse: 0.6532105207443237, r2: 0.8934204578399658, mae: 0.6036369204521179, rmse: 0.8082144260406494\n",
      "Train iteration 200, mse: 0.15843889117240906, r2: 0.9585328102111816, mae: 0.30032020807266235, rmse: 0.39804384112358093\n",
      "Test iteration 200, mse: 0.6432028412818909, r2: 0.8950533270835876, mae: 0.5918320417404175, rmse: 0.8019992709159851\n",
      "Train iteration 250, mse: 0.13276302814483643, r2: 0.9652527570724487, mae: 0.27388355135917664, rmse: 0.3643666207790375\n",
      "Test iteration 250, mse: 0.6532310247421265, r2: 0.8934171199798584, mae: 0.5899664163589478, rmse: 0.8082270622253418\n",
      "Train iteration 300, mse: 0.11394958198070526, r2: 0.9701766967773438, mae: 0.2526685893535614, rmse: 0.3375642001628876\n",
      "Test iteration 300, mse: 0.6663622856140137, r2: 0.8912745714187622, mae: 0.5872761011123657, rmse: 0.8163101673126221\n",
      "Train iteration 350, mse: 0.0998355969786644, r2: 0.9738706946372986, mae: 0.23416289687156677, rmse: 0.31596770882606506\n",
      "Test iteration 350, mse: 0.6760359406471252, r2: 0.8896961808204651, mae: 0.587192177772522, rmse: 0.8222140669822693\n",
      "Train iteration 400, mse: 0.08942479640245438, r2: 0.976595401763916, mae: 0.21912100911140442, rmse: 0.2990397810935974\n",
      "Test iteration 400, mse: 0.6791152954101562, r2: 0.8891937732696533, mae: 0.5867071151733398, rmse: 0.8240845203399658\n",
      "Train iteration 450, mse: 0.08158641308546066, r2: 0.9786469340324402, mae: 0.2078990787267685, rmse: 0.2856333553791046\n",
      "Test iteration 450, mse: 0.6837717890739441, r2: 0.8884339928627014, mae: 0.587420642375946, rmse: 0.8269049525260925\n",
      "---------------------------------------------------------------------------------------------------- \n",
      "Training bootstrapped model 8/25\n",
      "Train iteration 0, mse: 14.010058403015137, r2: -2.4460084438323975, mae: 2.9556756019592285, rmse: 3.7430012226104736\n",
      "Test iteration 0, mse: 12.0821533203125, r2: -0.9713557958602905, mae: 2.876633882522583, rmse: 3.4759392738342285\n",
      "Train iteration 50, mse: 0.4851378798484802, r2: 0.8806722164154053, mae: 0.5453794598579407, rmse: 0.6965184211730957\n",
      "Test iteration 50, mse: 0.7269635796546936, r2: 0.8813866972923279, mae: 0.6414759159088135, rmse: 0.8526216149330139\n",
      "Train iteration 100, mse: 0.27054059505462646, r2: 0.9334560036659241, mae: 0.4016675353050232, rmse: 0.5201351642608643\n",
      "Test iteration 100, mse: 0.6395195126533508, r2: 0.8956543207168579, mae: 0.5835155248641968, rmse: 0.7996996641159058\n",
      "Train iteration 150, mse: 0.19980792701244354, r2: 0.9508538842201233, mae: 0.3453754782676697, rmse: 0.44699880480766296\n",
      "Test iteration 150, mse: 0.6194800734519958, r2: 0.8989239931106567, mae: 0.5779245495796204, rmse: 0.7870705723762512\n",
      "Train iteration 200, mse: 0.15518490970134735, r2: 0.961829662322998, mae: 0.2979714274406433, rmse: 0.3939351737499237\n",
      "Test iteration 200, mse: 0.6694809198379517, r2: 0.8907657265663147, mae: 0.6035860776901245, rmse: 0.8182181119918823\n",
      "Train iteration 250, mse: 0.1286059319972992, r2: 0.9683672189712524, mae: 0.2666243314743042, rmse: 0.3586166799068451\n",
      "Test iteration 250, mse: 0.7340533137321472, r2: 0.8802299499511719, mae: 0.6300371885299683, rmse: 0.8567690849304199\n",
      "Train iteration 300, mse: 0.10965782403945923, r2: 0.9730278253555298, mae: 0.24480727314949036, rmse: 0.331146240234375\n",
      "Test iteration 300, mse: 0.7775653600692749, r2: 0.8731303811073303, mae: 0.6469463109970093, rmse: 0.881796658039093\n",
      "Train iteration 350, mse: 0.0942959263920784, r2: 0.9768063426017761, mae: 0.22691410779953003, rmse: 0.30707642436027527\n",
      "Test iteration 350, mse: 0.8133938908576965, r2: 0.8672845363616943, mae: 0.6653993129730225, rmse: 0.9018835425376892\n",
      "Train iteration 400, mse: 0.0827452540397644, r2: 0.9796473979949951, mae: 0.21379821002483368, rmse: 0.2876547574996948\n",
      "Test iteration 400, mse: 0.834410548210144, r2: 0.8638553619384766, mae: 0.6770409941673279, rmse: 0.9134607315063477\n",
      "Train iteration 450, mse: 0.07397793978452682, r2: 0.9818038940429688, mae: 0.20173285901546478, rmse: 0.2719888687133789\n",
      "Test iteration 450, mse: 0.856575071811676, r2: 0.8602389693260193, mae: 0.6896791458129883, rmse: 0.9255133867263794\n",
      "---------------------------------------------------------------------------------------------------- \n",
      "Training bootstrapped model 9/25\n",
      "Train iteration 0, mse: 11.288697242736816, r2: -2.0757248401641846, mae: 2.799351215362549, rmse: 3.359865665435791\n",
      "Test iteration 0, mse: 14.80363941192627, r2: -1.415400505065918, mae: 3.073503017425537, rmse: 3.8475496768951416\n",
      "Train iteration 50, mse: 0.44844985008239746, r2: 0.8778151273727417, mae: 0.5185617208480835, rmse: 0.6696639657020569\n",
      "Test iteration 50, mse: 0.6945739984512329, r2: 0.8866714835166931, mae: 0.6141279339790344, rmse: 0.8334110379219055\n",
      "Train iteration 100, mse: 0.24959073960781097, r2: 0.9319963455200195, mae: 0.387673944234848, rmse: 0.49959057569503784\n",
      "Test iteration 100, mse: 0.5978395342826843, r2: 0.9024549126625061, mae: 0.5653310418128967, rmse: 0.7732008099555969\n",
      "Train iteration 150, mse: 0.18506529927253723, r2: 0.9495769739151001, mae: 0.32703879475593567, rmse: 0.43019217252731323\n",
      "Test iteration 150, mse: 0.5820857286453247, r2: 0.9050253629684448, mae: 0.5653368830680847, rmse: 0.7629454135894775\n",
      "Train iteration 200, mse: 0.15226666629314423, r2: 0.9585133194923401, mae: 0.2945006787776947, rmse: 0.39021360874176025\n",
      "Test iteration 200, mse: 0.602303147315979, r2: 0.9017266631126404, mae: 0.5775704979896545, rmse: 0.776081919670105\n",
      "Train iteration 250, mse: 0.12949787080287933, r2: 0.964716911315918, mae: 0.26926347613334656, rmse: 0.35985812544822693\n",
      "Test iteration 250, mse: 0.6206690669059753, r2: 0.8987300395965576, mae: 0.58281010389328, rmse: 0.7878255248069763\n",
      "Train iteration 300, mse: 0.11134861409664154, r2: 0.9696618914604187, mae: 0.24722088873386383, rmse: 0.3336893916130066\n",
      "Test iteration 300, mse: 0.642035961151123, r2: 0.8952437043190002, mae: 0.586795449256897, rmse: 0.8012714385986328\n",
      "Train iteration 350, mse: 0.09597406536340714, r2: 0.9738508462905884, mae: 0.22862331569194794, rmse: 0.3097968101501465\n",
      "Test iteration 350, mse: 0.6715797781944275, r2: 0.8904232978820801, mae: 0.59322589635849, rmse: 0.8194997310638428\n",
      "Train iteration 400, mse: 0.08355402201414108, r2: 0.9772348403930664, mae: 0.21350519359111786, rmse: 0.2890571355819702\n",
      "Test iteration 400, mse: 0.7054343223571777, r2: 0.8848994970321655, mae: 0.6013561487197876, rmse: 0.8399013876914978\n",
      "Train iteration 450, mse: 0.07383130490779877, r2: 0.9798839092254639, mae: 0.20035989582538605, rmse: 0.27171915769577026\n",
      "Test iteration 450, mse: 0.7336970567703247, r2: 0.8802880644798279, mae: 0.6121165156364441, rmse: 0.8565611839294434\n",
      "---------------------------------------------------------------------------------------------------- \n",
      "Training bootstrapped model 10/25\n",
      "Train iteration 0, mse: 11.757882118225098, r2: -2.069176197052002, mae: 2.823425769805908, rmse: 3.4289767742156982\n",
      "Test iteration 0, mse: 9.967732429504395, r2: -0.6263613700866699, mae: 2.7221784591674805, rmse: 3.1571714878082275\n",
      "Train iteration 50, mse: 0.5221933126449585, r2: 0.8636911511421204, mae: 0.5659972429275513, rmse: 0.7226294279098511\n",
      "Test iteration 50, mse: 0.8627627491950989, r2: 0.8592293858528137, mae: 0.6527481079101562, rmse: 0.9288502335548401\n",
      "Train iteration 100, mse: 0.3011946380138397, r2: 0.9213787317276001, mae: 0.4215775728225708, rmse: 0.5488120317459106\n",
      "Test iteration 100, mse: 0.7056339979171753, r2: 0.8848668932914734, mae: 0.577229917049408, rmse: 0.8400202393531799\n",
      "Train iteration 150, mse: 0.22052067518234253, r2: 0.9424371719360352, mae: 0.36050349473953247, rmse: 0.4695962965488434\n",
      "Test iteration 150, mse: 0.6613516807556152, r2: 0.8920921087265015, mae: 0.5691026449203491, rmse: 0.813235342502594\n",
      "Train iteration 200, mse: 0.17130492627620697, r2: 0.955284059047699, mae: 0.31446853280067444, rmse: 0.41389000415802\n",
      "Test iteration 200, mse: 0.6580716967582703, r2: 0.8926272988319397, mae: 0.5680695176124573, rmse: 0.8112161755561829\n",
      "Train iteration 250, mse: 0.14257115125656128, r2: 0.962784469127655, mae: 0.2832830250263214, rmse: 0.3775859475135803\n",
      "Test iteration 250, mse: 0.6457152366638184, r2: 0.8946434259414673, mae: 0.5655525922775269, rmse: 0.8035640716552734\n",
      "Train iteration 300, mse: 0.12303205579519272, r2: 0.9678847789764404, mae: 0.2598395347595215, rmse: 0.35075926780700684\n",
      "Test iteration 300, mse: 0.638327956199646, r2: 0.8958487510681152, mae: 0.5666406750679016, rmse: 0.7989543080329895\n",
      "Train iteration 350, mse: 0.10911256819963455, r2: 0.9715182185173035, mae: 0.24357710778713226, rmse: 0.33032190799713135\n",
      "Test iteration 350, mse: 0.6551965475082397, r2: 0.8930964469909668, mae: 0.5799165368080139, rmse: 0.8094421029090881\n",
      "Train iteration 400, mse: 0.09887857735157013, r2: 0.9741895794868469, mae: 0.23247690498828888, rmse: 0.31444963812828064\n",
      "Test iteration 400, mse: 0.6804936528205872, r2: 0.8889688849449158, mae: 0.5997878313064575, rmse: 0.8249204158782959\n",
      "Train iteration 450, mse: 0.09034228324890137, r2: 0.9764178395271301, mae: 0.22232043743133545, rmse: 0.30056992173194885\n",
      "Test iteration 450, mse: 0.7053462862968445, r2: 0.8849138617515564, mae: 0.6187079548835754, rmse: 0.8398489952087402\n",
      "---------------------------------------------------------------------------------------------------- \n",
      "Training bootstrapped model 11/25\n",
      "Train iteration 0, mse: 12.435408592224121, r2: -2.419377565383911, mae: 2.9446990489959717, rmse: 3.5263874530792236\n",
      "Test iteration 0, mse: 14.41850471496582, r2: -1.3525609970092773, mae: 3.067221164703369, rmse: 3.797170639038086\n",
      "Train iteration 50, mse: 0.5187863707542419, r2: 0.8573487401008606, mae: 0.5599581003189087, rmse: 0.7202682495117188\n",
      "Test iteration 50, mse: 0.751970648765564, r2: 0.8773065209388733, mae: 0.6262720823287964, rmse: 0.8671624064445496\n",
      "Train iteration 100, mse: 0.28631123900413513, r2: 0.9212726950645447, mae: 0.4101998805999756, rmse: 0.53508061170578\n",
      "Test iteration 100, mse: 0.6530848741531372, r2: 0.8934409618377686, mae: 0.5746779441833496, rmse: 0.8081366419792175\n",
      "Train iteration 150, mse: 0.21622727811336517, r2: 0.9405437707901001, mae: 0.3546593487262726, rmse: 0.4650024473667145\n",
      "Test iteration 150, mse: 0.6506628394126892, r2: 0.8938361406326294, mae: 0.577698290348053, rmse: 0.8066367506980896\n",
      "Train iteration 200, mse: 0.1704617142677307, r2: 0.9531279802322388, mae: 0.31161150336265564, rmse: 0.4128700792789459\n",
      "Test iteration 200, mse: 0.6738472580909729, r2: 0.8900533318519592, mae: 0.5898956060409546, rmse: 0.8208820223808289\n",
      "Train iteration 250, mse: 0.13819637894630432, r2: 0.9620000123977661, mae: 0.2781956195831299, rmse: 0.3717477321624756\n",
      "Test iteration 250, mse: 0.702508807182312, r2: 0.8853768110275269, mae: 0.6053871512413025, rmse: 0.8381580114364624\n",
      "Train iteration 300, mse: 0.1141568124294281, r2: 0.9686101675033569, mae: 0.2511712610721588, rmse: 0.3378709852695465\n",
      "Test iteration 300, mse: 0.7301195859909058, r2: 0.8808717727661133, mae: 0.6217157244682312, rmse: 0.8544703722000122\n",
      "Train iteration 350, mse: 0.09687179327011108, r2: 0.9733630418777466, mae: 0.23061074316501617, rmse: 0.31124234199523926\n",
      "Test iteration 350, mse: 0.755166232585907, r2: 0.8767850995063782, mae: 0.6382662653923035, rmse: 0.8690029978752136\n",
      "Train iteration 400, mse: 0.084943026304245, r2: 0.9766431450843811, mae: 0.2155100256204605, rmse: 0.2914498746395111\n",
      "Test iteration 400, mse: 0.7764167189598083, r2: 0.8733178377151489, mae: 0.6519854068756104, rmse: 0.8811451196670532\n",
      "Train iteration 450, mse: 0.07593918591737747, r2: 0.9791189432144165, mae: 0.2030169814825058, rmse: 0.27557066082954407\n",
      "Test iteration 450, mse: 0.7983834743499756, r2: 0.8697336912155151, mae: 0.6635587215423584, rmse: 0.893523097038269\n",
      "---------------------------------------------------------------------------------------------------- \n",
      "Training bootstrapped model 12/25\n",
      "Train iteration 0, mse: 12.278090476989746, r2: -1.9904890060424805, mae: 2.8633344173431396, rmse: 3.5040106773376465\n",
      "Test iteration 0, mse: 17.41531753540039, r2: -1.8415288925170898, mae: 3.2400426864624023, rmse: 4.173166275024414\n",
      "Train iteration 50, mse: 0.5038439631462097, r2: 0.8772822618484497, mae: 0.5376471877098083, rmse: 0.7098196744918823\n",
      "Test iteration 50, mse: 0.8392314314842224, r2: 0.8630688190460205, mae: 0.697966456413269, rmse: 0.9160957336425781\n",
      "Train iteration 100, mse: 0.27552950382232666, r2: 0.9328911900520325, mae: 0.3956723213195801, rmse: 0.5249090194702148\n",
      "Test iteration 100, mse: 0.7339808344841003, r2: 0.8802417516708374, mae: 0.6366539597511292, rmse: 0.8567268252372742\n",
      "Train iteration 150, mse: 0.19837836921215057, r2: 0.9516823887825012, mae: 0.33942052721977234, rmse: 0.44539687037467957\n",
      "Test iteration 150, mse: 0.7420403957366943, r2: 0.8789267539978027, mae: 0.6491243839263916, rmse: 0.8614176511764526\n",
      "Train iteration 200, mse: 0.15396398305892944, r2: 0.9625000953674316, mae: 0.2955998480319977, rmse: 0.3923824429512024\n",
      "Test iteration 200, mse: 0.7784972786903381, r2: 0.8729783296585083, mae: 0.6700598001480103, rmse: 0.8823249340057373\n",
      "Train iteration 250, mse: 0.1255275309085846, r2: 0.969426155090332, mae: 0.2658441662788391, rmse: 0.3542986512184143\n",
      "Test iteration 250, mse: 0.8145931363105774, r2: 0.8670888543128967, mae: 0.6837537884712219, rmse: 0.9025481343269348\n",
      "Train iteration 300, mse: 0.1066899299621582, r2: 0.9740142822265625, mae: 0.24365636706352234, rmse: 0.3266342580318451\n",
      "Test iteration 300, mse: 0.856701672077179, r2: 0.8602182865142822, mae: 0.7015339136123657, rmse: 0.9255818128585815\n",
      "Train iteration 350, mse: 0.09262477606534958, r2: 0.9774399995803833, mae: 0.2257101833820343, rmse: 0.30434319376945496\n",
      "Test iteration 350, mse: 0.896486759185791, r2: 0.853726863861084, mae: 0.7193159461021423, rmse: 0.9468298554420471\n",
      "Train iteration 400, mse: 0.08181152492761612, r2: 0.9800737500190735, mae: 0.21112479269504547, rmse: 0.28602713346481323\n",
      "Test iteration 400, mse: 0.9317569136619568, r2: 0.8479720950126648, mae: 0.7340685725212097, rmse: 0.9652755856513977\n",
      "Train iteration 450, mse: 0.07339711487293243, r2: 0.9821231961250305, mae: 0.1985752284526825, rmse: 0.2709190249443054\n",
      "Test iteration 450, mse: 0.9616455435752869, r2: 0.8430954217910767, mae: 0.7450823783874512, rmse: 0.9806352853775024\n",
      "---------------------------------------------------------------------------------------------------- \n",
      "Training bootstrapped model 13/25\n",
      "Train iteration 0, mse: 14.530840873718262, r2: -3.1016225814819336, mae: 3.204726219177246, rmse: 3.811933994293213\n",
      "Test iteration 0, mse: 16.525381088256836, r2: -1.696324348449707, mae: 3.479572296142578, rmse: 4.0651421546936035\n",
      "Train iteration 50, mse: 0.44003453850746155, r2: 0.8757913708686829, mae: 0.5010671019554138, rmse: 0.6633509993553162\n",
      "Test iteration 50, mse: 0.8994898796081543, r2: 0.8532368540763855, mae: 0.6630628705024719, rmse: 0.9484143853187561\n",
      "Train iteration 100, mse: 0.26827648282051086, r2: 0.9242735505104065, mae: 0.38818079233169556, rmse: 0.5179541110992432\n",
      "Test iteration 100, mse: 0.7623307704925537, r2: 0.8756161332130432, mae: 0.6100354790687561, rmse: 0.8731155395507812\n",
      "Train iteration 150, mse: 0.2054070234298706, r2: 0.9420197010040283, mae: 0.34021127223968506, rmse: 0.4532185196876526\n",
      "Test iteration 150, mse: 0.6973169445991516, r2: 0.8862239122390747, mae: 0.5859683752059937, rmse: 0.8350550532341003\n",
      "Train iteration 200, mse: 0.16762402653694153, r2: 0.952684760093689, mae: 0.303029865026474, rmse: 0.40941911935806274\n",
      "Test iteration 200, mse: 0.676513135433197, r2: 0.8896183371543884, mae: 0.5833954811096191, rmse: 0.8225041627883911\n",
      "Train iteration 250, mse: 0.1445019543170929, r2: 0.9592114090919495, mae: 0.2795846462249756, rmse: 0.38013413548469543\n",
      "Test iteration 250, mse: 0.6688392758369446, r2: 0.8908704519271851, mae: 0.5768139958381653, rmse: 0.817825973033905\n",
      "Train iteration 300, mse: 0.12758508324623108, r2: 0.9639865159988403, mae: 0.2622852623462677, rmse: 0.3571905493736267\n",
      "Test iteration 300, mse: 0.6692188382148743, r2: 0.8908085227012634, mae: 0.5738402009010315, rmse: 0.8180579543113708\n",
      "Train iteration 350, mse: 0.11436024308204651, r2: 0.9677194952964783, mae: 0.24819453060626984, rmse: 0.33817189931869507\n",
      "Test iteration 350, mse: 0.6695156693458557, r2: 0.890760064125061, mae: 0.5734869837760925, rmse: 0.8182393908500671\n",
      "Train iteration 400, mse: 0.10405784100294113, r2: 0.9706276059150696, mae: 0.2363632172346115, rmse: 0.3225799798965454\n",
      "Test iteration 400, mse: 0.6685042977333069, r2: 0.8909251093864441, mae: 0.5788887739181519, rmse: 0.817621111869812\n",
      "Train iteration 450, mse: 0.09523039311170578, r2: 0.97311931848526, mae: 0.22566311061382294, rmse: 0.3085942268371582\n",
      "Test iteration 450, mse: 0.6731661558151245, r2: 0.8901644349098206, mae: 0.5896676182746887, rmse: 0.8204670548439026\n",
      "---------------------------------------------------------------------------------------------------- \n",
      "Training bootstrapped model 14/25\n",
      "Train iteration 0, mse: 12.242413520812988, r2: -2.1234402656555176, mae: 2.917647361755371, rmse: 3.4989161491394043\n",
      "Test iteration 0, mse: 11.973910331726074, r2: -0.9536945819854736, mae: 2.925712823867798, rmse: 3.460333824157715\n",
      "Train iteration 50, mse: 0.49307873845100403, r2: 0.8741995096206665, mae: 0.5368101000785828, rmse: 0.7021956443786621\n",
      "Test iteration 50, mse: 0.752877950668335, r2: 0.8771584630012512, mae: 0.6421487331390381, rmse: 0.8676853775978088\n",
      "Train iteration 100, mse: 0.27734512090682983, r2: 0.9292401671409607, mae: 0.39890056848526, rmse: 0.5266356468200684\n",
      "Test iteration 100, mse: 0.6030304431915283, r2: 0.9016079902648926, mae: 0.570153534412384, rmse: 0.7765503525733948\n",
      "Train iteration 150, mse: 0.20474863052368164, r2: 0.9477618932723999, mae: 0.3390931189060211, rmse: 0.4524915814399719\n",
      "Test iteration 150, mse: 0.60927814245224, r2: 0.9005885720252991, mae: 0.5856747031211853, rmse: 0.780562698841095\n",
      "Train iteration 200, mse: 0.1621781885623932, r2: 0.9586230516433716, mae: 0.3022036552429199, rmse: 0.4027135372161865\n",
      "Test iteration 200, mse: 0.635418713092804, r2: 0.8963234424591064, mae: 0.5942140221595764, rmse: 0.7971315383911133\n",
      "Train iteration 250, mse: 0.1344626247882843, r2: 0.9656941890716553, mae: 0.27392324805259705, rmse: 0.3666914701461792\n",
      "Test iteration 250, mse: 0.6668668389320374, r2: 0.8911922574043274, mae: 0.6032885313034058, rmse: 0.8166191577911377\n",
      "Train iteration 300, mse: 0.11418157815933228, r2: 0.9708685278892517, mae: 0.2510782480239868, rmse: 0.3379076421260834\n",
      "Test iteration 300, mse: 0.698932409286499, r2: 0.8859603404998779, mae: 0.6142475008964539, rmse: 0.8360217809677124\n",
      "Train iteration 350, mse: 0.09926613420248032, r2: 0.9746739864349365, mae: 0.23328961431980133, rmse: 0.31506529450416565\n",
      "Test iteration 350, mse: 0.7372896671295166, r2: 0.8797019124031067, mae: 0.6312036514282227, rmse: 0.8586557507514954\n",
      "Train iteration 400, mse: 0.08796121180057526, r2: 0.9775581955909729, mae: 0.21962063014507294, rmse: 0.29658254981040955\n",
      "Test iteration 400, mse: 0.7767632603645325, r2: 0.8732612729072571, mae: 0.6466596126556396, rmse: 0.8813417553901672\n",
      "Train iteration 450, mse: 0.07862796634435654, r2: 0.9799394607543945, mae: 0.20695655047893524, rmse: 0.28040677309036255\n",
      "Test iteration 450, mse: 0.8210135698318481, r2: 0.8660413026809692, mae: 0.6632393598556519, rmse: 0.9060980081558228\n",
      "---------------------------------------------------------------------------------------------------- \n",
      "Training bootstrapped model 15/25\n",
      "Train iteration 0, mse: 13.407552719116211, r2: -2.411776304244995, mae: 3.027381420135498, rmse: 3.661632537841797\n",
      "Test iteration 0, mse: 16.139169692993164, r2: -1.6333091259002686, mae: 3.295616388320923, rmse: 4.017358779907227\n",
      "Train iteration 50, mse: 0.5032935738563538, r2: 0.8719285130500793, mae: 0.5528709292411804, rmse: 0.7094318866729736\n",
      "Test iteration 50, mse: 0.7942368984222412, r2: 0.8704102039337158, mae: 0.6509702205657959, rmse: 0.8911997079849243\n",
      "Train iteration 100, mse: 0.3018110692501068, r2: 0.9231991171836853, mae: 0.4284847378730774, rmse: 0.5493733286857605\n",
      "Test iteration 100, mse: 0.6244248151779175, r2: 0.898117184638977, mae: 0.5676910281181335, rmse: 0.7902055382728577\n",
      "Train iteration 150, mse: 0.22894831001758575, r2: 0.9417402744293213, mae: 0.36959806084632874, rmse: 0.47848543524742126\n",
      "Test iteration 150, mse: 0.5923182368278503, r2: 0.9033558368682861, mae: 0.5557758212089539, rmse: 0.7696221470832825\n",
      "Train iteration 200, mse: 0.18398655951023102, r2: 0.9531815648078918, mae: 0.32771068811416626, rmse: 0.42893654108047485\n",
      "Test iteration 200, mse: 0.611653745174408, r2: 0.9002009630203247, mae: 0.5593121647834778, rmse: 0.7820829749107361\n",
      "Train iteration 250, mse: 0.15180322527885437, r2: 0.961371123790741, mae: 0.29619133472442627, rmse: 0.3896193206310272\n",
      "Test iteration 250, mse: 0.6647635102272034, r2: 0.8915354609489441, mae: 0.5873098373413086, rmse: 0.8153303265571594\n",
      "Train iteration 300, mse: 0.1293773651123047, r2: 0.9670777916908264, mae: 0.2741706073284149, rmse: 0.35969066619873047\n",
      "Test iteration 300, mse: 0.736138641834259, r2: 0.8798896670341492, mae: 0.6179803013801575, rmse: 0.8579851984977722\n",
      "Train iteration 350, mse: 0.11338616162538528, r2: 0.9711470007896423, mae: 0.2572888135910034, rmse: 0.33672860264778137\n",
      "Test iteration 350, mse: 0.8131687045097351, r2: 0.867321252822876, mae: 0.6485704779624939, rmse: 0.9017586708068848\n",
      "Train iteration 400, mse: 0.10159724950790405, r2: 0.9741469025611877, mae: 0.24291902780532837, rmse: 0.3187432289123535\n",
      "Test iteration 400, mse: 0.8758015632629395, r2: 0.8571019172668457, mae: 0.673399031162262, rmse: 0.9358426928520203\n",
      "Train iteration 450, mse: 0.09196953475475311, r2: 0.9765968322753906, mae: 0.22973711788654327, rmse: 0.3032647967338562\n",
      "Test iteration 450, mse: 0.9225335121154785, r2: 0.8494769930839539, mae: 0.6904408931732178, rmse: 0.9604860544204712\n",
      "---------------------------------------------------------------------------------------------------- \n",
      "Training bootstrapped model 16/25\n",
      "Train iteration 0, mse: 15.061939239501953, r2: -3.188300132751465, mae: 3.2492823600769043, rmse: 3.8809714317321777\n",
      "Test iteration 0, mse: 19.19771385192871, r2: -2.1323492527008057, mae: 3.6466965675354004, rmse: 4.381519794464111\n",
      "Train iteration 50, mse: 0.4950312077999115, r2: 0.862345814704895, mae: 0.5380086302757263, rmse: 0.7035845518112183\n",
      "Test iteration 50, mse: 0.89894700050354, r2: 0.8533254861831665, mae: 0.680427610874176, rmse: 0.9481281638145447\n",
      "Train iteration 100, mse: 0.27876320481300354, r2: 0.9224838018417358, mae: 0.4096753001213074, rmse: 0.5279803276062012\n",
      "Test iteration 100, mse: 0.8260068893432617, r2: 0.8652265667915344, mae: 0.6516779065132141, rmse: 0.9088492393493652\n",
      "Train iteration 150, mse: 0.19671641290187836, r2: 0.9452987313270569, mae: 0.3452180027961731, rmse: 0.4435272514820099\n",
      "Test iteration 150, mse: 0.7928042411804199, r2: 0.8706439733505249, mae: 0.6488997340202332, rmse: 0.8903955817222595\n",
      "Train iteration 200, mse: 0.15623271465301514, r2: 0.9565560817718506, mae: 0.3080812096595764, rmse: 0.39526283740997314\n",
      "Test iteration 200, mse: 0.8023271560668945, r2: 0.86909019947052, mae: 0.6545149683952332, rmse: 0.8957271575927734\n",
      "Train iteration 250, mse: 0.13188934326171875, r2: 0.9633253216743469, mae: 0.2813382148742676, rmse: 0.3631657361984253\n",
      "Test iteration 250, mse: 0.8132683038711548, r2: 0.8673050403594971, mae: 0.6576294302940369, rmse: 0.9018139243125916\n",
      "Train iteration 300, mse: 0.11472707241773605, r2: 0.9680976271629333, mae: 0.25988468527793884, rmse: 0.3387138545513153\n",
      "Test iteration 300, mse: 0.8304279446601868, r2: 0.8645051717758179, mae: 0.6616528034210205, rmse: 0.9112781882286072\n",
      "Train iteration 350, mse: 0.10174331068992615, r2: 0.9717080593109131, mae: 0.24304939806461334, rmse: 0.31897225975990295\n",
      "Test iteration 350, mse: 0.85041344165802, r2: 0.8612443208694458, mae: 0.6714864373207092, rmse: 0.9221786260604858\n",
      "Train iteration 400, mse: 0.09096880257129669, r2: 0.9747041463851929, mae: 0.22811542451381683, rmse: 0.3016103506088257\n",
      "Test iteration 400, mse: 0.8761336207389832, r2: 0.8570477366447449, mae: 0.6875154972076416, rmse: 0.9360200762748718\n",
      "Train iteration 450, mse: 0.08213233202695847, r2: 0.9771612882614136, mae: 0.21514147520065308, rmse: 0.2865873873233795\n",
      "Test iteration 450, mse: 0.9054315090179443, r2: 0.8522674441337585, mae: 0.705839991569519, rmse: 0.9515416622161865\n",
      "---------------------------------------------------------------------------------------------------- \n",
      "Training bootstrapped model 17/25\n",
      "Train iteration 0, mse: 12.725701332092285, r2: -2.410071849822998, mae: 2.9234299659729004, rmse: 3.567310094833374\n",
      "Test iteration 0, mse: 20.82265853881836, r2: -2.39747953414917, mae: 3.4351611137390137, rmse: 4.563185214996338\n",
      "Train iteration 50, mse: 0.48983365297317505, r2: 0.8687405586242676, mae: 0.5361690521240234, rmse: 0.6998811960220337\n",
      "Test iteration 50, mse: 0.9109617471694946, r2: 0.8513650894165039, mae: 0.7308448553085327, rmse: 0.9544431567192078\n",
      "Train iteration 100, mse: 0.280016154050827, r2: 0.9249648451805115, mae: 0.41403889656066895, rmse: 0.529165506362915\n",
      "Test iteration 100, mse: 0.7547768950462341, r2: 0.8768486380577087, mae: 0.6428659558296204, rmse: 0.8687789440155029\n",
      "Train iteration 150, mse: 0.20919880270957947, r2: 0.9439415335655212, mae: 0.3523942232131958, rmse: 0.45738255977630615\n",
      "Test iteration 150, mse: 0.7583157420158386, r2: 0.8762712478637695, mae: 0.6421684622764587, rmse: 0.870813250541687\n",
      "Train iteration 200, mse: 0.16533391177654266, r2: 0.9556959271430969, mae: 0.30969661474227905, rmse: 0.40661272406578064\n",
      "Test iteration 200, mse: 0.7925007939338684, r2: 0.8706935048103333, mae: 0.6596077680587769, rmse: 0.8902251124382019\n",
      "Train iteration 250, mse: 0.13802266120910645, r2: 0.9630144238471985, mae: 0.28213173151016235, rmse: 0.3715140223503113\n",
      "Test iteration 250, mse: 0.7717666625976562, r2: 0.8740765452384949, mae: 0.6559447646141052, rmse: 0.8785024881362915\n",
      "Train iteration 300, mse: 0.12019908428192139, r2: 0.9677906036376953, mae: 0.26108041405677795, rmse: 0.3466973900794983\n",
      "Test iteration 300, mse: 0.751164972782135, r2: 0.877437949180603, mae: 0.6444441676139832, rmse: 0.8666977286338806\n",
      "Train iteration 350, mse: 0.10764625668525696, r2: 0.9711543321609497, mae: 0.2457432895898819, rmse: 0.3280948996543884\n",
      "Test iteration 350, mse: 0.7544585466384888, r2: 0.8769005537033081, mae: 0.6378906965255737, rmse: 0.8685957193374634\n",
      "Train iteration 400, mse: 0.09749063849449158, r2: 0.9738757014274597, mae: 0.23191918432712555, rmse: 0.31223490834236145\n",
      "Test iteration 400, mse: 0.7620711922645569, r2: 0.8756584525108337, mae: 0.6385849714279175, rmse: 0.8729668855667114\n",
      "Train iteration 450, mse: 0.08906956017017365, r2: 0.9761322736740112, mae: 0.2203778475522995, rmse: 0.2984452247619629\n",
      "Test iteration 450, mse: 0.7707576155662537, r2: 0.8742411732673645, mae: 0.6429410576820374, rmse: 0.8779280185699463\n",
      "---------------------------------------------------------------------------------------------------- \n",
      "Training bootstrapped model 18/25\n",
      "Train iteration 0, mse: 11.045034408569336, r2: -1.9171574115753174, mae: 2.7103915214538574, rmse: 3.323406934738159\n",
      "Test iteration 0, mse: 11.27875804901123, r2: -0.8402717113494873, mae: 2.8270509243011475, rmse: 3.358386278152466\n",
      "Train iteration 50, mse: 0.4935702681541443, r2: 0.8696407675743103, mae: 0.5351331233978271, rmse: 0.7025455832481384\n",
      "Test iteration 50, mse: 0.9176720976829529, r2: 0.8502702116966248, mae: 0.731627881526947, rmse: 0.9579520225524902\n",
      "Train iteration 100, mse: 0.2661384046077728, r2: 0.9297088980674744, mae: 0.3905588984489441, rmse: 0.5158860087394714\n",
      "Test iteration 100, mse: 0.6906140446662903, r2: 0.8873175978660583, mae: 0.6013257503509521, rmse: 0.8310319185256958\n",
      "Train iteration 150, mse: 0.18808238208293915, r2: 0.9503246545791626, mae: 0.3313610255718231, rmse: 0.43368464708328247\n",
      "Test iteration 150, mse: 0.6552267670631409, r2: 0.8930914998054504, mae: 0.5735882520675659, rmse: 0.8094607591629028\n",
      "Train iteration 200, mse: 0.1492513120174408, r2: 0.9605805277824402, mae: 0.2929931581020355, rmse: 0.38633057475090027\n",
      "Test iteration 200, mse: 0.681380569934845, r2: 0.8888241648674011, mae: 0.5822266936302185, rmse: 0.8254578113555908\n",
      "Train iteration 250, mse: 0.12478376179933548, r2: 0.9670427441596985, mae: 0.26351919770240784, rmse: 0.3532474637031555\n",
      "Test iteration 250, mse: 0.7124664187431335, r2: 0.8837521076202393, mae: 0.5908830761909485, rmse: 0.8440772294998169\n",
      "Train iteration 300, mse: 0.10618174076080322, r2: 0.9719558358192444, mae: 0.2384626865386963, rmse: 0.32585540413856506\n",
      "Test iteration 300, mse: 0.7517310976982117, r2: 0.8773455619812012, mae: 0.6070285439491272, rmse: 0.867024302482605\n",
      "Train iteration 350, mse: 0.09028629213571548, r2: 0.9761540293693542, mae: 0.2161896675825119, rmse: 0.3004767894744873\n",
      "Test iteration 350, mse: 0.7884548902511597, r2: 0.8713536262512207, mae: 0.628423810005188, rmse: 0.8879498243331909\n",
      "Train iteration 400, mse: 0.07962065190076828, r2: 0.978971004486084, mae: 0.20051142573356628, rmse: 0.2821713089942932\n",
      "Test iteration 400, mse: 0.8102098107337952, r2: 0.8678040504455566, mae: 0.6417144536972046, rmse: 0.9001165628433228\n",
      "Train iteration 450, mse: 0.07228770852088928, r2: 0.9809077382087708, mae: 0.18937139213085175, rmse: 0.2688637375831604\n",
      "Test iteration 450, mse: 0.8290385603904724, r2: 0.8647319078445435, mae: 0.65245121717453, rmse: 0.910515546798706\n",
      "---------------------------------------------------------------------------------------------------- \n",
      "Training bootstrapped model 19/25\n",
      "Train iteration 0, mse: 17.275371551513672, r2: -3.7754483222961426, mae: 3.4971423149108887, rmse: 4.156365394592285\n",
      "Test iteration 0, mse: 25.29471206665039, r2: -3.1271514892578125, mae: 4.085966110229492, rmse: 5.029385089874268\n",
      "Train iteration 50, mse: 0.5413617491722107, r2: 0.8503508567810059, mae: 0.5656020641326904, rmse: 0.7357729077339172\n",
      "Test iteration 50, mse: 0.8313782811164856, r2: 0.8643501400947571, mae: 0.6242237091064453, rmse: 0.9117994904518127\n",
      "Train iteration 100, mse: 0.3251393139362335, r2: 0.9101214408874512, mae: 0.4422560930252075, rmse: 0.5702098608016968\n",
      "Test iteration 100, mse: 0.6746048331260681, r2: 0.8899297118186951, mae: 0.5806317329406738, rmse: 0.8213433027267456\n",
      "Train iteration 150, mse: 0.23172509670257568, r2: 0.9359440207481384, mae: 0.36605167388916016, rmse: 0.48137831687927246\n",
      "Test iteration 150, mse: 0.6244320273399353, r2: 0.8981160521507263, mae: 0.5721315741539001, rmse: 0.7902101278305054\n",
      "Train iteration 200, mse: 0.17999540269374847, r2: 0.9502437114715576, mae: 0.31817877292633057, rmse: 0.42425864934921265\n",
      "Test iteration 200, mse: 0.6151222586631775, r2: 0.8996350169181824, mae: 0.5821002125740051, rmse: 0.7842972874641418\n",
      "Train iteration 250, mse: 0.14603017270565033, r2: 0.9596327543258667, mae: 0.284553587436676, rmse: 0.3821389377117157\n",
      "Test iteration 250, mse: 0.6120202541351318, r2: 0.900141179561615, mae: 0.5854846835136414, rmse: 0.7823172211647034\n"
     ]
    },
    {
     "ename": "KeyboardInterrupt",
     "evalue": "",
     "output_type": "error",
     "traceback": [
      "\u001b[0;31m---------------------------------------------------------------------------\u001b[0m",
      "\u001b[0;31mKeyboardInterrupt\u001b[0m                         Traceback (most recent call last)",
      "Cell \u001b[0;32mIn[162], line 17\u001b[0m\n\u001b[1;32m     13\u001b[0m y_train_bootstrap \u001b[38;5;241m=\u001b[39m y_train[bootstrap_sample_indices]\n\u001b[1;32m     15\u001b[0m bootstrapped_model \u001b[38;5;241m=\u001b[39m KAN(width\u001b[38;5;241m=\u001b[39m[num_features, \u001b[38;5;241m1\u001b[39m], seed\u001b[38;5;241m=\u001b[39moptions[\u001b[38;5;124m'\u001b[39m\u001b[38;5;124mrandom_seed\u001b[39m\u001b[38;5;124m'\u001b[39m] \u001b[38;5;241m+\u001b[39m i, auto_save\u001b[38;5;241m=\u001b[39m\u001b[38;5;28;01mFalse\u001b[39;00m)\n\u001b[0;32m---> 17\u001b[0m loss_dict \u001b[38;5;241m=\u001b[39m \u001b[43mtrain_regression\u001b[49m\u001b[43m(\u001b[49m\u001b[43mbootstrapped_model\u001b[49m\u001b[43m,\u001b[49m\u001b[43m \u001b[49m\u001b[43mX_train_bootstrap\u001b[49m\u001b[43m,\u001b[49m\u001b[43m \u001b[49m\u001b[43my_train_bootstrap\u001b[49m\u001b[43m,\u001b[49m\u001b[43m \u001b[49m\u001b[43mX_test_scaled\u001b[49m\u001b[43m,\u001b[49m\u001b[43m \u001b[49m\u001b[43my_test\u001b[49m\u001b[43m,\u001b[49m\n\u001b[1;32m     18\u001b[0m \u001b[43m                              \u001b[49m\u001b[43mnum_itrs\u001b[49m\u001b[38;5;241;43m=\u001b[39;49m\u001b[43moptions\u001b[49m\u001b[43m[\u001b[49m\u001b[38;5;124;43m'\u001b[39;49m\u001b[38;5;124;43mnum_train_iterations\u001b[39;49m\u001b[38;5;124;43m'\u001b[39;49m\u001b[43m]\u001b[49m\u001b[43m)\u001b[49m\n\u001b[1;32m     20\u001b[0m bootstrapped_models\u001b[38;5;241m.\u001b[39mappend(bootstrapped_model)\n",
      "File \u001b[0;32m~/Projects/Chemical_Physics_and_KANs/notebooks/bag_of_kans/../../train/train_regression.py:50\u001b[0m, in \u001b[0;36mtrain_regression\u001b[0;34m(model, X_train, y_train, X_test, y_test, lr, num_itrs, verbose, seed, n_iterations_per_print)\u001b[0m\n\u001b[1;32m     47\u001b[0m \u001b[38;5;28;01mfor\u001b[39;00m i \u001b[38;5;129;01min\u001b[39;00m \u001b[38;5;28mrange\u001b[39m(num_itrs):\n\u001b[1;32m     48\u001b[0m     optimizer\u001b[38;5;241m.\u001b[39mzero_grad()\n\u001b[0;32m---> 50\u001b[0m     y_hat_train \u001b[38;5;241m=\u001b[39m \u001b[43mmodel\u001b[49m\u001b[43m(\u001b[49m\u001b[43mX_train\u001b[49m\u001b[43m)\u001b[49m[:, \u001b[38;5;241m0\u001b[39m]\n\u001b[1;32m     52\u001b[0m     train_mse \u001b[38;5;241m=\u001b[39m F\u001b[38;5;241m.\u001b[39mmse_loss(y_hat_train, y_train)\n\u001b[1;32m     53\u001b[0m     train_mae \u001b[38;5;241m=\u001b[39m F\u001b[38;5;241m.\u001b[39ml1_loss(y_hat_train\u001b[38;5;241m.\u001b[39mdetach(), y_train)\n",
      "File \u001b[0;32m~/anaconda3/envs/cpk/lib/python3.13/site-packages/torch/nn/modules/module.py:1736\u001b[0m, in \u001b[0;36mModule._wrapped_call_impl\u001b[0;34m(self, *args, **kwargs)\u001b[0m\n\u001b[1;32m   1734\u001b[0m     \u001b[38;5;28;01mreturn\u001b[39;00m \u001b[38;5;28mself\u001b[39m\u001b[38;5;241m.\u001b[39m_compiled_call_impl(\u001b[38;5;241m*\u001b[39margs, \u001b[38;5;241m*\u001b[39m\u001b[38;5;241m*\u001b[39mkwargs)  \u001b[38;5;66;03m# type: ignore[misc]\u001b[39;00m\n\u001b[1;32m   1735\u001b[0m \u001b[38;5;28;01melse\u001b[39;00m:\n\u001b[0;32m-> 1736\u001b[0m     \u001b[38;5;28;01mreturn\u001b[39;00m \u001b[38;5;28;43mself\u001b[39;49m\u001b[38;5;241;43m.\u001b[39;49m\u001b[43m_call_impl\u001b[49m\u001b[43m(\u001b[49m\u001b[38;5;241;43m*\u001b[39;49m\u001b[43margs\u001b[49m\u001b[43m,\u001b[49m\u001b[43m \u001b[49m\u001b[38;5;241;43m*\u001b[39;49m\u001b[38;5;241;43m*\u001b[39;49m\u001b[43mkwargs\u001b[49m\u001b[43m)\u001b[49m\n",
      "File \u001b[0;32m~/anaconda3/envs/cpk/lib/python3.13/site-packages/torch/nn/modules/module.py:1747\u001b[0m, in \u001b[0;36mModule._call_impl\u001b[0;34m(self, *args, **kwargs)\u001b[0m\n\u001b[1;32m   1742\u001b[0m \u001b[38;5;66;03m# If we don't have any hooks, we want to skip the rest of the logic in\u001b[39;00m\n\u001b[1;32m   1743\u001b[0m \u001b[38;5;66;03m# this function, and just call forward.\u001b[39;00m\n\u001b[1;32m   1744\u001b[0m \u001b[38;5;28;01mif\u001b[39;00m \u001b[38;5;129;01mnot\u001b[39;00m (\u001b[38;5;28mself\u001b[39m\u001b[38;5;241m.\u001b[39m_backward_hooks \u001b[38;5;129;01mor\u001b[39;00m \u001b[38;5;28mself\u001b[39m\u001b[38;5;241m.\u001b[39m_backward_pre_hooks \u001b[38;5;129;01mor\u001b[39;00m \u001b[38;5;28mself\u001b[39m\u001b[38;5;241m.\u001b[39m_forward_hooks \u001b[38;5;129;01mor\u001b[39;00m \u001b[38;5;28mself\u001b[39m\u001b[38;5;241m.\u001b[39m_forward_pre_hooks\n\u001b[1;32m   1745\u001b[0m         \u001b[38;5;129;01mor\u001b[39;00m _global_backward_pre_hooks \u001b[38;5;129;01mor\u001b[39;00m _global_backward_hooks\n\u001b[1;32m   1746\u001b[0m         \u001b[38;5;129;01mor\u001b[39;00m _global_forward_hooks \u001b[38;5;129;01mor\u001b[39;00m _global_forward_pre_hooks):\n\u001b[0;32m-> 1747\u001b[0m     \u001b[38;5;28;01mreturn\u001b[39;00m \u001b[43mforward_call\u001b[49m\u001b[43m(\u001b[49m\u001b[38;5;241;43m*\u001b[39;49m\u001b[43margs\u001b[49m\u001b[43m,\u001b[49m\u001b[43m \u001b[49m\u001b[38;5;241;43m*\u001b[39;49m\u001b[38;5;241;43m*\u001b[39;49m\u001b[43mkwargs\u001b[49m\u001b[43m)\u001b[49m\n\u001b[1;32m   1749\u001b[0m result \u001b[38;5;241m=\u001b[39m \u001b[38;5;28;01mNone\u001b[39;00m\n\u001b[1;32m   1750\u001b[0m called_always_called_hooks \u001b[38;5;241m=\u001b[39m \u001b[38;5;28mset\u001b[39m()\n",
      "File \u001b[0;32m~/anaconda3/envs/cpk/lib/python3.13/site-packages/kan/MultKAN.py:800\u001b[0m, in \u001b[0;36mMultKAN.forward\u001b[0;34m(self, x, singularity_avoiding, y_th)\u001b[0m\n\u001b[1;32m    796\u001b[0m \u001b[38;5;28mself\u001b[39m\u001b[38;5;241m.\u001b[39macts\u001b[38;5;241m.\u001b[39mappend(x)  \u001b[38;5;66;03m# acts shape: (batch, width[l])\u001b[39;00m\n\u001b[1;32m    798\u001b[0m \u001b[38;5;28;01mfor\u001b[39;00m l \u001b[38;5;129;01min\u001b[39;00m \u001b[38;5;28mrange\u001b[39m(\u001b[38;5;28mself\u001b[39m\u001b[38;5;241m.\u001b[39mdepth):\n\u001b[0;32m--> 800\u001b[0m     x_numerical, preacts, postacts_numerical, postspline \u001b[38;5;241m=\u001b[39m \u001b[38;5;28;43mself\u001b[39;49m\u001b[38;5;241;43m.\u001b[39;49m\u001b[43mact_fun\u001b[49m\u001b[43m[\u001b[49m\u001b[43ml\u001b[49m\u001b[43m]\u001b[49m\u001b[43m(\u001b[49m\u001b[43mx\u001b[49m\u001b[43m)\u001b[49m\n\u001b[1;32m    801\u001b[0m     \u001b[38;5;66;03m#print(preacts, postacts_numerical, postspline)\u001b[39;00m\n\u001b[1;32m    803\u001b[0m     \u001b[38;5;28;01mif\u001b[39;00m \u001b[38;5;28mself\u001b[39m\u001b[38;5;241m.\u001b[39msymbolic_enabled \u001b[38;5;241m==\u001b[39m \u001b[38;5;28;01mTrue\u001b[39;00m:\n",
      "File \u001b[0;32m~/anaconda3/envs/cpk/lib/python3.13/site-packages/torch/nn/modules/module.py:1736\u001b[0m, in \u001b[0;36mModule._wrapped_call_impl\u001b[0;34m(self, *args, **kwargs)\u001b[0m\n\u001b[1;32m   1734\u001b[0m     \u001b[38;5;28;01mreturn\u001b[39;00m \u001b[38;5;28mself\u001b[39m\u001b[38;5;241m.\u001b[39m_compiled_call_impl(\u001b[38;5;241m*\u001b[39margs, \u001b[38;5;241m*\u001b[39m\u001b[38;5;241m*\u001b[39mkwargs)  \u001b[38;5;66;03m# type: ignore[misc]\u001b[39;00m\n\u001b[1;32m   1735\u001b[0m \u001b[38;5;28;01melse\u001b[39;00m:\n\u001b[0;32m-> 1736\u001b[0m     \u001b[38;5;28;01mreturn\u001b[39;00m \u001b[38;5;28;43mself\u001b[39;49m\u001b[38;5;241;43m.\u001b[39;49m\u001b[43m_call_impl\u001b[49m\u001b[43m(\u001b[49m\u001b[38;5;241;43m*\u001b[39;49m\u001b[43margs\u001b[49m\u001b[43m,\u001b[49m\u001b[43m \u001b[49m\u001b[38;5;241;43m*\u001b[39;49m\u001b[38;5;241;43m*\u001b[39;49m\u001b[43mkwargs\u001b[49m\u001b[43m)\u001b[49m\n",
      "File \u001b[0;32m~/anaconda3/envs/cpk/lib/python3.13/site-packages/torch/nn/modules/module.py:1747\u001b[0m, in \u001b[0;36mModule._call_impl\u001b[0;34m(self, *args, **kwargs)\u001b[0m\n\u001b[1;32m   1742\u001b[0m \u001b[38;5;66;03m# If we don't have any hooks, we want to skip the rest of the logic in\u001b[39;00m\n\u001b[1;32m   1743\u001b[0m \u001b[38;5;66;03m# this function, and just call forward.\u001b[39;00m\n\u001b[1;32m   1744\u001b[0m \u001b[38;5;28;01mif\u001b[39;00m \u001b[38;5;129;01mnot\u001b[39;00m (\u001b[38;5;28mself\u001b[39m\u001b[38;5;241m.\u001b[39m_backward_hooks \u001b[38;5;129;01mor\u001b[39;00m \u001b[38;5;28mself\u001b[39m\u001b[38;5;241m.\u001b[39m_backward_pre_hooks \u001b[38;5;129;01mor\u001b[39;00m \u001b[38;5;28mself\u001b[39m\u001b[38;5;241m.\u001b[39m_forward_hooks \u001b[38;5;129;01mor\u001b[39;00m \u001b[38;5;28mself\u001b[39m\u001b[38;5;241m.\u001b[39m_forward_pre_hooks\n\u001b[1;32m   1745\u001b[0m         \u001b[38;5;129;01mor\u001b[39;00m _global_backward_pre_hooks \u001b[38;5;129;01mor\u001b[39;00m _global_backward_hooks\n\u001b[1;32m   1746\u001b[0m         \u001b[38;5;129;01mor\u001b[39;00m _global_forward_hooks \u001b[38;5;129;01mor\u001b[39;00m _global_forward_pre_hooks):\n\u001b[0;32m-> 1747\u001b[0m     \u001b[38;5;28;01mreturn\u001b[39;00m \u001b[43mforward_call\u001b[49m\u001b[43m(\u001b[49m\u001b[38;5;241;43m*\u001b[39;49m\u001b[43margs\u001b[49m\u001b[43m,\u001b[49m\u001b[43m \u001b[49m\u001b[38;5;241;43m*\u001b[39;49m\u001b[38;5;241;43m*\u001b[39;49m\u001b[43mkwargs\u001b[49m\u001b[43m)\u001b[49m\n\u001b[1;32m   1749\u001b[0m result \u001b[38;5;241m=\u001b[39m \u001b[38;5;28;01mNone\u001b[39;00m\n\u001b[1;32m   1750\u001b[0m called_always_called_hooks \u001b[38;5;241m=\u001b[39m \u001b[38;5;28mset\u001b[39m()\n",
      "File \u001b[0;32m~/anaconda3/envs/cpk/lib/python3.13/site-packages/kan/KANLayer.py:157\u001b[0m, in \u001b[0;36mKANLayer.forward\u001b[0;34m(self, x)\u001b[0m\n\u001b[1;32m    154\u001b[0m preacts \u001b[38;5;241m=\u001b[39m x[:,\u001b[38;5;28;01mNone\u001b[39;00m,:]\u001b[38;5;241m.\u001b[39mclone()\u001b[38;5;241m.\u001b[39mexpand(batch, \u001b[38;5;28mself\u001b[39m\u001b[38;5;241m.\u001b[39mout_dim, \u001b[38;5;28mself\u001b[39m\u001b[38;5;241m.\u001b[39min_dim)\n\u001b[1;32m    156\u001b[0m base \u001b[38;5;241m=\u001b[39m \u001b[38;5;28mself\u001b[39m\u001b[38;5;241m.\u001b[39mbase_fun(x) \u001b[38;5;66;03m# (batch, in_dim)\u001b[39;00m\n\u001b[0;32m--> 157\u001b[0m y \u001b[38;5;241m=\u001b[39m \u001b[43mcoef2curve\u001b[49m\u001b[43m(\u001b[49m\u001b[43mx_eval\u001b[49m\u001b[38;5;241;43m=\u001b[39;49m\u001b[43mx\u001b[49m\u001b[43m,\u001b[49m\u001b[43m \u001b[49m\u001b[43mgrid\u001b[49m\u001b[38;5;241;43m=\u001b[39;49m\u001b[38;5;28;43mself\u001b[39;49m\u001b[38;5;241;43m.\u001b[39;49m\u001b[43mgrid\u001b[49m\u001b[43m,\u001b[49m\u001b[43m \u001b[49m\u001b[43mcoef\u001b[49m\u001b[38;5;241;43m=\u001b[39;49m\u001b[38;5;28;43mself\u001b[39;49m\u001b[38;5;241;43m.\u001b[39;49m\u001b[43mcoef\u001b[49m\u001b[43m,\u001b[49m\u001b[43m \u001b[49m\u001b[43mk\u001b[49m\u001b[38;5;241;43m=\u001b[39;49m\u001b[38;5;28;43mself\u001b[39;49m\u001b[38;5;241;43m.\u001b[39;49m\u001b[43mk\u001b[49m\u001b[43m)\u001b[49m\n\u001b[1;32m    159\u001b[0m postspline \u001b[38;5;241m=\u001b[39m y\u001b[38;5;241m.\u001b[39mclone()\u001b[38;5;241m.\u001b[39mpermute(\u001b[38;5;241m0\u001b[39m,\u001b[38;5;241m2\u001b[39m,\u001b[38;5;241m1\u001b[39m)\n\u001b[1;32m    161\u001b[0m y \u001b[38;5;241m=\u001b[39m \u001b[38;5;28mself\u001b[39m\u001b[38;5;241m.\u001b[39mscale_base[\u001b[38;5;28;01mNone\u001b[39;00m,:,:] \u001b[38;5;241m*\u001b[39m base[:,:,\u001b[38;5;28;01mNone\u001b[39;00m] \u001b[38;5;241m+\u001b[39m \u001b[38;5;28mself\u001b[39m\u001b[38;5;241m.\u001b[39mscale_sp[\u001b[38;5;28;01mNone\u001b[39;00m,:,:] \u001b[38;5;241m*\u001b[39m y\n",
      "File \u001b[0;32m~/anaconda3/envs/cpk/lib/python3.13/site-packages/kan/spline.py:75\u001b[0m, in \u001b[0;36mcoef2curve\u001b[0;34m(x_eval, grid, coef, k, device)\u001b[0m\n\u001b[1;32m     51\u001b[0m \u001b[38;5;28;01mdef\u001b[39;00m\u001b[38;5;250m \u001b[39m\u001b[38;5;21mcoef2curve\u001b[39m(x_eval, grid, coef, k, device\u001b[38;5;241m=\u001b[39m\u001b[38;5;124m\"\u001b[39m\u001b[38;5;124mcpu\u001b[39m\u001b[38;5;124m\"\u001b[39m):\n\u001b[1;32m     52\u001b[0m \u001b[38;5;250m    \u001b[39m\u001b[38;5;124;03m'''\u001b[39;00m\n\u001b[1;32m     53\u001b[0m \u001b[38;5;124;03m    converting B-spline coefficients to B-spline curves. Evaluate x on B-spline curves (summing up B_batch results over B-spline basis).\u001b[39;00m\n\u001b[1;32m     54\u001b[0m \u001b[38;5;124;03m    \u001b[39;00m\n\u001b[0;32m   (...)\u001b[0m\n\u001b[1;32m     72\u001b[0m \u001b[38;5;124;03m        \u001b[39;00m\n\u001b[1;32m     73\u001b[0m \u001b[38;5;124;03m    '''\u001b[39;00m\n\u001b[0;32m---> 75\u001b[0m     b_splines \u001b[38;5;241m=\u001b[39m \u001b[43mB_batch\u001b[49m\u001b[43m(\u001b[49m\u001b[43mx_eval\u001b[49m\u001b[43m,\u001b[49m\u001b[43m \u001b[49m\u001b[43mgrid\u001b[49m\u001b[43m,\u001b[49m\u001b[43m \u001b[49m\u001b[43mk\u001b[49m\u001b[38;5;241;43m=\u001b[39;49m\u001b[43mk\u001b[49m\u001b[43m)\u001b[49m\n\u001b[1;32m     76\u001b[0m     y_eval \u001b[38;5;241m=\u001b[39m torch\u001b[38;5;241m.\u001b[39meinsum(\u001b[38;5;124m'\u001b[39m\u001b[38;5;124mijk,jlk->ijl\u001b[39m\u001b[38;5;124m'\u001b[39m, b_splines, coef\u001b[38;5;241m.\u001b[39mto(b_splines\u001b[38;5;241m.\u001b[39mdevice))\n\u001b[1;32m     78\u001b[0m     \u001b[38;5;28;01mreturn\u001b[39;00m y_eval\n",
      "File \u001b[0;32m~/anaconda3/envs/cpk/lib/python3.13/site-packages/kan/spline.py:40\u001b[0m, in \u001b[0;36mB_batch\u001b[0;34m(x, grid, k, extend, device)\u001b[0m\n\u001b[1;32m     38\u001b[0m     value \u001b[38;5;241m=\u001b[39m (x \u001b[38;5;241m>\u001b[39m\u001b[38;5;241m=\u001b[39m grid[:, :, :\u001b[38;5;241m-\u001b[39m\u001b[38;5;241m1\u001b[39m]) \u001b[38;5;241m*\u001b[39m (x \u001b[38;5;241m<\u001b[39m grid[:, :, \u001b[38;5;241m1\u001b[39m:])\n\u001b[1;32m     39\u001b[0m \u001b[38;5;28;01melse\u001b[39;00m:\n\u001b[0;32m---> 40\u001b[0m     B_km1 \u001b[38;5;241m=\u001b[39m \u001b[43mB_batch\u001b[49m\u001b[43m(\u001b[49m\u001b[43mx\u001b[49m\u001b[43m[\u001b[49m\u001b[43m:\u001b[49m\u001b[43m,\u001b[49m\u001b[43m:\u001b[49m\u001b[43m,\u001b[49m\u001b[38;5;241;43m0\u001b[39;49m\u001b[43m]\u001b[49m\u001b[43m,\u001b[49m\u001b[43m \u001b[49m\u001b[43mgrid\u001b[49m\u001b[38;5;241;43m=\u001b[39;49m\u001b[43mgrid\u001b[49m\u001b[43m[\u001b[49m\u001b[38;5;241;43m0\u001b[39;49m\u001b[43m]\u001b[49m\u001b[43m,\u001b[49m\u001b[43m \u001b[49m\u001b[43mk\u001b[49m\u001b[38;5;241;43m=\u001b[39;49m\u001b[43mk\u001b[49m\u001b[43m \u001b[49m\u001b[38;5;241;43m-\u001b[39;49m\u001b[43m \u001b[49m\u001b[38;5;241;43m1\u001b[39;49m\u001b[43m)\u001b[49m\n\u001b[1;32m     42\u001b[0m     value \u001b[38;5;241m=\u001b[39m (x \u001b[38;5;241m-\u001b[39m grid[:, :, :\u001b[38;5;241m-\u001b[39m(k \u001b[38;5;241m+\u001b[39m \u001b[38;5;241m1\u001b[39m)]) \u001b[38;5;241m/\u001b[39m (grid[:, :, k:\u001b[38;5;241m-\u001b[39m\u001b[38;5;241m1\u001b[39m] \u001b[38;5;241m-\u001b[39m grid[:, :, :\u001b[38;5;241m-\u001b[39m(k \u001b[38;5;241m+\u001b[39m \u001b[38;5;241m1\u001b[39m)]) \u001b[38;5;241m*\u001b[39m B_km1[:, :, :\u001b[38;5;241m-\u001b[39m\u001b[38;5;241m1\u001b[39m] \u001b[38;5;241m+\u001b[39m (\n\u001b[1;32m     43\u001b[0m                 grid[:, :, k \u001b[38;5;241m+\u001b[39m \u001b[38;5;241m1\u001b[39m:] \u001b[38;5;241m-\u001b[39m x) \u001b[38;5;241m/\u001b[39m (grid[:, :, k \u001b[38;5;241m+\u001b[39m \u001b[38;5;241m1\u001b[39m:] \u001b[38;5;241m-\u001b[39m grid[:, :, \u001b[38;5;241m1\u001b[39m:(\u001b[38;5;241m-\u001b[39mk)]) \u001b[38;5;241m*\u001b[39m B_km1[:, :, \u001b[38;5;241m1\u001b[39m:]\n\u001b[1;32m     45\u001b[0m \u001b[38;5;66;03m# in case grid is degenerate\u001b[39;00m\n",
      "File \u001b[0;32m~/anaconda3/envs/cpk/lib/python3.13/site-packages/kan/spline.py:46\u001b[0m, in \u001b[0;36mB_batch\u001b[0;34m(x, grid, k, extend, device)\u001b[0m\n\u001b[1;32m     42\u001b[0m     value \u001b[38;5;241m=\u001b[39m (x \u001b[38;5;241m-\u001b[39m grid[:, :, :\u001b[38;5;241m-\u001b[39m(k \u001b[38;5;241m+\u001b[39m \u001b[38;5;241m1\u001b[39m)]) \u001b[38;5;241m/\u001b[39m (grid[:, :, k:\u001b[38;5;241m-\u001b[39m\u001b[38;5;241m1\u001b[39m] \u001b[38;5;241m-\u001b[39m grid[:, :, :\u001b[38;5;241m-\u001b[39m(k \u001b[38;5;241m+\u001b[39m \u001b[38;5;241m1\u001b[39m)]) \u001b[38;5;241m*\u001b[39m B_km1[:, :, :\u001b[38;5;241m-\u001b[39m\u001b[38;5;241m1\u001b[39m] \u001b[38;5;241m+\u001b[39m (\n\u001b[1;32m     43\u001b[0m                 grid[:, :, k \u001b[38;5;241m+\u001b[39m \u001b[38;5;241m1\u001b[39m:] \u001b[38;5;241m-\u001b[39m x) \u001b[38;5;241m/\u001b[39m (grid[:, :, k \u001b[38;5;241m+\u001b[39m \u001b[38;5;241m1\u001b[39m:] \u001b[38;5;241m-\u001b[39m grid[:, :, \u001b[38;5;241m1\u001b[39m:(\u001b[38;5;241m-\u001b[39mk)]) \u001b[38;5;241m*\u001b[39m B_km1[:, :, \u001b[38;5;241m1\u001b[39m:]\n\u001b[1;32m     45\u001b[0m \u001b[38;5;66;03m# in case grid is degenerate\u001b[39;00m\n\u001b[0;32m---> 46\u001b[0m value \u001b[38;5;241m=\u001b[39m \u001b[43mtorch\u001b[49m\u001b[38;5;241;43m.\u001b[39;49m\u001b[43mnan_to_num\u001b[49m\u001b[43m(\u001b[49m\u001b[43mvalue\u001b[49m\u001b[43m)\u001b[49m\n\u001b[1;32m     47\u001b[0m \u001b[38;5;28;01mreturn\u001b[39;00m value\n",
      "\u001b[0;31mKeyboardInterrupt\u001b[0m: "
     ]
    }
   ],
   "source": [
    "torch_random_generator = torch.Generator().manual_seed(options['random_seed'])\n",
    "\n",
    "bootstrapped_models = []\n",
    "loss_dicts = []\n",
    "\n",
    "for i in range(options['num_bootstrap_samples']):\n",
    "    print('-'*100, f'\\nTraining bootstrapped model {i+1}/{options[\"num_bootstrap_samples\"]}')\n",
    "    bootstrap_sample_indices = torch.randint(low=0, high=X_train_scaled.shape[0], \n",
    "                                             size=(X_train_scaled.shape[0],), \n",
    "                                            generator=torch_random_generator)\n",
    "\n",
    "    X_train_bootstrap = X_train_scaled[bootstrap_sample_indices]\n",
    "    y_train_bootstrap = y_train[bootstrap_sample_indices]\n",
    "\n",
    "    bootstrapped_model = KAN(width=[num_features, 1], seed=options['random_seed'] + i, auto_save=False)\n",
    "\n",
    "    loss_dict = train_regression(bootstrapped_model, X_train_bootstrap, y_train_bootstrap, X_test_scaled, y_test,\n",
    "                                  num_itrs=options['num_train_iterations'])\n",
    "\n",
    "    bootstrapped_models.append(bootstrapped_model)"
   ]
  },
  {
   "cell_type": "code",
   "execution_count": 163,
   "metadata": {},
   "outputs": [],
   "source": [
    "# this is dumb. Make prettier later\n",
    "class BagOfKans():\n",
    "    def __init__(self, models):\n",
    "        self.models = models\n",
    "    \n",
    "    def __call__(self, X):\n",
    "        return torch.stack([bootstrapped_model(X)[:, 0] for bootstrapped_model in bootstrapped_models], dim=0).mean(dim=0)"
   ]
  },
  {
   "cell_type": "markdown",
   "metadata": {},
   "source": [
    "# Compare Performance"
   ]
  },
  {
   "cell_type": "code",
   "execution_count": 164,
   "metadata": {},
   "outputs": [],
   "source": [
    "y_pred_train_single = single_model(X_train_scaled)[:, 0].detach().numpy()\n",
    "y_pred_test_single = single_model(X_test_scaled)[:, 0].detach().numpy()"
   ]
  },
  {
   "cell_type": "code",
   "execution_count": 165,
   "metadata": {},
   "outputs": [],
   "source": [
    "bag_of_kans = BagOfKans(bootstrapped_models)\n",
    "\n",
    "y_pred_train_bok = bag_of_kans(X_train_scaled).detach().numpy()\n",
    "y_pred_test_bok = bag_of_kans(X_test_scaled).detach().numpy()"
   ]
  },
  {
   "cell_type": "code",
   "execution_count": 166,
   "metadata": {},
   "outputs": [
    {
     "data": {
      "text/plain": [
       "{'R2': 0.9654132723808289,\n",
       " 'MSE': 0.13101594150066376,\n",
       " 'MAE': 0.2777465283870697,\n",
       " 'MAPE': 892679356416.0,\n",
       " 'RMSE': 0.3619612455368042}"
      ]
     },
     "execution_count": 166,
     "metadata": {},
     "output_type": "execute_result"
    }
   ],
   "source": [
    "regression_report(y_train, y_pred_train_single)"
   ]
  },
  {
   "cell_type": "code",
   "execution_count": 167,
   "metadata": {},
   "outputs": [
    {
     "data": {
      "text/plain": [
       "{'R2': 0.9607968330383301,\n",
       " 'MSE': 0.14850324392318726,\n",
       " 'MAE': 0.2864103317260742,\n",
       " 'MAPE': 1322044882944.0,\n",
       " 'RMSE': 0.3853611946105957}"
      ]
     },
     "execution_count": 167,
     "metadata": {},
     "output_type": "execute_result"
    }
   ],
   "source": [
    "regression_report(y_train, y_pred_train_bok)"
   ]
  },
  {
   "cell_type": "code",
   "execution_count": 168,
   "metadata": {},
   "outputs": [
    {
     "data": {
      "text/plain": [
       "{'R2': 0.8893250823020935,\n",
       " 'MSE': 0.6783104538917542,\n",
       " 'MAE': 0.5960142612457275,\n",
       " 'MAPE': 0.27880141139030457,\n",
       " 'RMSE': 0.8235960602760315}"
      ]
     },
     "execution_count": 168,
     "metadata": {},
     "output_type": "execute_result"
    }
   ],
   "source": [
    "regression_report(y_test, y_pred_test_single)"
   ]
  },
  {
   "cell_type": "code",
   "execution_count": 169,
   "metadata": {},
   "outputs": [
    {
     "data": {
      "text/plain": [
       "{'R2': 0.9007682204246521,\n",
       " 'MSE': 0.6081770658493042,\n",
       " 'MAE': 0.5842803716659546,\n",
       " 'MAPE': 0.2572971284389496,\n",
       " 'RMSE': 0.7798570990562439}"
      ]
     },
     "execution_count": 169,
     "metadata": {},
     "output_type": "execute_result"
    }
   ],
   "source": [
    "regression_report(y_test, y_pred_test_bok)"
   ]
  }
 ],
 "metadata": {
  "kernelspec": {
   "display_name": "cpk",
   "language": "python",
   "name": "python3"
  },
  "language_info": {
   "codemirror_mode": {
    "name": "ipython",
    "version": 3
   },
   "file_extension": ".py",
   "mimetype": "text/x-python",
   "name": "python",
   "nbconvert_exporter": "python",
   "pygments_lexer": "ipython3",
   "version": "3.13.1"
  }
 },
 "nbformat": 4,
 "nbformat_minor": 2
}
